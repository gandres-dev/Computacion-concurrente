{
 "cells": [
  {
   "cell_type": "markdown",
   "id": "659a1535",
   "metadata": {},
   "source": [
    "# Creación de procesos heredando de multiprocessing.Process"
   ]
  },
  {
   "cell_type": "code",
   "execution_count": 10,
   "id": "15143e15",
   "metadata": {},
   "outputs": [],
   "source": [
    "import multiprocessing\n",
    "import os\n",
    "\n",
    "class MiProceso(multiprocessing.Process):\n",
    "    \"\"\"Creación de un objeto Process personalizado\"\"\"\n",
    "    \n",
    "    def __init__(self, name):\n",
    "        \"\"\"Inicializa los atributos de mi proceso\n",
    "        \n",
    "        Arguments:\n",
    "        name -- una cadena que representa el nombre del proceso\n",
    "        \"\"\"\n",
    "        Process.__init__(self)\n",
    "        self.name = name\n",
    "    \n",
    "    def saludar(self):\n",
    "        \"\"\"Manda un saludo e imprime el ID del proceso\"\"\"\n",
    "        print(\"Hola, soy {} y tengo el ID {}\".format(self.name, os.getpid()))\n",
    "    \n",
    "    def run(self):\n",
    "        \"\"\"Metodo que indicará que tarea hará el proceso\"\"\"\n",
    "        self.saludar()        "
   ]
  },
  {
   "cell_type": "code",
   "execution_count": 11,
   "id": "a551b922",
   "metadata": {},
   "outputs": [
    {
     "name": "stdout",
     "output_type": "stream",
     "text": [
      "Soy el proceso padre con ID 16802\n"
     ]
    },
    {
     "ename": "NameError",
     "evalue": "name 'Process' is not defined",
     "output_type": "error",
     "traceback": [
      "\u001b[0;31m---------------------------------------------------------------------------\u001b[0m",
      "\u001b[0;31mNameError\u001b[0m                                 Traceback (most recent call last)",
      "\u001b[0;32m<ipython-input-11-c620f15965b0>\u001b[0m in \u001b[0;36m<module>\u001b[0;34m\u001b[0m\n\u001b[1;32m     14\u001b[0m \u001b[0;32mif\u001b[0m \u001b[0m__name__\u001b[0m \u001b[0;34m==\u001b[0m \u001b[0;34m\"__main__\"\u001b[0m\u001b[0;34m:\u001b[0m\u001b[0;34m\u001b[0m\u001b[0;34m\u001b[0m\u001b[0m\n\u001b[1;32m     15\u001b[0m     \u001b[0mprint\u001b[0m\u001b[0;34m(\u001b[0m\u001b[0;34m\"Soy el proceso padre con ID {}\"\u001b[0m\u001b[0;34m.\u001b[0m\u001b[0mformat\u001b[0m\u001b[0;34m(\u001b[0m\u001b[0mos\u001b[0m\u001b[0;34m.\u001b[0m\u001b[0mgetpid\u001b[0m\u001b[0;34m(\u001b[0m\u001b[0;34m)\u001b[0m\u001b[0;34m)\u001b[0m\u001b[0;34m)\u001b[0m\u001b[0;34m\u001b[0m\u001b[0;34m\u001b[0m\u001b[0m\n\u001b[0;32m---> 16\u001b[0;31m     \u001b[0mmain\u001b[0m\u001b[0;34m(\u001b[0m\u001b[0;34m)\u001b[0m\u001b[0;34m\u001b[0m\u001b[0;34m\u001b[0m\u001b[0m\n\u001b[0m\u001b[1;32m     17\u001b[0m     \u001b[0mprint\u001b[0m\u001b[0;34m(\u001b[0m\u001b[0;34m\"Fin del proceso padre.\"\u001b[0m\u001b[0;34m)\u001b[0m\u001b[0;34m\u001b[0m\u001b[0;34m\u001b[0m\u001b[0m\n",
      "\u001b[0;32m<ipython-input-11-c620f15965b0>\u001b[0m in \u001b[0;36mmain\u001b[0;34m()\u001b[0m\n\u001b[1;32m      4\u001b[0m     \u001b[0;31m# Arrancamos nuestros procesos\u001b[0m\u001b[0;34m\u001b[0m\u001b[0;34m\u001b[0m\u001b[0;34m\u001b[0m\u001b[0m\n\u001b[1;32m      5\u001b[0m     \u001b[0;32mfor\u001b[0m \u001b[0mi\u001b[0m\u001b[0;34m,\u001b[0m \u001b[0mnombre\u001b[0m \u001b[0;32min\u001b[0m \u001b[0menumerate\u001b[0m\u001b[0;34m(\u001b[0m\u001b[0mnombres\u001b[0m\u001b[0;34m)\u001b[0m\u001b[0;34m:\u001b[0m\u001b[0;34m\u001b[0m\u001b[0;34m\u001b[0m\u001b[0m\n\u001b[0;32m----> 6\u001b[0;31m         \u001b[0mmi_proceso\u001b[0m \u001b[0;34m=\u001b[0m \u001b[0mMiProceso\u001b[0m\u001b[0;34m(\u001b[0m\u001b[0mnombre\u001b[0m\u001b[0;34m)\u001b[0m\u001b[0;34m\u001b[0m\u001b[0;34m\u001b[0m\u001b[0m\n\u001b[0m\u001b[1;32m      7\u001b[0m         \u001b[0mprocesos\u001b[0m\u001b[0;34m.\u001b[0m\u001b[0mappend\u001b[0m\u001b[0;34m(\u001b[0m\u001b[0mmi_proceso\u001b[0m\u001b[0;34m)\u001b[0m\u001b[0;34m\u001b[0m\u001b[0;34m\u001b[0m\u001b[0m\n\u001b[1;32m      8\u001b[0m         \u001b[0mprocesos\u001b[0m\u001b[0;34m[\u001b[0m\u001b[0mi\u001b[0m\u001b[0;34m]\u001b[0m\u001b[0;34m.\u001b[0m\u001b[0mstart\u001b[0m\u001b[0;34m(\u001b[0m\u001b[0;34m)\u001b[0m\u001b[0;34m\u001b[0m\u001b[0;34m\u001b[0m\u001b[0m\n",
      "\u001b[0;32m<ipython-input-10-d42d903bd8fc>\u001b[0m in \u001b[0;36m__init__\u001b[0;34m(self, name)\u001b[0m\n\u001b[1;32m     11\u001b[0m         \u001b[0mname\u001b[0m \u001b[0;34m-\u001b[0m\u001b[0;34m-\u001b[0m \u001b[0muna\u001b[0m \u001b[0mcadena\u001b[0m \u001b[0mque\u001b[0m \u001b[0mrepresenta\u001b[0m \u001b[0mel\u001b[0m \u001b[0mnombre\u001b[0m \u001b[0;32mdel\u001b[0m \u001b[0mproceso\u001b[0m\u001b[0;34m\u001b[0m\u001b[0;34m\u001b[0m\u001b[0m\n\u001b[1;32m     12\u001b[0m         \"\"\"\n\u001b[0;32m---> 13\u001b[0;31m         \u001b[0mProcess\u001b[0m\u001b[0;34m.\u001b[0m\u001b[0m__init__\u001b[0m\u001b[0;34m(\u001b[0m\u001b[0mself\u001b[0m\u001b[0;34m)\u001b[0m\u001b[0;34m\u001b[0m\u001b[0;34m\u001b[0m\u001b[0m\n\u001b[0m\u001b[1;32m     14\u001b[0m         \u001b[0mself\u001b[0m\u001b[0;34m.\u001b[0m\u001b[0mname\u001b[0m \u001b[0;34m=\u001b[0m \u001b[0mname\u001b[0m\u001b[0;34m\u001b[0m\u001b[0;34m\u001b[0m\u001b[0m\n\u001b[1;32m     15\u001b[0m \u001b[0;34m\u001b[0m\u001b[0m\n",
      "\u001b[0;31mNameError\u001b[0m: name 'Process' is not defined"
     ]
    }
   ],
   "source": [
    "def main():\n",
    "    nombres = [\"Juan\", \"Maria\", \"Pablo\", \"Jose\", \"Pedro\"]\n",
    "    procesos = []\n",
    "    # Arrancamos nuestros procesos\n",
    "    for i, nombre in enumerate(nombres):\n",
    "        mi_proceso = MiProceso(nombre)\n",
    "        procesos.append(mi_proceso)\n",
    "        procesos[i].start()\n",
    "\n",
    "    # Esperamos a que termine cada proceso\n",
    "    for proceso in procesos:\n",
    "        proceso.join()\n",
    "\n",
    "if __name__ == \"__main__\":\n",
    "    print(\"Soy el proceso padre con ID {}\".format(os.getpid()))\n",
    "    main()\n",
    "    print(\"Fin del proceso padre.\")"
   ]
  },
  {
   "cell_type": "markdown",
   "id": "df38368f",
   "metadata": {},
   "source": [
    "Cuando es llamado el metodo start, internamente llama al metodo run del proceso iniciando así la tarea que hara el proceso,"
   ]
  },
  {
   "cell_type": "code",
   "execution_count": 11,
   "id": "b30d4412",
   "metadata": {},
   "outputs": [
    {
     "name": "stdout",
     "output_type": "stream",
     "text": [
      "Hello, world!\n"
     ]
    }
   ],
   "source": [
    "from multiprocessing import Process\n",
    "class ConcurrentProcess(Process):\n",
    "    \n",
    "    def say_hello(self, name):\n",
    "        print(\"Hello, %s!\" % name)\n",
    "    \n",
    "    def run(self):\n",
    "        self.say_hello(\"world\")\n",
    "if __name__ == \"__main__\":\n",
    "    p = ConcurrentProcess()\n",
    "    p.start()\n",
    "    p.join()"
   ]
  }
 ],
 "metadata": {
  "kernelspec": {
   "display_name": "Python 3",
   "language": "python",
   "name": "python3"
  },
  "language_info": {
   "codemirror_mode": {
    "name": "ipython",
    "version": 3
   },
   "file_extension": ".py",
   "mimetype": "text/x-python",
   "name": "python",
   "nbconvert_exporter": "python",
   "pygments_lexer": "ipython3",
   "version": "3.8.8"
  }
 },
 "nbformat": 4,
 "nbformat_minor": 5
}
