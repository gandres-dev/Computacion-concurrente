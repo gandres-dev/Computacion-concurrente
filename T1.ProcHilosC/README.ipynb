{
 "cells": [
  {
   "cell_type": "markdown",
   "id": "19f56834",
   "metadata": {},
   "source": [
    "# Programación concurrente\n",
    "\n",
    "## Creación de procesos en C\n",
    "\n",
    "Crearemos nuestro primer hola mundo de la concurrencia:"
   ]
  },
  {
   "cell_type": "code",
   "execution_count": 1,
   "id": "e96dac5e",
   "metadata": {},
   "outputs": [
    {
     "name": "stdout",
     "output_type": "stream",
     "text": [
      "Writing Hola-mundo-concurrencia/main.c\n"
     ]
    }
   ],
   "source": [
    "%%writefile Hola-mundo-concurrencia/main.c\n",
    "\n",
    "#include <stdio.h>\n",
    "#include <sys/types.h>\n",
    "#include <unistd.h>\n",
    "\n",
    "int main() {\n",
    "    int pid;\n",
    "    // Creacion de un proceso\n",
    "    pid = fork();\n",
    "    printf(\"ID proceso: %d\\n\", pid);\n",
    "    if (pid)\n",
    "         printf(\"Hola soy el proceso padre!!\\n\");\n",
    "    else        \n",
    "        printf(\"Hola soy el proceso hijo!\\n\");\n",
    "    return 0;\n",
    "} "
   ]
  },
  {
   "cell_type": "code",
   "execution_count": 5,
   "id": "293f1e1b",
   "metadata": {},
   "outputs": [
    {
     "name": "stdout",
     "output_type": "stream",
     "text": [
      "ID proceso: 51416\n",
      "Hola soy el proceso padre!!\n",
      "ID proceso: 0\n",
      "Hola soy el proceso hijo!\n"
     ]
    }
   ],
   "source": [
    "%%script bash\n",
    "gcc Hola-mundo-concurrencia/main.c -o Hola-mundo-concurrencia/main.out\n",
    "\n",
    "./Hola-mundo-concurrencia/main.out"
   ]
  },
  {
   "cell_type": "markdown",
   "id": "40cac769",
   "metadata": {},
   "source": [
    "---"
   ]
  },
  {
   "cell_type": "markdown",
   "id": "5a401255",
   "metadata": {},
   "source": [
    "### Fork 1\n",
    "\n",
    "Para la creación de procesos utilizaremos la llamada al sistema `fork()`.\n",
    "\n",
    "Al llamar la funcion `fork`nos devolvera un entero que puede tener los siguientes valores:\n",
    "- Devuelve 0 al proceso hijo\n",
    "- Devuelve -1 si la operacion falla.\n",
    "- Devuelve id del proceso hijo al proceso padre"
   ]
  },
  {
   "cell_type": "code",
   "execution_count": 10,
   "id": "eebc1610",
   "metadata": {},
   "outputs": [
    {
     "name": "stdout",
     "output_type": "stream",
     "text": [
      "Overwriting 1-fork1/fork1.c\n"
     ]
    }
   ],
   "source": [
    "%%writefile 1-fork1/fork1.c\n",
    "\n",
    "#include <stdio.h>\n",
    "#include <sys/types.h>\n",
    "#include <unistd.h>\n",
    "\n",
    "int main(void){\n",
    "\n",
    "    int fpid;\n",
    "\n",
    "    fpid = fork();\n",
    "\n",
    "    printf(\"ID del proceso: %d\\n\", fpid);\n",
    "\n",
    "    if (fpid == 0)\n",
    "        // se crea el proceso hijo\n",
    "        printf(\"Proceso hijo \\n\" );\n",
    "    else\n",
    "        // ejecuta la continuación del proceso padre\n",
    "        printf(\"Proceso padre \\n\");\n",
    "\n",
    "\n",
    "    return(0);\n",
    "\n",
    "}"
   ]
  },
  {
   "cell_type": "code",
   "execution_count": 14,
   "id": "88cbc997",
   "metadata": {},
   "outputs": [
    {
     "name": "stdout",
     "output_type": "stream",
     "text": [
      "ID del proceso: 52415\n",
      "Proceso padre \n",
      "ID del proceso: 0\n",
      "Proceso hijo \n"
     ]
    }
   ],
   "source": [
    "%%script bash\n",
    "gcc ./1-fork1/fork1.c -o 1-fork1/fork1.out\n",
    "./1-fork1/fork1.out"
   ]
  },
  {
   "cell_type": "markdown",
   "id": "dedf62df",
   "metadata": {},
   "source": [
    "----\n",
    "## fork2\n",
    "\n",
    "Tanto el proceo padre como el hijo imprimiran un mensajen, pero cada uno durmira con diferentes cantidades de tiempo. Viendo el cambio de contexto mientras uno duerme el otro imprime el mensajes."
   ]
  },
  {
   "cell_type": "code",
   "execution_count": 13,
   "id": "0d99e6a3",
   "metadata": {},
   "outputs": [
    {
     "name": "stdout",
     "output_type": "stream",
     "text": [
      "Overwriting 2-fork2/fork2.c\n"
     ]
    }
   ],
   "source": [
    "%%writefile 2-fork2/fork2.c\n",
    "\n",
    "#include <stdio.h>\n",
    "#include <stdlib.h>\n",
    "#include <sys/types.h>\n",
    "#include <unistd.h>\n",
    "\n",
    "int main(void){\n",
    "\n",
    "    int i = 1;\n",
    "\n",
    "    switch(fork()){\n",
    "        // codigo para el error\n",
    "        case -1 :\n",
    "            perror(\"Error al crear el proceso\");\n",
    "            exit(-1);\n",
    "            break;\n",
    "\n",
    "        case 0 :\n",
    "        // codigo para el proceso hijo\n",
    "            while (i<=10){\n",
    "                sleep (1);\n",
    "                printf(\"\\t Soy el proceso hijo: %d\\n\", i++);\n",
    "            }\n",
    "            break;\n",
    "\n",
    "        default :\n",
    "        // codigo para el padre\n",
    "            while (i<=10){\n",
    "                printf(\"Soy el proceso padre: %d\\n\", i++);\n",
    "                sleep(2);\n",
    "            }\n",
    "    }\n",
    "\n",
    "    return(0);\n",
    "}"
   ]
  },
  {
   "cell_type": "code",
   "execution_count": 16,
   "id": "81f2437a",
   "metadata": {},
   "outputs": [
    {
     "name": "stdout",
     "output_type": "stream",
     "text": [
      "\t Soy el proceso hijo: 1\n",
      "\t Soy el proceso hijo: 2\n",
      "\t Soy el proceso hijo: 3\n",
      "\t Soy el proceso hijo: 4\n",
      "\t Soy el proceso hijo: 5\n",
      "\t Soy el proceso hijo: 6\n",
      "\t Soy el proceso hijo: 7\n",
      "\t Soy el proceso hijo: 8\n",
      "\t Soy el proceso hijo: 9\n",
      "\t Soy el proceso hijo: 10\n",
      "Soy el proceso padre: 1\n",
      "Soy el proceso padre: 2\n",
      "Soy el proceso padre: 3\n",
      "Soy el proceso padre: 4\n",
      "Soy el proceso padre: 5\n",
      "Soy el proceso padre: 6\n",
      "Soy el proceso padre: 7\n",
      "Soy el proceso padre: 8\n",
      "Soy el proceso padre: 9\n",
      "Soy el proceso padre: 10\n"
     ]
    }
   ],
   "source": [
    "%%script bash\n",
    "gcc ./2-fork2/fork2.c -o 2-fork2/fork2.out\n",
    "./2-fork2/fork2.out"
   ]
  },
  {
   "cell_type": "markdown",
   "id": "46f55551",
   "metadata": {},
   "source": [
    "---\n",
    "## Fork 3\n"
   ]
  },
  {
   "cell_type": "code",
   "execution_count": null,
   "id": "51ef79e2",
   "metadata": {},
   "outputs": [],
   "source": [
    "%%writefile 3-fork3/fork3.c\n",
    "\n",
    "#include <stdio.h>\n",
    "#include <sys/types.h>\n",
    "#include <unistd.h>\n",
    "\n",
    "int main (void)\n",
    "{\n",
    "  int i;\n",
    "  int padre;\n",
    "\n",
    "  padre = 1;\n",
    "  for (i=1; i <= 3; i++)\n",
    "  {\n",
    "    if (padre == 1)\n",
    "      {\n",
    "        if (fork() == 0) /* Proceso hijo */\n",
    "        {\n",
    "          printf(\" \\tEste es el proceso hijo %d, con ID: %d y padre ID: %d\\n\", i, getpid(), getppid() );\n",
    "          padre = 0;\n",
    "        }\n",
    "        else /* Proceso padre */\n",
    "        {\n",
    "          printf(\"Este es el proceso padre con ID %d\\n\", getpid() );\n",
    "          padre = 1;\n",
    "        }\n",
    "      }\n",
    "  }\n",
    "  return 0;\n",
    "}"
   ]
  },
  {
   "cell_type": "code",
   "execution_count": 18,
   "id": "aff74d94",
   "metadata": {},
   "outputs": [
    {
     "name": "stdout",
     "output_type": "stream",
     "text": [
      " \tEste es el proceso hijo 1, con ID: 23076 y padre ID: 23075\n",
      "Este es el proceso padre con ID 23075\n",
      " \tEste es el proceso hijo 2, con ID: 23077 y padre ID: 23075\n",
      "Este es el proceso padre con ID 23075\n",
      "Este es el proceso padre con ID 23075\n",
      "Este es el proceso padre con ID 23075\n",
      "Este es el proceso padre con ID 23075\n",
      "Este es el proceso padre con ID 23075\n",
      " \tEste es el proceso hijo 3, con ID: 23078 y padre ID: 23075\n"
     ]
    }
   ],
   "source": [
    "%%script bash\n",
    "gcc 3-fork3/fork3.c\n",
    "./a.out"
   ]
  },
  {
   "cell_type": "markdown",
   "id": "8f89f168",
   "metadata": {},
   "source": [
    "## Fork 4\n",
    "Conciendo ID de los procesos."
   ]
  },
  {
   "cell_type": "code",
   "execution_count": null,
   "id": "af56daae",
   "metadata": {},
   "outputs": [],
   "source": [
    "#include <stdio.h>\n",
    "#include <sys/types.h>\n",
    "#include <unistd.h>\n",
    "\n",
    "int main(void) {\n",
    "\n",
    "    printf(\"ID de proceso: %d\\n\", getpid());\n",
    "    printf(\"ID de proceso padre: %d\\n\", getppid());\n",
    "    printf(\"ID de usuario propietario: %d\\n\", getuid());\n",
    "\n",
    "    return(0);\n",
    "}"
   ]
  },
  {
   "cell_type": "code",
   "execution_count": 5,
   "id": "41bc144b",
   "metadata": {},
   "outputs": [
    {
     "name": "stdout",
     "output_type": "stream",
     "text": [
      "ID de proceso: 32338\n",
      "ID de proceso padre: 32337\n",
      "ID de usuario propietario: 1000\n"
     ]
    }
   ],
   "source": [
    "%%script bash\n",
    "./4-fork4/a.out"
   ]
  },
  {
   "cell_type": "markdown",
   "id": "8e16711c",
   "metadata": {},
   "source": [
    "## Wait \n",
    "Espera al proceso hijo hasta que haya terminado"
   ]
  },
  {
   "cell_type": "code",
   "execution_count": null,
   "id": "0ea88e2f",
   "metadata": {},
   "outputs": [],
   "source": [
    "#include <stdio.h>\n",
    "#include <stdlib.h>\n",
    "#include <sys/wait.h>\n",
    "#include <unistd.h>\n",
    "\n",
    "int main(void)\n",
    "{\n",
    "  pid_t pid;\n",
    "  int status, died;\n",
    "\n",
    "  switch(pid = fork()) {\n",
    "\n",
    "    case -1: printf(\" No es posible hacer el fork...\\n\");\n",
    "             exit(-1);\n",
    "\n",
    "    // codigo que ejecuta el hijo\n",
    "    case 0: printf(\"\\tCódigo del hijo...\\n\" );\n",
    "            //sleep(10);\n",
    "            int i=1;\n",
    "            while (i<=10){\n",
    "              printf(\"\\t\\t Tarea del proceso hijo: %d (%d)\\n\", i++, getpid());\n",
    "              sleep (1);\n",
    "            }\n",
    "            break;\n",
    "            // exit(1);\n",
    "\n",
    "    // codigo que ejecuta el padre\n",
    "    default: printf(\"Código que ejecuta el padre\\n %d\", getpid() );\n",
    "             died = wait(&status);\n",
    "             printf(\"Terminó el proceso hijo: %d \\n\", died);\n",
    "    }\n",
    "\n",
    "    return(0);\n",
    "}"
   ]
  },
  {
   "cell_type": "code",
   "execution_count": 6,
   "id": "f2ca6b6c",
   "metadata": {},
   "outputs": [
    {
     "name": "stdout",
     "output_type": "stream",
     "text": [
      "\tCódigo del hijo...\n",
      "\t\t Tarea del proceso hijo: 1 (32490)\n",
      "\t\t Tarea del proceso hijo: 2 (32490)\n",
      "\t\t Tarea del proceso hijo: 3 (32490)\n",
      "\t\t Tarea del proceso hijo: 4 (32490)\n",
      "\t\t Tarea del proceso hijo: 5 (32490)\n",
      "\t\t Tarea del proceso hijo: 6 (32490)\n",
      "\t\t Tarea del proceso hijo: 7 (32490)\n",
      "\t\t Tarea del proceso hijo: 8 (32490)\n",
      "\t\t Tarea del proceso hijo: 9 (32490)\n",
      "\t\t Tarea del proceso hijo: 10 (32490)\n",
      "Código que ejecuta el padre\n",
      " 32489Terminó el proceso hijo: 32490 \n"
     ]
    }
   ],
   "source": [
    "%%script bash\n",
    "./5-wait/a.out"
   ]
  },
  {
   "cell_type": "markdown",
   "id": "afba897d",
   "metadata": {},
   "source": [
    "## Wait 2"
   ]
  },
  {
   "cell_type": "code",
   "execution_count": null,
   "id": "0e33c2d9",
   "metadata": {},
   "outputs": [],
   "source": [
    "#include <stdio.h>\n",
    "#include <stdlib.h>\n",
    "#include <sys/wait.h>\n",
    "#include <unistd.h>\n",
    "\n",
    "# define NUM_PROCESOS 5\n",
    "int I = 0;\n",
    "\n",
    "void codigo_del_proceso (int id)\n",
    "{\n",
    "   int i;\n",
    "\n",
    "   for (i = 0; i < 50; i++)\n",
    "        printf(\"Proceso %d: i = %d, I = %d\\n\", id, i, I++ );\n",
    "   exit (id);\n",
    "\n",
    "}\n",
    "\n",
    "int main(void)\n",
    "{\n",
    "    int p;\n",
    "    int id[NUM_PROCESOS] = {1, 2, 3, 4, 5};\n",
    "    int pid;\n",
    "    int salida;\n",
    "\n",
    "    for (p = 0; p < NUM_PROCESOS; p++) {\n",
    "      pid = fork();\n",
    "      if  (pid == -1){\n",
    "          perror(\"Error al crear un proceso: \");\n",
    "          exit(-1);\n",
    "      }\n",
    "      else if (pid == 0) /* codigo proceso hijo */\n",
    "          codigo_del_proceso (id[p]);\n",
    "    }\n",
    "\n",
    "    // codigo proceso padre\n",
    "    for (p = 0; p < NUM_PROCESOS; p++) {\n",
    "        pid = wait(&salida);\n",
    "        printf(\"Proceso %d con id = %x terminado\\n\", pid, salida >> 8);\n",
    "    }\n",
    "\n",
    "    return(0);\n",
    "}"
   ]
  },
  {
   "cell_type": "markdown",
   "id": "6c0250cb",
   "metadata": {},
   "source": [
    "## Wait 3"
   ]
  },
  {
   "cell_type": "code",
   "execution_count": null,
   "id": "101ad530",
   "metadata": {},
   "outputs": [],
   "source": [
    "#include <stdio.h>\n",
    "#include <stdlib.h>\n",
    "#include <sys/types.h>\n",
    "#include <sys/wait.h>\n",
    "#include <unistd.h>\n",
    "\n",
    "int main(void)\n",
    "{\n",
    "   int i;\n",
    "   int a,b;\n",
    "   pid_t pidh1,pidh2,pidx;\n",
    "   int prod,mayor;\n",
    "   int res;\n",
    "\n",
    "   printf(\"\\nDame dos enteros: \\n\");\n",
    "   scanf(\"%d%d\", &a, &b);\n",
    "   pidh1 = fork();\n",
    "\n",
    "// código del padre\n",
    "   if(pidh1)\n",
    "   {\n",
    "      pidh2 = fork();\n",
    "      if(pidh2)\n",
    "      {\n",
    "        for(i = 0; i < 2; i++)\n",
    "        {\n",
    "           pidx = wait(&res);\n",
    "           printf(\"res1: %d\\n\", res);\n",
    "        if (pidx == pidh1) {\n",
    "             prod = res >> 8;\n",
    "             printf(\"res >>:%d\\n\", res >> 8);\n",
    "             printf(\"entro\");\n",
    "        }\n",
    "           else\n",
    "             mayor = res >> 8;\n",
    "        }\n",
    "        printf(\"\\n El producto de %d y %d es %d\", a,b,prod);\n",
    "        printf(\"\\n El mayor de %d y %d es %d \\n\", a,b,mayor);\n",
    "      }\n",
    "\n",
    "      else\n",
    "      {\n",
    "         if(a > b)\n",
    "           exit(a);\n",
    "         else\n",
    "           exit(b);\n",
    "      }\n",
    "   }\n",
    "// hijo 1\n",
    "   else\n",
    "      {\n",
    "     prod = a * b;\n",
    "    printf(\"prod: %d\\n\", prod);\n",
    "     exit(prod);\n",
    "      }\n",
    "\n",
    "  return(0);\n",
    "\n",
    " }"
   ]
  },
  {
   "cell_type": "markdown",
   "id": "1a1e2b2a",
   "metadata": {},
   "source": [
    "## Comunicación entre procesos"
   ]
  },
  {
   "cell_type": "code",
   "execution_count": null,
   "id": "1c6cf944",
   "metadata": {},
   "outputs": [],
   "source": [
    "#include <stdio.h>\n",
    "#include <stdlib.h>\n",
    "#include <unistd.h>\n",
    "#include <string.h>\n",
    "\n",
    "int main(void)\n",
    "{\n",
    "   int pid,\n",
    "       pipefd[2];\n",
    "    \n",
    "    char mensaje1[20],\n",
    "         mensaje2[20];\n",
    "\n",
    "    pipe(pipefd);\n",
    "    pid = fork();\n",
    "    if (pid) {\n",
    "       printf(\"\\n Soy el padre, dame mensaje:\");\n",
    "       gets(mensaje1);\n",
    "       \n",
    "       write(pipefd[1], mensaje1, strlen(mensaje1)+1);\n",
    "       close(pipefd[0]);\n",
    "\n",
    "       //write(pipefd[1], mensaje1, strlen(mensaje1)+1);\n",
    "    }\n",
    "    else{\n",
    "       printf(\"\\n Soy el hijo, \");\n",
    "       //close(pipefd[1]);\n",
    "       read(pipefd[0], mensaje2, 20);\n",
    "       close(pipefd[1]);\n",
    "       printf(\" mensaje recibido: %s\\n\", mensaje2);\n",
    "    }\n",
    "\n",
    "   return(0);\n",
    "}"
   ]
  },
  {
   "cell_type": "markdown",
   "id": "dce2639a",
   "metadata": {},
   "source": [
    "## Comunicación entre procesos 2"
   ]
  },
  {
   "cell_type": "code",
   "execution_count": null,
   "id": "188afeda",
   "metadata": {},
   "outputs": [],
   "source": [
    "#include <stdio.h>\n",
    "#include <stdlib.h>\n",
    "#include <unistd.h>\n",
    "#include <string.h>\n",
    "\n",
    "int main(void)\n",
    "{\n",
    "   int pid,\n",
    "       pipefd[2];\n",
    "\n",
    "  float x,y;\n",
    "\n",
    "    pipe(pipefd);\n",
    "    pid = fork();\n",
    "    if (pid) {\n",
    "\n",
    "       printf(\"\\n Soy el padre, dame un real:\");\n",
    "       scanf(\"%f\", &x); \n",
    "       write(pipefd[1], &x, sizeof(float));\n",
    "       close(pipefd[0]);\n",
    "    }\n",
    "    else{\n",
    "       printf(\"\\n Soy el hijo, \");\n",
    "\n",
    "       read(pipefd[0], &y, sizeof(float));\n",
    "       printf(\" mensaje recibido: %f \\n\", y);\n",
    "       close(pipefd[1]);\n",
    "    }\n",
    "\n",
    "    return(0);\n",
    "}"
   ]
  },
  {
   "cell_type": "markdown",
   "id": "db0f8bda",
   "metadata": {},
   "source": [
    "## Hilos"
   ]
  },
  {
   "cell_type": "code",
   "execution_count": null,
   "id": "94f167ce",
   "metadata": {},
   "outputs": [],
   "source": [
    "#include <stdio.h>\n",
    "#include <stdlib.h>\n",
    "#include <string.h>\n",
    "#include <unistd.h>\n",
    "#include <pthread.h>\n",
    "\n",
    "void *hola(void *arg)\n",
    " {\n",
    "   char *msg = \"Hola\";\n",
    "   int i;\n",
    "   for ( i = 0 ; i < strlen (msg) ; i++ ) \n",
    "   {\n",
    "      printf (\" %c\", msg[i]);\n",
    "      fflush (stdout );\n",
    "      usleep (1000000) ;\n",
    "   }\n",
    "   return NULL;\n",
    "}\n",
    "\n",
    "void *mundo(void *arg )\n",
    "{\n",
    "   char *msg = \" mundo \";\n",
    "   int i;\n",
    "   for ( i = 0 ; i < strlen (msg) ; i++ ) \n",
    "   {\n",
    "      printf (\" %c\", msg[i]);\n",
    "      fflush (stdout );\n",
    "      usleep (1000000) ; \n",
    "   }\n",
    "   return NULL;\n",
    "}\n",
    "\n",
    "int main(int argc , char *argv []) \n",
    "{\n",
    "   pthread_t h1;\n",
    "   pthread_t h2;\n",
    "   pthread_create(&h1, NULL , hola , NULL);\n",
    "   pthread_create(&h2, NULL , mundo , NULL);\n",
    "   pthread_join(h1, NULL);\n",
    "   pthread_join(h2, NULL);\n",
    "   printf (\"Fin\\n\");\n",
    "}\n"
   ]
  }
 ],
 "metadata": {
  "kernelspec": {
   "display_name": "Python 3",
   "language": "python",
   "name": "python3"
  },
  "language_info": {
   "codemirror_mode": {
    "name": "ipython",
    "version": 3
   },
   "file_extension": ".py",
   "mimetype": "text/x-python",
   "name": "python",
   "nbconvert_exporter": "python",
   "pygments_lexer": "ipython3",
   "version": "3.8.8"
  }
 },
 "nbformat": 4,
 "nbformat_minor": 5
}
