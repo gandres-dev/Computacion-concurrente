{
 "cells": [
  {
   "cell_type": "markdown",
   "id": "1913c293",
   "metadata": {},
   "source": [
    "\n",
    "Calcular el tiempo de ejecuaion de un programa secuencial\n",
    "$$tc = t_\\text{final} - t_\\text{inicial}$$\n",
    "\n",
    "Sea \\\n",
    "$p$ - numero de procesos/hilos/procesadores\\\n",
    "\n",
    "Y $E$- eficiencia\n",
    "\n",
    "La eficiencia va crecer a medida que voy aumentando el numero de procesos o hilos.\n",
    "\n",
    "Aumenta la entra, aumenta los hilos, si tienes una tasa constante, tendra caracteristicas de rendimiento bueno.\n"
   ]
  },
  {
   "cell_type": "markdown",
   "id": "66449e75",
   "metadata": {},
   "source": [
    "Con dos hilos ya es concurrente "
   ]
  },
  {
   "cell_type": "code",
   "execution_count": null,
   "id": "71ea387c",
   "metadata": {},
   "outputs": [],
   "source": [
    "Tiempo de ejecucion\n",
    "Programa secun/con\n",
    "de variable compartida o global\n",
    "graficar las graficas de eficiencia\n",
    "\n",
    "implentacio 6 hilos\n",
    "\n",
    "Tiempos de carga de trabajo\n",
    "\n",
    "10 ejecuciones para cada corrida y promediarlo\n",
    "Implementar par 2 o 6 hilos, y hacer graficas"
   ]
  },
  {
   "cell_type": "code",
   "execution_count": null,
   "id": "c3621084",
   "metadata": {},
   "outputs": [],
   "source": []
  },
  {
   "cell_type": "code",
   "execution_count": null,
   "id": "11aff7a6",
   "metadata": {},
   "outputs": [],
   "source": []
  },
  {
   "cell_type": "code",
   "execution_count": null,
   "id": "d191ac6c",
   "metadata": {},
   "outputs": [],
   "source": []
  }
 ],
 "metadata": {
  "kernelspec": {
   "display_name": "Python 3",
   "language": "python",
   "name": "python3"
  },
  "language_info": {
   "codemirror_mode": {
    "name": "ipython",
    "version": 3
   },
   "file_extension": ".py",
   "mimetype": "text/x-python",
   "name": "python",
   "nbconvert_exporter": "python",
   "pygments_lexer": "ipython3",
   "version": "3.8.8"
  }
 },
 "nbformat": 4,
 "nbformat_minor": 5
}
