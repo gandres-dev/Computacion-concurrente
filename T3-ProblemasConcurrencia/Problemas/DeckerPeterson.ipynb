{
 "cells": [
  {
   "cell_type": "markdown",
   "metadata": {},
   "source": [
    "## Concurrencia\n",
    "\n",
    "## Introducción\n",
    "\n",
    "La concurrencia comprende un gran número de cuestiones de\n",
    "diseño, incluyendo la **comunicación entre procesos, compartición y competencia por los\n",
    "recursos, sincronización de la ejecución de varios procesos y asignación del tiempo de procesador a los procesos**.\n",
    "\n",
    "Se hallará que la exigencia básica de soporte de\n",
    "la concurrencia es la posibilidad de hacer cumplir la exclusión mutua, es decir, la capacidad de\n",
    "prohibir a los demás procesos realizar una acción cuando un proceso haya obtenido el permiso.\n",
    "\n",
    "\n",
    "Se estudiarán algunos métodos para conseguir la\n",
    "exclusión mutua:\n",
    "- Semeaforos\n",
    "- Monitores\n",
    "- Paso de mensajes\n",
    "\n",
    "Todos ellos son soluciones de software y tienen que emplear una técnica\n",
    "conocida como espera activa (busy-waiting). Debido a la complejidad de estas soluciones y a los\n",
    "inconvenientes de la espera activa, se buscarán soluciones que no necesiten esta espera, con\n",
    "soporte del sistema operativo o aplicadas por los compiladores\n",
    "\n",
    "\n",
    "Veremos dos problemas clásicos de concurrencia para ilustar los conceptos:\n",
    "\n",
    "- Productor/consumidor\n",
    "- Lectores/escritores"
   ]
  },
  {
   "cell_type": "markdown",
   "metadata": {},
   "source": [
    "### Panorama\n",
    "\n",
    "Vemos aun ejemplo de uns funcion que leer un caracter y lo imprime\n",
    "\n",
    "```\n",
    "   def echo():\n",
    "        x = input()\n",
    "        y = x\n",
    "        print(y)\n",
    "``` \n",
    "\n",
    "Para un proceso bastara con leer la variable de flujo de entrada y despues pasarsela a y para imprimirla.\n",
    "\n",
    "Pensemo que x es una variable de memoria compartido entre los procesos.\n",
    "\n",
    "Suponga ahora que son dos procesos P1 y P2, comienza P1 a leer el caracter, hay cambio de contesto y ahora P2 empieza leer nuevamente un nuevo caracter modificando x e imprime ahora el valor, regresa el proceso P1 imprime el valor x y vemos que el resultado final es que se imprimio dos veces el mismo caracter y se perdio el primero\n",
    "\n",
    "$$\\text{_bb}$$\n",
    "\n",
    "Varios procesos tienen acceso a\n",
    "esta variable. Si un proceso actualiza la variable y es interrumpido, otro proceso puede alterar la\n",
    "variable antes de que el primer proceso pueda usar ese valor.\n",
    "\n",
    "_Solución_\n",
    "\n",
    "Aunque echo sea un procedimiento global, solo pueda estar ejecutándolo un proceso\n",
    "cada vez.\n",
    "De esta manera cuando P1 es suspendido por SO, P2 no podra ejecutar P1 porque todavia no ha terminado P1, se suspende P2, regresa P1 y termina, P2 despierta e ejecuta la funcion, regresando:\n",
    "\n",
    "$$\\text{ab}$$\n",
    "\n",
    "La lección que hay que aprender de este ejemplo es que es necesario proteger las variables\n",
    "globales compartidas (y otros recursos globales compartidos) y que la única forma de hacerlo es\n",
    "controlar el código que accede a la variable. Si se impone la norma de que solo un proceso puede\n",
    "acceder a echo en cada instante y que, una vez en echo, el procedimiento debe ejecutar hasta el\n",
    "final antes de estar disponible para otro proceso, no se producirá el tipo de error expuesto antes.\n",
    "El tema principal de este capitulo es cómo imponer esta norma.\n",
    "\n",
    "Este problema se ha enunciado bajo el supuesto de que se dispone de un sistema operativo\n",
    "multiprogramado con un único procesador. El ejemplo demuestra que los problemas de con-\n",
    "currencia se producen incluso cuando hay un único procesador. En un sistema multiprocesador\n",
    "surge el mismo problema de protección de los recursos compartidos y es válida la misma\n",
    "solución.\n",
    "\n",
    "kewords: **controlar el acceso al recurso compartido**"
   ]
  },
  {
   "cell_type": "code",
   "execution_count": null,
   "metadata": {},
   "outputs": [],
   "source": []
  },
  {
   "cell_type": "code",
   "execution_count": null,
   "metadata": {},
   "outputs": [],
   "source": []
  },
  {
   "cell_type": "code",
   "execution_count": null,
   "metadata": {},
   "outputs": [],
   "source": []
  },
  {
   "cell_type": "code",
   "execution_count": null,
   "metadata": {},
   "outputs": [],
   "source": []
  },
  {
   "cell_type": "markdown",
   "metadata": {},
   "source": [
    "# Exclusion mutua\n",
    "\n",
    "\n",
    "Estimado estudiantado, va el código de los algoritmos de Dekker y Peterson para crear exclusión mutua. La tarea a realizar es implementar estudiar los dos algoritmos, hacer una prueba de escritorio (completar la tabla) y comenzar con la implementación en Python de ambos algoritmos.\n",
    "\n",
    "Las referencias que pueden consultar y de donde se toman estas notas son las siguientes: \n",
    "El libro de William Stallings\n",
    "El libro de Abraham Silberscahtz et al.\n",
    "Les comparto la referencia completa y la liga a los libros en línea en el canal\n",
    "\n",
    "La segunda tarea consiste en estudiar, hacer prueba de escritorio e implementar los algoritmos de Dekker y Peterson descritos en el canal código . Esta tarea será el material con el que trabajaremos en la clase del martes 09/11/2021. \n"
   ]
  },
  {
   "cell_type": "markdown",
   "metadata": {},
   "source": [
    "## Algoritmo Dekker\n"
   ]
  },
  {
   "cell_type": "code",
   "execution_count": null,
   "metadata": {},
   "outputs": [],
   "source": [
    "import threading as th\n",
    "\n",
    "# Variables globales (recurso compartidos)\n",
    "flag = [False, False]\n",
    "turno = 0\n",
    "\n",
    "# Tarea para el proceso 2\n",
    "def tarea1():\n",
    "    flag[0] = True\n",
    "    while(flag[1]):\n",
    "        flag[0] = False        \n",
    "        while turno != 0:\n",
    "            pass\n",
    "        flag[0] = True\n",
    "    #----seccion critica------\n",
    "    turno = 1\n",
    "    flag[0] = false\n",
    "\n",
    "# Tarea para el proceso 2\n",
    "def tarea2():\n",
    "    flag[1] = True\n",
    "    while(flag[0]):\n",
    "        flag[1] = False        \n",
    "        while turno != 1:\n",
    "            pass\n",
    "        flag[1] = True\n",
    "    #----seccion critica------\n",
    "    turno = 0\n",
    "    flag[1] = False\n",
    "    \n",
    "p1 = th.Thread(target=tarea1, args())\n",
    "p2 = th.Thread(target=tarea2, args())\n",
    "\n",
    "p1.start(); p2.start()\n",
    "p1.join(); p2.joint()"
   ]
  },
  {
   "cell_type": "markdown",
   "metadata": {},
   "source": [
    "|Proceso 1 | proceso 2| Flag[0] | Flag[1] | Turno |\n",
    "|---|---|---|---|---|\n",
    "|asd | dasf| asdf | adf| asd|"
   ]
  },
  {
   "cell_type": "markdown",
   "metadata": {},
   "source": [
    "## Algoritmo Peterson"
   ]
  },
  {
   "cell_type": "code",
   "execution_count": null,
   "metadata": {},
   "outputs": [],
   "source": [
    "import threading as th\n",
    "\n",
    "# Variables globales (recurso compartidos)\n",
    "flag = [False, False]\n",
    "turno = 0\n",
    "\n",
    "# Tarea para el hilo \n",
    "def tarea1():\n",
    "    flag[0] = True\n",
    "    turno = 1\n",
    "    while(flag[1] and turno == 1):\n",
    "        pass\n",
    "        flag[0] = False               \n",
    "    #----seccion critica------    \n",
    "    flag[0] = false    \n",
    "\n",
    "# Tarea para el hilo 2\n",
    "def tarea2():\n",
    "    flag[1] = True\n",
    "    turno = 1\n",
    "    while(flag[0] and turno == 0):\n",
    "        pass\n",
    "        flag[0] = False               \n",
    "    #----seccion critica------    \n",
    "    flag[0] = false    \n",
    "    \n",
    "p1 = th.Thread(target=tarea1, args())\n",
    "p2 = th.Thread(target=tarea2, args())\n",
    "\n",
    "p1.start(); p2.start()\n",
    "p1.join(); p2.joint()"
   ]
  },
  {
   "cell_type": "code",
   "execution_count": null,
   "metadata": {},
   "outputs": [],
   "source": []
  },
  {
   "cell_type": "code",
   "execution_count": null,
   "metadata": {},
   "outputs": [],
   "source": []
  },
  {
   "cell_type": "code",
   "execution_count": null,
   "metadata": {},
   "outputs": [],
   "source": []
  },
  {
   "cell_type": "code",
   "execution_count": null,
   "metadata": {},
   "outputs": [],
   "source": []
  }
 ],
 "metadata": {
  "kernelspec": {
   "display_name": "Python 3",
   "language": "python",
   "name": "python3"
  },
  "language_info": {
   "codemirror_mode": {
    "name": "ipython",
    "version": 3
   },
   "file_extension": ".py",
   "mimetype": "text/x-python",
   "name": "python",
   "nbconvert_exporter": "python",
   "pygments_lexer": "ipython3",
   "version": "3.9.7"
  }
 },
 "nbformat": 4,
 "nbformat_minor": 5
}
