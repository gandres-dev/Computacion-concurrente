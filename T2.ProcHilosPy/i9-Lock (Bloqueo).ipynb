{
 "cells": [
  {
   "cell_type": "markdown",
   "id": "1a128c8e",
   "metadata": {},
   "source": [
    "## Bloqueo\n",
    "\n",
    "Existen recursos los cuales no se deben acceder al mismo tiempo por dos procesos o más; por lo que es necesario proteger o bloquear el acceso a estos recursos compartidos: memoria, archivos, bases de datos."
   ]
  },
  {
   "cell_type": "markdown",
   "id": "953291ca",
   "metadata": {},
   "source": [
    "## Ejemplo de introducción a la sincronización\n",
    "\n",
    "Sincronizar\n",
    "Tener cierto orden en los recursos, deben existir mecanismo para compartir recursos de manera ordenada.\n",
    "\n",
    "\n",
    "## Condiciones de carrare\n",
    "El acceso a un recurso compartido por mas de dos tareas(Existe la posibilidad de rerrompoer).\n",
    "\n",
    "Estos dos procesos pueden modificar la variables y debe ser sincronizada\n",
    "Exiten tres operaciones basica de bajo nivel al asignar un valor :\n",
    "\n",
    "- lectura\n",
    "- escritura\n",
    "- actualizacion\n",
    "\n",
    "\n",
    "\n",
    "Cuando una tarea solita el acceso para modificarla, pongo un bloqueo, para el proceso no lea un valor desactualizado"
   ]
  },
  {
   "cell_type": "code",
   "execution_count": 12,
   "id": "b17b5960",
   "metadata": {},
   "outputs": [
    {
     "name": "stdout",
     "output_type": "stream",
     "text": [
      "202\n"
     ]
    }
   ],
   "source": [
    "import time\n",
    "import multiprocessing\n",
    "\n",
    "\n",
    "\n",
    "def deposit(balance):\n",
    "    for i in range(100):\n",
    "        time.sleep(0.01)\n",
    "        balance.value = balance.value + 1\n",
    "        \n",
    "def withdraw(balance):\n",
    "    for i in range(100):\n",
    "        time.sleep(0.01)\n",
    "        balance.value = balance.value - 1\n",
    "    \n",
    "        \n",
    "if __name__ == '__main__':\n",
    "    balance = multiprocessing.Value('i', 200)\n",
    "    d = multiprocessing.Process(target=deposit, args=(balance,))\n",
    "    w = multiprocessing.Process(target=withdraw, args=(balance,))\n",
    "    d.start()\n",
    "    w.start()\n",
    "    d.join()\n",
    "    w.join()\n",
    "    print(balance.value)"
   ]
  },
  {
   "cell_type": "markdown",
   "id": "2d67f2ef",
   "metadata": {},
   "source": [
    "sleep es una forma de sincronizar. \n",
    "\n",
    "GIL hace un bloque de la programacion concurrente para que no exista condicion de carrera.\n",
    "\n",
    "S.O tambien creara la sincronización por nosostros.\n",
    "\n",
    "Distintas cargas computacional si en vez de 200, sea 199, 198, sin haber cambiado el tiempo."
   ]
  },
  {
   "cell_type": "markdown",
   "id": "fea96ed0",
   "metadata": {},
   "source": [
    "Cambiamos el tiempo de sincronización:"
   ]
  },
  {
   "cell_type": "code",
   "execution_count": 7,
   "id": "e5110ada",
   "metadata": {},
   "outputs": [
    {
     "name": "stdout",
     "output_type": "stream",
     "text": [
      "200\n"
     ]
    }
   ],
   "source": [
    "import time\n",
    "import multiprocessing\n",
    "\n",
    "def deposit(balance):\n",
    "    for i in range(100):\n",
    "        time.sleep(0.008)\n",
    "        balance.value = balance.value + 1\n",
    "        \n",
    "def withdraw(balance):\n",
    "    for i in range(100):\n",
    "        time.sleep(0.01)\n",
    "        balance.value = balance.value - 1\n",
    "         \n",
    "if __name__ == '__main__':\n",
    "    balance = multiprocessing.Value('i', 200)\n",
    "    d = multiprocessing.Process(target=deposit, args=(balance,))\n",
    "    w = multiprocessing.Process(target=withdraw, args=(balance,))\n",
    "    d.start()\n",
    "    w.start()\n",
    "    d.join()\n",
    "    w.join()\n",
    "    print(balance.value)"
   ]
  },
  {
   "cell_type": "markdown",
   "id": "37ef8693",
   "metadata": {},
   "source": [
    "Simulamos que un hijo tarda mas tiempo que el otro, esta sincronizacion para modificar la variable balance se pierde.\n",
    "\n",
    "Tarda un proceso en responder mas que otro,"
   ]
  },
  {
   "cell_type": "code",
   "execution_count": null,
   "id": "d016474a",
   "metadata": {},
   "outputs": [],
   "source": [
    "import time\n",
    "import multiprocessing\n",
    "\n",
    "def deposit(balance, lock):\n",
    "    for i in range(100):\n",
    "        time.sleep(0.01)\n",
    "        lock.acquire()\n",
    "        balance.value = balance.value + 1\n",
    "        lock.release()\n",
    "        \n",
    "def withdraw(balance, lock):\n",
    "    for i in range(100):\n",
    "        time.sleep(0.01)\n",
    "        lock.acquire()\n",
    "        balance.value = balance.value - 1\n",
    "        lock.release()\n",
    "    \n",
    "        \n",
    "if __name__ == '__main__':\n",
    "    balance = multiprocessing.Value('i', 200)\n",
    "    lock = multiprocessing.Lock()\n",
    "    d = multiprocessing.Process(target=deposit, args=(balance, lock))\n",
    "    w = multiprocessing.Process(target=withdraw, args=(balance, lock))\n",
    "    d.start()\n",
    "    w.start()\n",
    "    d.join()\n",
    "    w.join()\n",
    "    print(balance.value)"
   ]
  },
  {
   "cell_type": "code",
   "execution_count": null,
   "id": "6fb8ceab",
   "metadata": {},
   "outputs": [],
   "source": []
  },
  {
   "cell_type": "code",
   "execution_count": null,
   "id": "bed52ed0",
   "metadata": {},
   "outputs": [],
   "source": []
  },
  {
   "cell_type": "code",
   "execution_count": null,
   "id": "f14b8a93",
   "metadata": {},
   "outputs": [],
   "source": []
  }
 ],
 "metadata": {
  "kernelspec": {
   "display_name": "Python 3",
   "language": "python",
   "name": "python3"
  },
  "language_info": {
   "codemirror_mode": {
    "name": "ipython",
    "version": 3
   },
   "file_extension": ".py",
   "mimetype": "text/x-python",
   "name": "python",
   "nbconvert_exporter": "python",
   "pygments_lexer": "ipython3",
   "version": "3.8.8"
  }
 },
 "nbformat": 4,
 "nbformat_minor": 5
}
