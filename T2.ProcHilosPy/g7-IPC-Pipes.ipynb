{
 "cells": [
  {
   "cell_type": "markdown",
   "id": "283e8a45",
   "metadata": {},
   "source": [
    "### Pipes\n",
    "Los *pipes* o tuberías representan una forma de pasar información. Los tipos de *pipes* pueden ser anónimos o con nombre.\n",
    "Los *pipes* anónimos son métodos de comunicación simple del tipo FIFO, son utilizados para la **comunicación interproceso** y solo transmiten en una sola dirección a la vez; para una comunicación bidireccional (duplex) se requieren dos *pipes* anónimos. Los *pipes* con  nombre son idénticos a los anónimos con la diferencia que durarán siempre y cuando el sistema operativo tenga activos *pipes* anónimos. "
   ]
  },
  {
   "cell_type": "code",
   "execution_count": null,
   "id": "01718a5f",
   "metadata": {},
   "outputs": [],
   "source": [
    "from multiprocessing import Process, Pipe\n",
    " \n",
    "def f(conn):\n",
    "    conn.send(['hello world'])\n",
    "    conn.close()\n",
    "    \n",
    "if __name__ == '__main__':\n",
    "    parent_conn, child_conn = Pipe()\n",
    "    p = Process(target=f, args=(child_conn,))\n",
    "    p.start()\n",
    "    #print(parent_conn.recv())   \n",
    "    p.join()\n",
    "    \n",
    "    print(parent_conn.recv())  "
   ]
  },
  {
   "cell_type": "markdown",
   "id": "8a0d8050",
   "metadata": {},
   "source": [
    "`Pipe()` devuelve dos objetos de conexión que representan los dos extremos de la tubería. Cada objeto de conexión tiene métodos send() y recv(). Aquí creamos un proceso que imprime el \"Hola mundo\" de cadena y entonces comparte los datos."
   ]
  },
  {
   "cell_type": "markdown",
   "id": "096ebbb8",
   "metadata": {},
   "source": [
    "**Ejercicio:** Extiende el código para que dos procesos escriban al padre cada uno una cadena de caracteres."
   ]
  },
  {
   "cell_type": "code",
   "execution_count": null,
   "id": "913660ec",
   "metadata": {},
   "outputs": [],
   "source": [
    "from multiprocessing import Process, Pipe\n",
    "\n",
    "def worker(conn):\n",
    "    print(conn.recv())\n",
    "    time.sleep(1.8)\n",
    "    conn.send(\"sent from child process\")\n",
    "    conn.close()\n",
    "\n",
    "conn1, conn2 = multiprocessing.Pipe()\n",
    "process = multiprocessing.Process(target=worker, args=(conn2,))\n",
    "process.start()\n",
    "\n",
    "conn1.send(\"sent from main process\")\n",
    "print(conn1.recv())\n",
    "process.join()"
   ]
  },
  {
   "cell_type": "markdown",
   "id": "662c7732",
   "metadata": {},
   "source": [
    "**Ejercicio:** Extiende el código para que dos procesos reciban un mensaje del padre y cada hijo devuelva un mensaje al padre."
   ]
  },
  {
   "cell_type": "code",
   "execution_count": null,
   "id": "56090bb4",
   "metadata": {},
   "outputs": [],
   "source": [
    "from multiprocessing import Process, Pipe\n",
    "\n",
    "nombres = [\"Carlos\", \"Renata\", \"Rebeca\", \"Sandra\", \"END\"]\n",
    "\n",
    "def send_msgs(conn, msgs):\n",
    "    for msg in msgs:\n",
    "        conn.send(msg)\n",
    "    conn.close()\n",
    "    \n",
    "def recv_msgs(conn):\n",
    "    \n",
    "    while 1:\n",
    "        msg = conn.recv()\n",
    "        if msg == \"END\":\n",
    "            break\n",
    "        print(msg)\n",
    "        \n",
    "parent_conn, child_conn = multiprocessing.Pipe()\n",
    "\n",
    "p1 = multiprocessing.Process(target=send_msgs, args=(parent_conn, nombres))\n",
    "p2 = multiprocessing.Process(target=recv_msgs, args=(child_conn,))\n",
    "\n",
    "p1.start()\n",
    "p2.start()\n",
    "\n",
    "p1.join()\n",
    "p2.join()\n"
   ]
  },
  {
   "cell_type": "code",
   "execution_count": null,
   "id": "6cc82e09",
   "metadata": {},
   "outputs": [],
   "source": [
    "import os, sys\n",
    "import multiprocessing\n",
    "\n",
    "class ChildProcess(multiprocessing.Process):\n",
    "    \n",
    "    def __init__(self, pipein):\n",
    "        super(ChildProcess, self).__init__()\n",
    "        self.pipein = pipein\n",
    "        \n",
    "    def run(self):\n",
    "        print(\"Intentando iniciar el pipe\")\n",
    "        self.pipein = os.fdopen(self.pipein, 'w')\n",
    "        self.pipein.write(\"Mi código es MX-317\")\n",
    "        self.pipein.close()\n",
    "        \n",
    "\n",
    "def main():\n",
    "    pipeout, pipein = os.pipe()\n",
    "    \n",
    "    child = ChildProcess(pipein)\n",
    "    child.start()\n",
    "    child.join()\n",
    "    \n",
    "    os.close(pipein)\n",
    "    pipeout = os.fdopen(pipeout)\n",
    "    \n",
    "    pipeContent = pipeout.read()\n",
    "    print(\"Pipe: {}\".format(pipeContent))\n",
    "    \n",
    "if __name__== '__main__':\n",
    "    main()\n"
   ]
  },
  {
   "cell_type": "markdown",
   "id": "b9713591",
   "metadata": {},
   "source": [
    "> If duplex is True (the default) then the pipe is bidirectional. If duplex is False then the pipe is unidirectional: conn1 can only be used for receiving messages and conn2 can only be used for sending messages."
   ]
  }
 ],
 "metadata": {
  "kernelspec": {
   "display_name": "Python 3",
   "language": "python",
   "name": "python3"
  },
  "language_info": {
   "codemirror_mode": {
    "name": "ipython",
    "version": 3
   },
   "file_extension": ".py",
   "mimetype": "text/x-python",
   "name": "python",
   "nbconvert_exporter": "python",
   "pygments_lexer": "ipython3",
   "version": "3.8.8"
  }
 },
 "nbformat": 4,
 "nbformat_minor": 5
}
