{
 "cells": [
  {
   "cell_type": "markdown",
   "id": "ff6f0175",
   "metadata": {},
   "source": [
    "\n",
    "# Multithreading\n",
    "\n"
   ]
  },
  {
   "cell_type": "markdown",
   "id": "ffb2768f",
   "metadata": {},
   "source": [
    "Se ejecutan en el mismo espacio de memoria\n",
    "\n",
    "Se ve mas claro la desincronización.\n",
    "\n"
   ]
  },
  {
   "cell_type": "code",
   "execution_count": 3,
   "id": "72aea7e0",
   "metadata": {},
   "outputs": [
    {
     "name": "stdout",
     "output_type": "stream",
     "text": [
      "Square: 4\n",
      "Quad: 16\n",
      "Square: 9\n",
      "Quad: 81\n",
      "Square: 25\n",
      "Quad: 625\n",
      "Square: 36\n",
      "Quad: 1296\n",
      "time: 0.8046894073486328\n"
     ]
    }
   ],
   "source": [
    "import threading\n",
    "import time\n",
    "\n",
    "def calc_square(numbers):\n",
    "    for num in numbers:\n",
    "        time.sleep(0.2)\n",
    "        print('Square:' , num * num)\n",
    "    \n",
    "def calc_quad(numbers):\n",
    "    for num in numbers:\n",
    "        time.sleep(0.2)\n",
    "        print('Quad:' , num * num * num * num)\n",
    "    \n",
    "if __name__ == \"__main__\":\n",
    "    numbers = [2, 3, 5, 6]\n",
    "    \n",
    "    t = time.time()\n",
    "    \n",
    "    thread1 = threading.Thread(target=calc_square, args=(numbers,))\n",
    "    thread2 = threading.Thread(target=calc_quad, args=(numbers,))\n",
    "    \n",
    "    # Ejecuta los dos hilos en concurrentemente \n",
    "    thread1.start()\n",
    "    thread2.start()\n",
    "    \n",
    "    # Retoma los hilos y los une de vuelta la proceso padre\n",
    "    # que es este programa\n",
    "    thread1.join()\n",
    "    thread2.join()\n",
    "    \n",
    "    print(\"time: \" + str(time.time()-t)) "
   ]
  }
 ],
 "metadata": {
  "kernelspec": {
   "display_name": "Python 3",
   "language": "python",
   "name": "python3"
  },
  "language_info": {
   "codemirror_mode": {
    "name": "ipython",
    "version": 3
   },
   "file_extension": ".py",
   "mimetype": "text/x-python",
   "name": "python",
   "nbconvert_exporter": "python",
   "pygments_lexer": "ipython3",
   "version": "3.8.8"
  }
 },
 "nbformat": 4,
 "nbformat_minor": 5
}
