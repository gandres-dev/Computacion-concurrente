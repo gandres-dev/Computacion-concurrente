{
 "cells": [
  {
   "cell_type": "markdown",
   "id": "216c9392",
   "metadata": {},
   "source": [
    "## Identificadores pid, ppid"
   ]
  },
  {
   "cell_type": "markdown",
   "id": "402d79fa",
   "metadata": {},
   "source": [
    "Los identificadores de proceso padre y del proceso hijo se pueden obtenter con las funciones `getppid()` y `getppid()`"
   ]
  },
  {
   "cell_type": "code",
   "execution_count": null,
   "id": "552caded",
   "metadata": {},
   "outputs": [],
   "source": [
    "import os\n",
    "\n",
    "print('module name:', __name__)\n",
    "print('parent process:', os.getppid())\n",
    "print('process id:', os.getpid())"
   ]
  },
  {
   "cell_type": "code",
   "execution_count": null,
   "id": "c8337d84",
   "metadata": {},
   "outputs": [],
   "source": [
    "from multiprocessing import Process\n",
    "import os\n",
    "\n",
    "def info(titulo):\n",
    "    print(titulo)\n",
    "    print('module name:', __name__)\n",
    "    print('parent process:', os.getppid())\n",
    "    print('process id:', os.getpid())\n",
    "\n",
    "def f(nombre):\n",
    "    info('funcion f')\n",
    "    print('hello', nombre)\n",
    "    print(\"---------\")\n",
    "\n",
    "#f __name__ == '__main__':\n",
    "info('Primera linea')\n",
    "p = Process(target=f, args=('oscar',))\n",
    "p.start()\n",
    "p.join()"
   ]
  },
  {
   "cell_type": "code",
   "execution_count": null,
   "id": "633c4c68",
   "metadata": {},
   "outputs": [],
   "source": [
    "def childTask():\n",
    "    print(\"Child Process With PID: {}\".format(multiprocessing.current_process().pid))\n",
    "    time.sleep(3)\n",
    "    print(\"Child process terminating\")\n",
    "\n",
    "def main():\n",
    "    print(\"Main process PID: {}\".format(multiprocessing.current_process().pid))\n",
    "    myProcess = multiprocessing.Process(target=childTask)\n",
    "    myProcess.start()\n",
    "    myProcess.join()\n",
    "\n",
    "# Se acostumbra usar la variable __name__\n",
    "# para hacer la ejecución desde el progragrama\n",
    "# principal. En los ejemplos con notebooks la omitiremos \n",
    "if __name__ == '__main__':\n",
    "    main()"
   ]
  },
  {
   "cell_type": "markdown",
   "id": "083f3474",
   "metadata": {},
   "source": [
    "Con el método `cpu_count()` se muestra el número de procesadores del sistema que se está utilizando."
   ]
  },
  {
   "cell_type": "code",
   "execution_count": null,
   "id": "8ee74277",
   "metadata": {},
   "outputs": [],
   "source": [
    "import multiprocessing\n",
    "multiprocessing.cpu_count()"
   ]
  },
  {
   "cell_type": "markdown",
   "id": "957c0484",
   "metadata": {},
   "source": [
    "El identificador del proceso actual se accede por medio de `current_process` "
   ]
  },
  {
   "cell_type": "markdown",
   "id": "d015c2e7",
   "metadata": {},
   "source": [
    "Es posible asignar un nombre a un proceso hijo que ha sido creado, por medio del argumento `name` se asigna el nombre del proceso hijo."
   ]
  },
  {
   "cell_type": "code",
   "execution_count": null,
   "id": "ac38d38c",
   "metadata": {},
   "outputs": [],
   "source": [
    "def myProcess():\n",
    "    print(\"{} Just performed X\".format(multiprocessing.current_process().name))\n",
    "\n",
    "def main():\n",
    "    childProcess = multiprocessing.Process(target=myProcess, name='My-Awesome-Process')\n",
    "    childProcess.start()\n",
    "    childProcess.join()\n",
    "\n",
    "main()"
   ]
  },
  {
   "cell_type": "markdown",
   "id": "dbf3ede1",
   "metadata": {},
   "source": [
    "## Finalización de procesos"
   ]
  },
  {
   "cell_type": "markdown",
   "id": "eeb56d39",
   "metadata": {},
   "source": [
    "Un proceso que está en ejecución puede ser cancelado o interrumpido por medido de la función `terminate()`"
   ]
  },
  {
   "cell_type": "code",
   "execution_count": null,
   "id": "08b86339",
   "metadata": {},
   "outputs": [],
   "source": [
    "def myProcess():\n",
    "    current_process = multiprocessing.current_process()\n",
    "    print(\"Child Process PID: {}\".format(current_process.pid))\n",
    "    time.sleep(20)\n",
    "    current_process = multiprocessing.current_process()\n",
    "    print(\"Main process PID: {}\".format(current_process.pid))\n",
    "\n",
    "myProcess = multiprocessing.Process(target=myProcess)\n",
    "myProcess.start()\n",
    "#myProcess.join()\n",
    "\n",
    "print(\"My Process has terminated, terminating main thread\")\n",
    "print(\"Terminating Child Process\")\n",
    "myProcess.terminate()\n",
    "print(\"Child Process Successfully terminated\")"
   ]
  },
  {
   "cell_type": "markdown",
   "id": "e2d24c3e",
   "metadata": {},
   "source": [
    "El método `terminate()` ofrece una forma rápida de terminar un proceso. Es importante mencionar que los procesos hijos que del proceso que termina no son finalizados al realizar la llamada a `terminate()`, estos procesos se denominarán **procesos huérfanos**.\n",
    "\n",
    "Aunque finalizar un proceso puede ser mal visto, algunas veces es necesario si existe algún problema al realizar tareas de _comunicación interprocesos_.\n",
    "\n",
    "Al utlizar `terminate()` es importante hacer la llamada a `join()` también debido a que no es inmediata la actualización del estado `alive` del proceso."
   ]
  }
 ],
 "metadata": {
  "kernelspec": {
   "display_name": "Python 3",
   "language": "python",
   "name": "python3"
  },
  "language_info": {
   "codemirror_mode": {
    "name": "ipython",
    "version": 3
   },
   "file_extension": ".py",
   "mimetype": "text/x-python",
   "name": "python",
   "nbconvert_exporter": "python",
   "pygments_lexer": "ipython3",
   "version": "3.8.8"
  }
 },
 "nbformat": 4,
 "nbformat_minor": 5
}
