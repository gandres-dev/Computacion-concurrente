{
 "cells": [
  {
   "cell_type": "markdown",
   "id": "accb4214",
   "metadata": {},
   "source": [
    "# Multiprocessing \n",
    "La libraria multiprocessing nos permite crear procesos en python"
   ]
  },
  {
   "cell_type": "code",
   "execution_count": 1,
   "id": "49c5a684",
   "metadata": {},
   "outputs": [],
   "source": [
    "import multiprocessing \n"
   ]
  },
  {
   "cell_type": "markdown",
   "id": "976c9d84",
   "metadata": {},
   "source": [
    "Con el metodo `cpu_count` se muestra el numero de procesadores que tenemos"
   ]
  },
  {
   "cell_type": "code",
   "execution_count": 2,
   "id": "f9f8e2aa",
   "metadata": {},
   "outputs": [
    {
     "data": {
      "text/plain": [
       "4"
      ]
     },
     "execution_count": 2,
     "metadata": {},
     "output_type": "execute_result"
    }
   ],
   "source": [
    "multiprocessing.cpu_count()"
   ]
  },
  {
   "cell_type": "markdown",
   "id": "00a584cf",
   "metadata": {},
   "source": [
    "Podemos generar varios procesos, cada proceso demanda recursos (memoria)."
   ]
  },
  {
   "cell_type": "markdown",
   "id": "29ff5306",
   "metadata": {},
   "source": [
    "Los identitificadores del proceso actual se accede por medio de `current_process()`"
   ]
  },
  {
   "cell_type": "code",
   "execution_count": 5,
   "id": "2bc1ba2e",
   "metadata": {},
   "outputs": [
    {
     "name": "stdout",
     "output_type": "stream",
     "text": [
      "17776\n"
     ]
    }
   ],
   "source": [
    "print(multiprocessing.current_process().pid)"
   ]
  },
  {
   "cell_type": "markdown",
   "id": "89b84304",
   "metadata": {},
   "source": [
    "Es el proceso que lo esta invocando al `print()`, el proceso de jupyter."
   ]
  },
  {
   "cell_type": "code",
   "execution_count": 10,
   "id": "2110409f",
   "metadata": {},
   "outputs": [
    {
     "name": "stdout",
     "output_type": "stream",
     "text": [
      "Proceso padre con PID 17776\n",
      "Proceso hijo con PID 18621\n",
      "Fin del proceso hijo\n",
      "Fin del proceso padre\n"
     ]
    }
   ],
   "source": [
    "import time\n",
    "import os\n",
    "\n",
    "def tarea_hijo():\n",
    "    print('Proceso hijo con PID {}'.format(multiprocessing.current_process().pid))\n",
    "    time.sleep(3)\n",
    "    print('Fin del proceso hijo')\n",
    "\n",
    "def main():\n",
    "    print('Proceso padre con PID {}'.format(multiprocessing.current_process().pid))\n",
    "    mi_proceso = multiprocessing.Process(target=tarea_hijo)\n",
    "    mi_proceso.start() # Iniciar tarea\n",
    "    mi_proceso.join() # Esperar a que termine el proceso hijo    \n",
    "    print('Fin del proceso padre')\n",
    "    \n",
    "main()\n",
    "    "
   ]
  },
  {
   "cell_type": "markdown",
   "id": "8c0a84cf",
   "metadata": {},
   "source": [
    "Es posible asignar un **nombre** a un proceso hijo que ha sido creado, por medio del argumento `name` se asigna el nombre dle procesoo hijo."
   ]
  },
  {
   "cell_type": "code",
   "execution_count": 13,
   "id": "09c47082",
   "metadata": {},
   "outputs": [
    {
     "name": "stdout",
     "output_type": "stream",
     "text": [
      "Proceso con nombre: Proceso_LCD_CC\n"
     ]
    }
   ],
   "source": [
    "def mi_proceso():\n",
    "    print('Proceso con nombre: {}'.format(multiprocessing.current_process().name))\n",
    "\n",
    "# Usando main para la tarea del padre\n",
    "def main():\n",
    "    p_hijo = multiprocessing.Process(target=mi_proceso, name=\"Proceso_LCD_CC\")\n",
    "    p_hijo.start() # Lo inicio\n",
    "    p_hijo.join() # Espero que termine\n",
    "\n",
    "main()"
   ]
  },
  {
   "cell_type": "markdown",
   "id": "407f29eb",
   "metadata": {},
   "source": [
    "Otra bandera para el control de los procesos con el name."
   ]
  },
  {
   "cell_type": "markdown",
   "id": "0575c7d5",
   "metadata": {},
   "source": [
    "### Ejercicio\n",
    "Crea tres procesos con nombre, cada proceso escribera su **nombre**, **pid** y el **pid del padre**."
   ]
  },
  {
   "cell_type": "code",
   "execution_count": 15,
   "id": "1e0e5271",
   "metadata": {},
   "outputs": [],
   "source": [
    "import os\n",
    "import multiprocessing as mp"
   ]
  },
  {
   "cell_type": "code",
   "execution_count": 24,
   "id": "a2d0c9c0",
   "metadata": {},
   "outputs": [
    {
     "name": "stdout",
     "output_type": "stream",
     "text": [
      "Proceso padre con PID 17776\n",
      "Proceso con nombre Jim\n",
      "ID del Proceso: 19697Proceso con nombre CarlosProceso con nombre Pepe\n",
      "ID del Proceso padre: 17776\n",
      "\n",
      "\n",
      "ID del Proceso: 19700\n",
      "ID del Proceso: 19705ID del Proceso padre: 17776\n",
      "\n",
      "ID del Proceso padre: 17776\n",
      "Fin del proceso hijo\n",
      "Fin del proceso hijo\n",
      "Fin del proceso hijo\n",
      "Fin del proceso padre\n"
     ]
    }
   ],
   "source": [
    "\n",
    "def show_name():\n",
    "    print(f'Proceso con nombre {multiprocessing.current_process().name}')\n",
    "    print(f'ID del Proceso: {os.getpid()}')\n",
    "    print(f'ID del Proceso padre: {os.getppid()}')\n",
    "    time.sleep(3)\n",
    "    print('Fin del proceso hijo')\n",
    "\n",
    "def main():\n",
    "    print('Proceso padre con PID {}'.format(multiprocessing.current_process().pid))\n",
    "    p1 = mp.Process(target=show_name, name='Jim')\n",
    "    p2 = mp.Process(target=show_name, name='Carlos')\n",
    "    p3 = mp.Process(target=show_name, name='Pepe')\n",
    "    \n",
    "    p1.start(); p2.start(); p3.start();\n",
    "    p1.join(); p2.join(); p3.join();\n",
    "    print('Fin del proceso padre')\n",
    "    \n",
    "main()\n",
    "    \n",
    "    "
   ]
  },
  {
   "cell_type": "code",
   "execution_count": null,
   "id": "96428197",
   "metadata": {},
   "outputs": [],
   "source": [
    "# Ejemplo de escritura de nombres de proceso\n",
    "\n",
    "from multiprocessing import Process, current_process\n",
    "import time\n",
    "\n",
    "def f1():\n",
    "    pname = current\n",
    "    \n",
    "def f2():\n",
    "    \n",
    "\n",
    "# Devuelte al hilo de ejecucion \n",
    "join"
   ]
  },
  {
   "cell_type": "markdown",
   "id": "1d4f59d6",
   "metadata": {},
   "source": [
    "Puedo forzar a al terminacion de unprocesop hijo.\n",
    "\n",
    "Un proceos que esta en ejecuacion puede ser cancelado o interrumpido por medio de la funcion terminate()"
   ]
  },
  {
   "cell_type": "code",
   "execution_count": 38,
   "id": "d947722d",
   "metadata": {},
   "outputs": [
    {
     "name": "stdout",
     "output_type": "stream",
     "text": [
      "Proceso hijo pd: 21094\n",
      "Proceso padre ha terminado, termina el proceso main\n",
      "Proceso hijo termiando...\n",
      "Proceso hijo finalizo con exito\n"
     ]
    }
   ],
   "source": [
    "def tarea_proceso():\n",
    "    p_actual = multiprocessing.current_process()\n",
    "    print('Proceso hijo pd: {}'.format(p_actual.pid))\n",
    "    time.sleep(5)\n",
    "    print('Continua la ejecición')\n",
    "\n",
    "mi_proceso = multiprocessing.Process(target=tarea_proceso)\n",
    "mi_proceso.start()\n",
    "time.sleep(2)\n",
    "print('Proceso padre ha terminado, termina el proceso main')\n",
    "print('Proceso hijo termiando...')\n",
    "mi_proceso.terminate()\n",
    "print('Proceso hijo finalizo con exito')"
   ]
  },
  {
   "cell_type": "markdown",
   "id": "65c5138f",
   "metadata": {},
   "source": [
    "## Comunicación entre procesos\n",
    "\n",
    "Necesiatarmos una menerata( por ejemplo con pipes en C), en python tenemos esta comunicacion atravez de mecanismos de comunicacion:\n",
    "- pipes\n",
    "- colas de comunicacion"
   ]
  },
  {
   "cell_type": "markdown",
   "id": "8a200122",
   "metadata": {},
   "source": [
    "La princiapla forma de comunicacion entre porcewsos con python se llava acabo por medio de tuberias ** pipes** y colas **queue***. Especificamente, brindan opciones de transmision de \n",
    "mensajes para facilitar comunicaion\n",
    "    \n",
    "    \n",
    "colas es una generalizacion de los pipes\n",
    "\n",
    "colas sum medio comunicacion entre vario procesos puede observar contenido de la cola y poner cosas en la coals\n",
    "\n",
    "\n",
    "Cual es mejpr\n",
    "\n",
    "Posiblmenet la generalizacion , sea mejor las colas, debido a que vamos trabadjo cpn varioa pro\n",
    "\n",
    "\n",
    "\n"
   ]
  },
  {
   "cell_type": "markdown",
   "id": "7da470c2",
   "metadata": {},
   "source": [
    "Dos metodo de \n",
    "para escribir y leer el medio comunicacion\n",
    "\n",
    "get - leer de la cola\n",
    "put - agrega valor"
   ]
  },
  {
   "cell_type": "code",
   "execution_count": 41,
   "id": "ff159b4b",
   "metadata": {},
   "outputs": [
    {
     "name": "stdout",
     "output_type": "stream",
     "text": [
      "Se pone en la cola  25\n",
      "Se lee de la cola:  25\n"
     ]
    }
   ],
   "source": [
    "from multiprocessing import Process, Queue\n",
    "\n",
    "def worker(num, q):\n",
    "    print('Se pone en la cola ', num * num)\n",
    "    q.put(num * num)\n",
    "    \n",
    "if __name__ == '__main__':\n",
    "    my_queue = Queue()\n",
    "    p = Process(target=worker, args=(5, my_queue))\n",
    "    p.start()\n",
    "    p.join()\n",
    "    \n",
    "    print('Se lee de la cola: ', my_queue.get())"
   ]
  },
  {
   "cell_type": "code",
   "execution_count": 56,
   "id": "d675e720",
   "metadata": {},
   "outputs": [
    {
     "name": "stdout",
     "output_type": "stream",
     "text": [
      "asdf\n"
     ]
    }
   ],
   "source": [
    "print(\"asdf\")"
   ]
  },
  {
   "cell_type": "markdown",
   "id": "58105b0a",
   "metadata": {},
   "source": [
    "Tres proceso que ponga en la cola y el proceso padre lee de la cola."
   ]
  },
  {
   "cell_type": "code",
   "execution_count": 60,
   "id": "5ad3bb4f",
   "metadata": {},
   "outputs": [
    {
     "name": "stdout",
     "output_type": "stream",
     "text": [
      "Suma de 10 + 5 = 15\n",
      "Resta de 10 - 5 = 5\n",
      "Multi de 10 * 5 = 50\n",
      "Fin del proceso padre\n"
     ]
    }
   ],
   "source": [
    "from multiprocessing import Process, Queue, current_process \n",
    "\n",
    "def suma(a, b, q):\n",
    "    q.put(a + b)\n",
    "    \n",
    "def restar(a, b, q):\n",
    "    q.put(a - b)\n",
    "    \n",
    "def mult(a, b, q):\n",
    "    q.put(a * b)\n",
    "    \n",
    "if __name__ == '__main__':\n",
    "    my_queue = Queue()\n",
    "    a = 10\n",
    "    b = 5\n",
    "    p1 = Process(name='jim', target=suma, args=(a, b, my_queue))\n",
    "    p2 = Process(name='carlos', target=restar, args=(a, b, my_queue))\n",
    "    p3 = Process(name='juna', target=mult, args=(a, b, my_queue))\n",
    "    \n",
    "    p1.start(); p2.start(); p3.start();\n",
    "    p1.join(); p2.join(); p3.join();\n",
    "    \n",
    "    print(f'Suma de {a} + {b} = {my_queue.get()}')\n",
    "    print(f'Resta de {a} - {b} = {my_queue.get()}')\n",
    "    print(f'Multi de {a} * {b} = {my_queue.get()}')\n",
    "    \n",
    "    print('Fin del proceso padre')"
   ]
  },
  {
   "cell_type": "code",
   "execution_count": null,
   "id": "0fdc3694",
   "metadata": {},
   "outputs": [],
   "source": []
  },
  {
   "cell_type": "code",
   "execution_count": null,
   "id": "d6d5c570",
   "metadata": {},
   "outputs": [],
   "source": []
  },
  {
   "cell_type": "code",
   "execution_count": null,
   "id": "27d50065",
   "metadata": {},
   "outputs": [],
   "source": []
  },
  {
   "cell_type": "code",
   "execution_count": null,
   "id": "9ed18307",
   "metadata": {},
   "outputs": [],
   "source": []
  },
  {
   "cell_type": "code",
   "execution_count": null,
   "id": "13fcbfbf",
   "metadata": {},
   "outputs": [],
   "source": []
  },
  {
   "cell_type": "code",
   "execution_count": null,
   "id": "63f1b0bb",
   "metadata": {},
   "outputs": [],
   "source": []
  }
 ],
 "metadata": {
  "kernelspec": {
   "display_name": "Python 3",
   "language": "python",
   "name": "python3"
  },
  "language_info": {
   "codemirror_mode": {
    "name": "ipython",
    "version": 3
   },
   "file_extension": ".py",
   "mimetype": "text/x-python",
   "name": "python",
   "nbconvert_exporter": "python",
   "pygments_lexer": "ipython3",
   "version": "3.8.8"
  }
 },
 "nbformat": 4,
 "nbformat_minor": 5
}
