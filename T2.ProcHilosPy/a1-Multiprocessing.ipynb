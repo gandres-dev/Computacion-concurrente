{
 "cells": [
  {
   "cell_type": "markdown",
   "id": "40c4c74a",
   "metadata": {},
   "source": [
    "# Multiprocessing"
   ]
  },
  {
   "cell_type": "markdown",
   "id": "fa9188cc",
   "metadata": {},
   "source": [
    "`multiprocessing` es un paquete de python que permite la generación de  procesos, ofrece concurrencia local como remota."
   ]
  },
  {
   "cell_type": "markdown",
   "id": "301746c6",
   "metadata": {},
   "source": [
    "Una manera sencilla de generar un proceso es por medio de la creación del objeto `Process` que ejecuta la tarea especificada en el valor del argumento `target`. El proceso hijo creado se inicia por medio del método `start()`, mientras que con la función `join()` el proceso principal o padre espera a la finalización del proceso creado."
   ]
  },
  {
   "cell_type": "markdown",
   "id": "57ca2e5f",
   "metadata": {},
   "source": [
    "Iniciemos con un ejemplo de motivación a la creación de procesos: calculemos el cuadrado de un conjunto de números."
   ]
  },
  {
   "cell_type": "code",
   "execution_count": null,
   "id": "a3778ed5",
   "metadata": {},
   "outputs": [],
   "source": [
    "import time\n",
    "\n",
    "def calc_cuad(numeros):\n",
    "    print(\"calcula cuadrado de números\")\n",
    "    for n in numeros:\n",
    "        time.sleep(0.2)\n",
    "        print('cuadrado:', n * n )\n",
    "\n",
    "t = time.time()\n",
    "nums = range(10)\n",
    "calc_cuad(nums)\n",
    "print(\"Tiempo de ejecución: \", time.time()-t)\n",
    "print(\"Finaliza ejecución\")"
   ]
  },
  {
   "cell_type": "markdown",
   "id": "763a092a",
   "metadata": {},
   "source": [
    "Ahora calculemos el cuadrado y el cubo del mismo conjunto de números"
   ]
  },
  {
   "cell_type": "code",
   "execution_count": null,
   "id": "8e2c839d",
   "metadata": {},
   "outputs": [],
   "source": [
    "import time\n",
    "\n",
    "def calc_cuad(numeros):\n",
    "    print(\"calcula el cuadrado:\")\n",
    "    for n in numeros:\n",
    "        time.sleep(0.2)\n",
    "        print('cuadrado:', n * n )\n",
    "        \n",
    "def calc_cubo(numeros):\n",
    "    print(\"calcula el cubo:\")\n",
    "    for n in numeros:\n",
    "        time.sleep(0.4)\n",
    "        print('cubo:', n * n * n)\n",
    "        \n",
    "nums = range(10)\n",
    "t = time.time()\n",
    "calc_cuad(nums)\n",
    "calc_cubo(nums)\n",
    "\n",
    "print(\"Tiempo de ejecución: \", time.time()-t)\n",
    "print(\"Finaliza ejecución\")"
   ]
  },
  {
   "cell_type": "markdown",
   "id": "0bf01d3b",
   "metadata": {},
   "source": [
    "Un proceso hijo se crea de la siguiente forma:"
   ]
  },
  {
   "cell_type": "code",
   "execution_count": null,
   "id": "63712b8e",
   "metadata": {},
   "outputs": [],
   "source": [
    "import multiprocessing as mp\n"
   ]
  },
  {
   "cell_type": "code",
   "execution_count": null,
   "id": "abefb448",
   "metadata": {},
   "outputs": [],
   "source": [
    "def tarea(nombre):\n",
    "    print('Hola', nombre)\n",
    "\n",
    "if __name__ == '__main__':\n",
    "    p = mp.Process(target=tarea, args=('oscar',))\n",
    "    p.start()\n",
    "    p.join()"
   ]
  },
  {
   "cell_type": "markdown",
   "id": "354ea47f",
   "metadata": {},
   "source": [
    "Ahora vamos a crear un proceso hijo que calcule el cuadrado de un conjunto de números:"
   ]
  },
  {
   "cell_type": "code",
   "execution_count": null,
   "id": "201f569f",
   "metadata": {},
   "outputs": [],
   "source": [
    "def calc_cuad(numeros):\n",
    "    print(\"calcula cuadrado de números\")\n",
    "    for n in numeros:\n",
    "        time.sleep(0.2)\n",
    "        print('cuadrado:', n * n )\n",
    "\n",
    "nums = range(10)\n",
    "\n",
    "t = time.time()\n",
    "p1 = mp.Process(target=calc_cuad, args=(nums,))\n",
    "\n",
    "p1.start()\n",
    "p1.join()\n",
    "\n",
    "print(\"Tiempo de ejecución: \", time.time()-t)\n",
    "print(\"Finaliza ejecución\")"
   ]
  },
  {
   "cell_type": "markdown",
   "id": "5dfb3b48",
   "metadata": {},
   "source": [
    "Dos procesos hijos calculan el cuadrado y el cubo del mismo conjunto de números:"
   ]
  },
  {
   "cell_type": "code",
   "execution_count": null,
   "id": "25723d27",
   "metadata": {},
   "outputs": [],
   "source": [
    "def calc_cuad(numeros):\n",
    "    print(\"calcula cuadrado de números\")\n",
    "    for n in numeros:\n",
    "        time.sleep(0.2)\n",
    "        print('cuadrado:', n * n )\n",
    "        \n",
    "def calc_cubo(numeros):\n",
    "    print(\"calcula cubo de números\")\n",
    "    for n in numeros:\n",
    "        time.sleep(0.4)\n",
    "        print('cubo:', n * n )\n",
    "\n",
    "\n",
    "nums = range(10)\n",
    "\n",
    "t = time.time()\n",
    "p1 = mp.Process(target=calc_cuad, args=(nums,))\n",
    "p2 = mp.Process(target=calc_cubo, args=(nums,))\n",
    "\n",
    "p1.start()\n",
    "p2.start()\n",
    "\n",
    "p1.join()\n",
    "p2.join()\n",
    "\n",
    "\n",
    "print(\"Tiempo de ejecución: \", time.time()-t)\n",
    "print(\"Finaliza ejecución\")"
   ]
  }
 ],
 "metadata": {
  "kernelspec": {
   "display_name": "Python 3",
   "language": "python",
   "name": "python3"
  },
  "language_info": {
   "codemirror_mode": {
    "name": "ipython",
    "version": 3
   },
   "file_extension": ".py",
   "mimetype": "text/x-python",
   "name": "python",
   "nbconvert_exporter": "python",
   "pygments_lexer": "ipython3",
   "version": "3.8.8"
  }
 },
 "nbformat": 4,
 "nbformat_minor": 5
}
