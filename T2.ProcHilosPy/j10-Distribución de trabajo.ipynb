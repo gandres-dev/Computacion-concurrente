{
 "cells": [
  {
   "cell_type": "markdown",
   "id": "46c58547",
   "metadata": {},
   "source": [
    "## Distribución de trabajo "
   ]
  },
  {
   "cell_type": "markdown",
   "id": "0e567898",
   "metadata": {},
   "source": [
    "Por medio del método `Pool()` se distribuyen un conjunto de datos entre múltiples procesadores. A través de esta técnica se puede implementar el modelo de programación paralelelo `mapreduce` "
   ]
  },
  {
   "cell_type": "code",
   "execution_count": null,
   "id": "b965adef",
   "metadata": {},
   "outputs": [],
   "source": [
    "from multiprocessing import Pool\n",
    "\n",
    "def cuad (n):\n",
    "    return n * n\n",
    "\n",
    "if __name__ == \"__main__\":\n",
    "    \n",
    "    datos = [1, 2, 3, 4, 5]\n",
    "    p = Pool()\n",
    "    resultado = p.map(cuad, datos)\n",
    "    print(resultado)"
   ]
  },
  {
   "cell_type": "code",
   "execution_count": null,
   "id": "f93cb9f7",
   "metadata": {},
   "outputs": [],
   "source": [
    "from multiprocessing import Pool\n",
    "import time\n",
    "\n",
    "def suma(n):\n",
    "    val = 0\n",
    "    for x in range(1000):\n",
    "        val += x*x\n",
    "        \n",
    "    return val\n",
    "\n",
    "t = time.time()\n",
    "result = []\n",
    "for x in range(100000):\n",
    "    resultado.append(suma(x))\n",
    "    \n",
    "print(\"Processo serial: \", time.time()-t)"
   ]
  },
  {
   "cell_type": "code",
   "execution_count": null,
   "id": "2fd6df76",
   "metadata": {},
   "outputs": [],
   "source": [
    "from multiprocessing import Pool\n",
    "import time\n",
    "\n",
    "def suma(n):\n",
    "    val = 0\n",
    "    for x in range(1000):\n",
    "        val += x*x    \n",
    "    return val\n",
    "\n",
    "if __name__ == \"__main__\":\n",
    "    \n",
    "    t = time.time()\n",
    "    p = Pool()\n",
    "    resultado = p.map(suma,range(100000))\n",
    "    p.close()\n",
    "    p.join()\n",
    "    \n",
    "    print(\"Processo concurrente: \", time.time()-t)"
   ]
  },
  {
   "cell_type": "code",
   "execution_count": null,
   "id": "6f045b56",
   "metadata": {},
   "outputs": [],
   "source": []
  }
 ],
 "metadata": {
  "kernelspec": {
   "display_name": "Python 3",
   "language": "python",
   "name": "python3"
  },
  "language_info": {
   "codemirror_mode": {
    "name": "ipython",
    "version": 3
   },
   "file_extension": ".py",
   "mimetype": "text/x-python",
   "name": "python",
   "nbconvert_exporter": "python",
   "pygments_lexer": "ipython3",
   "version": "3.8.8"
  }
 },
 "nbformat": 4,
 "nbformat_minor": 5
}
