{
 "cells": [
  {
   "cell_type": "markdown",
   "id": "fc9c2c7b",
   "metadata": {},
   "source": [
    "## Clase\n",
    "\n",
    "Para implementar un objeto es necesario definir una **clase** de objeto que contendra una función inicial de invocación automaticamente, el **constructor**, las variables y funciones para que accione el objeto."
   ]
  },
  {
   "cell_type": "code",
   "execution_count": null,
   "id": "3b501988",
   "metadata": {},
   "outputs": [],
   "source": [
    "class Fraccion:\n",
    "    \n",
    "    # Constructor\n",
    "    def __init__(self, xx, yy):\n",
    "        # Propiedades del objeto\n",
    "        self.num = xx\n",
    "        self.den = y\n",
    "        \n",
    "    def mostrar(self):\n",
    "        #metodo\n",
    "        print(self.num + \"/\" + self.den)\n",
    "        \n",
    "# construye una variable de tipo Fraccion\n",
    "a = Fraccion(3,4)\n",
    "# Dot dotation para imnvocar un metodo\n",
    "a.mostrar()"
   ]
  },
  {
   "cell_type": "markdown",
   "id": "807e4cfb",
   "metadata": {},
   "source": [
    "**NOTA**: El manejo de objetos no es del todo eficiente en terminos de velocidad de ejecuacion, otros paradigmas de programacion privilegian la eficiencia sin sacrificar la abstracccion."
   ]
  },
  {
   "cell_type": "markdown",
   "id": "ae472408",
   "metadata": {},
   "source": [
    "Cuando construir objetos:\n",
    "Cuando se necesita muchas funcionalidades. Desarrollo web\n",
    "\n",
    "Cuando se quiere hacer computo de rendimiento, crear objeto no es lo más adecuado.\n",
    "\n"
   ]
  },
  {
   "cell_type": "code",
   "execution_count": 2,
   "id": "083f68fd",
   "metadata": {},
   "outputs": [],
   "source": [
    "# Plantialla de tipo texto\n",
    "class Texto:\n",
    "    pass"
   ]
  },
  {
   "cell_type": "code",
   "execution_count": 6,
   "id": "e52c8d48",
   "metadata": {},
   "outputs": [],
   "source": [
    "x = Texto()"
   ]
  },
  {
   "cell_type": "code",
   "execution_count": 7,
   "id": "6706f2f7",
   "metadata": {},
   "outputs": [
    {
     "data": {
      "text/plain": [
       "__main__.Texto"
      ]
     },
     "execution_count": 7,
     "metadata": {},
     "output_type": "execute_result"
    }
   ],
   "source": [
    "type(x)"
   ]
  },
  {
   "cell_type": "code",
   "execution_count": 10,
   "id": "81e23a66",
   "metadata": {},
   "outputs": [],
   "source": [
    "y = Texto()"
   ]
  },
  {
   "cell_type": "code",
   "execution_count": 11,
   "id": "22f75fc3",
   "metadata": {},
   "outputs": [
    {
     "data": {
      "text/plain": [
       "__main__.Texto"
      ]
     },
     "execution_count": 11,
     "metadata": {},
     "output_type": "execute_result"
    }
   ],
   "source": [
    "type(y)"
   ]
  },
  {
   "cell_type": "code",
   "execution_count": 12,
   "id": "d9051eb3",
   "metadata": {},
   "outputs": [],
   "source": [
    "class Texto:\n",
    "    pass\n",
    "x = Texto()\n",
    "y = Texto()\n",
    "\n",
    "x.name = \"1Q84\"\n",
    "x.año = \"1994\"\n",
    "\n",
    "y.name = \"Tokyo Blues\"\n",
    "y.año = \"1984\""
   ]
  },
  {
   "cell_type": "code",
   "execution_count": 13,
   "id": "9a24e81a",
   "metadata": {},
   "outputs": [
    {
     "name": "stdout",
     "output_type": "stream",
     "text": [
      "1Q84\n"
     ]
    }
   ],
   "source": [
    "print(x.name)"
   ]
  },
  {
   "cell_type": "code",
   "execution_count": 15,
   "id": "b39b1491",
   "metadata": {},
   "outputs": [
    {
     "name": "stdout",
     "output_type": "stream",
     "text": [
      "1994\n"
     ]
    }
   ],
   "source": [
    "print(x.año)"
   ]
  },
  {
   "cell_type": "code",
   "execution_count": 14,
   "id": "7a31b715",
   "metadata": {},
   "outputs": [
    {
     "name": "stdout",
     "output_type": "stream",
     "text": [
      "Tokyo Blues\n"
     ]
    }
   ],
   "source": [
    "print(y.name)"
   ]
  },
  {
   "cell_type": "code",
   "execution_count": 16,
   "id": "049bc9ad",
   "metadata": {},
   "outputs": [
    {
     "name": "stdout",
     "output_type": "stream",
     "text": [
      "1984\n"
     ]
    }
   ],
   "source": [
    "print(y.año)"
   ]
  },
  {
   "cell_type": "markdown",
   "id": "c73e2c91",
   "metadata": {},
   "source": [
    "Metodo magico __dic__ que nos  da el contenido de un objeto"
   ]
  },
  {
   "cell_type": "code",
   "execution_count": 17,
   "id": "69981051",
   "metadata": {},
   "outputs": [
    {
     "data": {
      "text/plain": [
       "{'name': '1Q84', 'año': '1994'}"
      ]
     },
     "execution_count": 17,
     "metadata": {},
     "output_type": "execute_result"
    }
   ],
   "source": [
    "x.__dict__"
   ]
  },
  {
   "cell_type": "code",
   "execution_count": 18,
   "id": "0bd3bdd2",
   "metadata": {},
   "outputs": [
    {
     "data": {
      "text/plain": [
       "{'name': 'Tokyo Blues', 'año': '1984'}"
      ]
     },
     "execution_count": 18,
     "metadata": {},
     "output_type": "execute_result"
    }
   ],
   "source": [
    "y.__dict__"
   ]
  },
  {
   "cell_type": "code",
   "execution_count": 19,
   "id": "eb2491b0",
   "metadata": {},
   "outputs": [
    {
     "data": {
      "text/plain": [
       "mappingproxy({'__module__': '__main__',\n",
       "              '__dict__': <attribute '__dict__' of 'Texto' objects>,\n",
       "              '__weakref__': <attribute '__weakref__' of 'Texto' objects>,\n",
       "              '__doc__': None})"
      ]
     },
     "execution_count": 19,
     "metadata": {},
     "output_type": "execute_result"
    }
   ],
   "source": [
    "Texto.__dict__"
   ]
  },
  {
   "cell_type": "code",
   "execution_count": 22,
   "id": "11ee3703",
   "metadata": {},
   "outputs": [
    {
     "name": "stdout",
     "output_type": "stream",
     "text": [
      "Hola, mi titulo es: After dark!\n"
     ]
    }
   ],
   "source": [
    "def saludo(obj):\n",
    "    \"\"\" Va recibir un objeto\"\"\"\n",
    "    print(\"Hola, mi titulo es: \" + obj.name + \"!\")\n",
    "\n",
    "class Texto:\n",
    "    pass\n",
    "x = Texto()\n",
    "x.name = \"After dark\"\n",
    "saludo(x)"
   ]
  },
  {
   "cell_type": "code",
   "execution_count": 44,
   "id": "5f6270a2",
   "metadata": {},
   "outputs": [
    {
     "name": "stdout",
     "output_type": "stream",
     "text": [
      "Hola, mi titulo es: After dark!\n"
     ]
    }
   ],
   "source": [
    "def saludo(obj):\n",
    "    \"\"\" Va recibir un objeto\"\"\"\n",
    "    print(\"Hola, mi titulo es: \" + obj.name + \"!\")\n",
    "\n",
    "class Texto:\n",
    "    # Le asignamos una función saludo\n",
    "    saludar = saludo\n",
    "    pass\n",
    "\n",
    "x = Texto()\n",
    "x.name = \"After dark\"\n",
    "Texto.saludar(x)\n"
   ]
  },
  {
   "cell_type": "markdown",
   "id": "827be83c",
   "metadata": {},
   "source": [
    "Vincular clases, funciones, variables."
   ]
  },
  {
   "cell_type": "code",
   "execution_count": 45,
   "id": "4bba92a1",
   "metadata": {},
   "outputs": [
    {
     "data": {
      "text/plain": [
       "mappingproxy({'__module__': '__main__',\n",
       "              'saludar': <function __main__.saludo(obj)>,\n",
       "              '__dict__': <attribute '__dict__' of 'Texto' objects>,\n",
       "              '__weakref__': <attribute '__weakref__' of 'Texto' objects>,\n",
       "              '__doc__': None})"
      ]
     },
     "execution_count": 45,
     "metadata": {},
     "output_type": "execute_result"
    }
   ],
   "source": [
    "Texto.__dict__"
   ]
  },
  {
   "cell_type": "markdown",
   "id": "380ea922",
   "metadata": {},
   "source": [
    "### Metodo init\n",
    "\n",
    "Deseamos definir atributos a una instancia en el momento de su creación. El método `__init__` es un metodo magico que se llama inmediatamente y automaticamente despues de ser instanciado un objeto.\n",
    "\n",
    "Para poder crear atributos en la instancia, al momento de su creacion necesitamos utilizar el metodo init, que se llama inmediatamete despues de haberse creado el objeto"
   ]
  },
  {
   "cell_type": "code",
   "execution_count": 28,
   "id": "874b759a",
   "metadata": {},
   "outputs": [],
   "source": [
    "class A:\n",
    "    # Por eso es un inicializador\n",
    "    def __init__(self):\n",
    "        # Hace referencia a si mismo\n",
    "        print(\"Metodo __init__ ejecutado\")        "
   ]
  },
  {
   "cell_type": "code",
   "execution_count": 29,
   "id": "984c6343",
   "metadata": {},
   "outputs": [
    {
     "name": "stdout",
     "output_type": "stream",
     "text": [
      "Metodo __init__ ejecutado\n"
     ]
    }
   ],
   "source": [
    "x = A()"
   ]
  },
  {
   "cell_type": "code",
   "execution_count": null,
   "id": "d044ed5b",
   "metadata": {},
   "outputs": [],
   "source": [
    "x = Texto()\n",
    "x.name = \"After dark\"\n",
    "\n",
    "self.name = name   "
   ]
  },
  {
   "cell_type": "code",
   "execution_count": 37,
   "id": "5eeb184e",
   "metadata": {},
   "outputs": [],
   "source": [
    "# Va utilizar el objeto que estoy construyendo le va construir\n",
    "# el metodo init\n",
    "\n",
    "class Texto:\n",
    "    # Le asignamos una función saludo\n",
    "    def __init__(self, name=None):\n",
    "        # Hace referencia a si mismo\n",
    "        self.name = name   \n",
    "    \n",
    "    \n",
    "    def saludo(self):\n",
    "        if self.name:\n",
    "            print(\"Hola, mi titulo es: \" + self.name + \"!\")\n",
    "        else:\n",
    "            print(\"Hola, soy un texto sin titulo\")"
   ]
  },
  {
   "cell_type": "code",
   "execution_count": 38,
   "id": "10e4213a",
   "metadata": {},
   "outputs": [
    {
     "name": "stdout",
     "output_type": "stream",
     "text": [
      "Hola, soy un texto sin titulo\n"
     ]
    }
   ],
   "source": [
    "x = Texto()\n",
    "x.saludo()"
   ]
  },
  {
   "cell_type": "code",
   "execution_count": 39,
   "id": "bfce7ea1",
   "metadata": {},
   "outputs": [
    {
     "data": {
      "text/plain": [
       "{'name': None}"
      ]
     },
     "execution_count": 39,
     "metadata": {},
     "output_type": "execute_result"
    }
   ],
   "source": [
    "x.__dict__"
   ]
  },
  {
   "cell_type": "code",
   "execution_count": 40,
   "id": "d13e409b",
   "metadata": {},
   "outputs": [
    {
     "name": "stdout",
     "output_type": "stream",
     "text": [
      "Hola, mi titulo es: After Dark!\n"
     ]
    }
   ],
   "source": [
    "y = Texto(\"After Dark\")\n",
    "y.saludo()"
   ]
  },
  {
   "cell_type": "code",
   "execution_count": 41,
   "id": "77f035d5",
   "metadata": {},
   "outputs": [
    {
     "data": {
      "text/plain": [
       "{'name': 'After Dark'}"
      ]
     },
     "execution_count": 41,
     "metadata": {},
     "output_type": "execute_result"
    }
   ],
   "source": [
    "y.__dict__"
   ]
  },
  {
   "cell_type": "markdown",
   "id": "cc5cf8ee",
   "metadata": {},
   "source": [
    "Esta es la razon por la cual __init__ no es el constructor, es el inicializador de una instancia de clase, cada vez que creemos un objeto se iniciliza para cada objeto un atributo descrito adentro del init."
   ]
  }
 ],
 "metadata": {
  "kernelspec": {
   "display_name": "Python 3",
   "language": "python",
   "name": "python3"
  },
  "language_info": {
   "codemirror_mode": {
    "name": "ipython",
    "version": 3
   },
   "file_extension": ".py",
   "mimetype": "text/x-python",
   "name": "python",
   "nbconvert_exporter": "python",
   "pygments_lexer": "ipython3",
   "version": "3.8.8"
  }
 },
 "nbformat": 4,
 "nbformat_minor": 5
}
