{
 "cells": [
  {
   "cell_type": "markdown",
   "metadata": {},
   "source": [
    "# Multiprocessing"
   ]
  },
  {
   "cell_type": "markdown",
   "metadata": {},
   "source": [
    "`multiprocessing` es un paquete de python que permite la generación de  procesos, ofrece concurrencia local como remota."
   ]
  },
  {
   "cell_type": "markdown",
   "metadata": {},
   "source": [
    "Una manera sencilla de generar un proceso es por medio de la creación del objeto `Process` que ejecuta la tarea especificada en el valor del argumento `target`. El proceso hijo creado se inicia por medio del método `start()`, mientras que con la función `join()` el proceso principal o padre espera a la finalización del proceso creado."
   ]
  },
  {
   "cell_type": "markdown",
   "metadata": {},
   "source": [
    "Iniciemos con un ejemplo de motivación a la creación de procesos: calculemos el cuadrado de un conjunto de números."
   ]
  },
  {
   "cell_type": "code",
   "execution_count": 24,
   "metadata": {},
   "outputs": [
    {
     "name": "stdout",
     "output_type": "stream",
     "text": [
      "calcula cuadrado de números\n",
      "cuadrado: 0\n",
      "cuadrado: 1\n",
      "cuadrado: 4\n",
      "cuadrado: 9\n",
      "cuadrado: 16\n",
      "cuadrado: 25\n",
      "cuadrado: 36\n",
      "cuadrado: 49\n",
      "cuadrado: 64\n",
      "cuadrado: 81\n",
      "Tiempo de ejecución:  2.0154128074645996\n",
      "Finaliza ejecución\n"
     ]
    }
   ],
   "source": [
    "import time\n",
    "\n",
    "def calc_cuad(numeros):\n",
    "    print(\"calcula cuadrado de números\")\n",
    "    for n in numeros:\n",
    "        time.sleep(0.2)\n",
    "        print('cuadrado:', n * n )\n",
    "\n",
    "t = time.time()\n",
    "nums = range(10)\n",
    "calc_cuad(nums)\n",
    "print(\"Tiempo de ejecución: \", time.time()-t)\n",
    "print(\"Finaliza ejecución\")"
   ]
  },
  {
   "cell_type": "markdown",
   "metadata": {},
   "source": [
    "Ahora calculemos el cuadrado y el cubo del mismo conjunto de números"
   ]
  },
  {
   "cell_type": "code",
   "execution_count": 9,
   "metadata": {},
   "outputs": [
    {
     "name": "stdout",
     "output_type": "stream",
     "text": [
      "calcula el cuadrado:\n",
      "cuadrado: 0\n",
      "cuadrado: 1\n",
      "cuadrado: 4\n",
      "cuadrado: 9\n",
      "cuadrado: 16\n",
      "cuadrado: 25\n",
      "cuadrado: 36\n",
      "cuadrado: 49\n",
      "cuadrado: 64\n",
      "cuadrado: 81\n",
      "calcula el cubo:\n",
      "cubo: 0\n",
      "cubo: 1\n",
      "cubo: 8\n",
      "cubo: 27\n",
      "cubo: 64\n",
      "cubo: 125\n",
      "cubo: 216\n",
      "cubo: 343\n",
      "cubo: 512\n",
      "cubo: 729\n",
      "Tiempo de ejecución:  6.025312662124634\n",
      "Finaliza ejecución\n"
     ]
    }
   ],
   "source": [
    "import time\n",
    "\n",
    "def calc_cuad(numeros):\n",
    "    print(\"calcula el cuadrado:\")\n",
    "    for n in numeros:\n",
    "        time.sleep(0.2)\n",
    "        print('cuadrado:', n * n )\n",
    "        \n",
    "def calc_cubo(numeros):\n",
    "    print(\"calcula el cubo:\")\n",
    "    for n in numeros:\n",
    "        time.sleep(0.4)\n",
    "        print('cubo:', n * n * n)\n",
    "        \n",
    "nums = range(10)\n",
    "t = time.time()\n",
    "calc_cuad(nums)\n",
    "calc_cubo(nums)\n",
    "\n",
    "print(\"Tiempo de ejecución: \", time.time()-t)\n",
    "print(\"Finaliza ejecución\")"
   ]
  },
  {
   "cell_type": "markdown",
   "metadata": {},
   "source": [
    "Un proceso hijo se crea de la siguiente forma:"
   ]
  },
  {
   "cell_type": "code",
   "execution_count": null,
   "metadata": {},
   "outputs": [],
   "source": [
    "import multiprocessing as mp\n"
   ]
  },
  {
   "cell_type": "code",
   "execution_count": 17,
   "metadata": {},
   "outputs": [
    {
     "name": "stdout",
     "output_type": "stream",
     "text": [
      "Hola oscar\n"
     ]
    }
   ],
   "source": [
    "def tarea(nombre):\n",
    "    print('Hola', nombre)\n",
    "\n",
    "if __name__ == '__main__':\n",
    "    p = mp.Process(target=tarea, args=('oscar',))\n",
    "    p.start()\n",
    "    p.join()"
   ]
  },
  {
   "cell_type": "markdown",
   "metadata": {},
   "source": [
    "Ahora vamos a crear un proceso hijo que calcule el cuadrado de un conjunto de números:"
   ]
  },
  {
   "cell_type": "code",
   "execution_count": 21,
   "metadata": {},
   "outputs": [
    {
     "name": "stdout",
     "output_type": "stream",
     "text": [
      "calcula cuadrado de números\n",
      "cuadrado: 0\n",
      "cuadrado: 1\n",
      "cuadrado: 4\n",
      "cuadrado: 9\n",
      "cuadrado: 16\n",
      "cuadrado: 25\n",
      "cuadrado: 36\n",
      "cuadrado: 49\n",
      "cuadrado: 64\n",
      "cuadrado: 81\n",
      "Tiempo de ejecución:  2.401238441467285\n",
      "Finaliza ejecución\n"
     ]
    }
   ],
   "source": [
    "def calc_cuad(numeros):\n",
    "    print(\"calcula cuadrado de números\")\n",
    "    for n in numeros:\n",
    "        time.sleep(0.2)\n",
    "        print('cuadrado:', n * n )\n",
    "\n",
    "nums = range(10)\n",
    "\n",
    "t = time.time()\n",
    "p1 = mp.Process(target=calc_cuad, args=(nums,))\n",
    "\n",
    "p1.start()\n",
    "p1.join()\n",
    "\n",
    "print(\"Tiempo de ejecución: \", time.time()-t)\n",
    "print(\"Finaliza ejecución\")"
   ]
  },
  {
   "cell_type": "markdown",
   "metadata": {},
   "source": [
    "Dos procesos hijos calculan el cuadrado y el cubo del mismo conjunto de números:"
   ]
  },
  {
   "cell_type": "code",
   "execution_count": 18,
   "metadata": {},
   "outputs": [
    {
     "name": "stdout",
     "output_type": "stream",
     "text": [
      "calcula cuadrado de números\n",
      "calcula cubo de números\n",
      "cuadrado: 0\n",
      "cubo: 0\n",
      "cuadrado: 1\n",
      "cuadrado: 4\n",
      "cubo: 1\n",
      "cuadrado: 9\n",
      "cuadrado: 16\n",
      "cubo: 4\n",
      "cuadrado: 25\n",
      "cuadrado: 36\n",
      "cubo: 9\n",
      "cuadrado: 49\n",
      "cuadrado: 64\n",
      "cubo: 16\n",
      "cuadrado: 81\n",
      "cubo: 25\n",
      "cubo: 36\n",
      "cubo: 49\n",
      "cubo: 64\n",
      "cubo: 81\n",
      "Tiempo de ejecución:  4.379377603530884\n",
      "Finaliza ejecución\n"
     ]
    }
   ],
   "source": [
    "def calc_cuad(numeros):\n",
    "    print(\"calcula cuadrado de números\")\n",
    "    for n in numeros:\n",
    "        time.sleep(0.2)\n",
    "        print('cuadrado:', n * n )\n",
    "        \n",
    "def calc_cubo(numeros):\n",
    "    print(\"calcula cubo de números\")\n",
    "    for n in numeros:\n",
    "        time.sleep(0.4)\n",
    "        print('cubo:', n * n )\n",
    "\n",
    "\n",
    "nums = range(10)\n",
    "\n",
    "t = time.time()\n",
    "p1 = mp.Process(target=calc_cuad, args=(nums,))\n",
    "p2 = mp.Process(target=calc_cubo, args=(nums,))\n",
    "\n",
    "p1.start()\n",
    "p2.start()\n",
    "\n",
    "p1.join()\n",
    "p2.join()\n",
    "\n",
    "\n",
    "print(\"Tiempo de ejecución: \", time.time()-t)\n",
    "print(\"Finaliza ejecución\")"
   ]
  },
  {
   "cell_type": "markdown",
   "metadata": {},
   "source": [
    "## Identificadores pid, ppid"
   ]
  },
  {
   "cell_type": "markdown",
   "metadata": {},
   "source": [
    "Los identificadores de proceso padre y del proceso hijo se pueden obtenter con las funciones `getppid()` y `getppid()`"
   ]
  },
  {
   "cell_type": "code",
   "execution_count": 25,
   "metadata": {},
   "outputs": [
    {
     "name": "stdout",
     "output_type": "stream",
     "text": [
      "module name: __main__\n",
      "parent process: 163357\n",
      "process id: 163530\n"
     ]
    }
   ],
   "source": [
    "import os\n",
    "\n",
    "print('module name:', __name__)\n",
    "print('parent process:', os.getppid())\n",
    "print('process id:', os.getpid())"
   ]
  },
  {
   "cell_type": "code",
   "execution_count": 17,
   "metadata": {},
   "outputs": [
    {
     "name": "stdout",
     "output_type": "stream",
     "text": [
      "Primera linea\n",
      "module name: __main__\n",
      "parent process: 46414\n",
      "process id: 46561\n",
      "funcion f\n",
      "module name: __main__\n",
      "parent process: 46561\n",
      "process id: 48245\n",
      "hello oscar\n",
      "---------\n"
     ]
    }
   ],
   "source": [
    "from multiprocessing import Process\n",
    "import os\n",
    "\n",
    "def info(titulo):\n",
    "    print(titulo)\n",
    "    print('module name:', __name__)\n",
    "    print('parent process:', os.getppid())\n",
    "    print('process id:', os.getpid())\n",
    "\n",
    "def f(nombre):\n",
    "    info('funcion f')\n",
    "    print('hello', nombre)\n",
    "    print(\"---------\")\n",
    "\n",
    "#f __name__ == '__main__':\n",
    "info('Primera linea')\n",
    "p = Process(target=f, args=('oscar',))\n",
    "p.start()\n",
    "p.join()"
   ]
  },
  {
   "cell_type": "code",
   "execution_count": 10,
   "metadata": {},
   "outputs": [
    {
     "name": "stdout",
     "output_type": "stream",
     "text": [
      "Main process PID: 165739\n",
      "Child Process With PID: 165971\n",
      "Child process terminating\n"
     ]
    }
   ],
   "source": [
    "def childTask():\n",
    "    print(\"Child Process With PID: {}\".format(multiprocessing.current_process().pid))\n",
    "    time.sleep(3)\n",
    "    print(\"Child process terminating\")\n",
    "\n",
    "def main():\n",
    "    print(\"Main process PID: {}\".format(multiprocessing.current_process().pid))\n",
    "    myProcess = multiprocessing.Process(target=childTask)\n",
    "    myProcess.start()\n",
    "    myProcess.join()\n",
    "\n",
    "# Se acostumbra usar la variable __name__\n",
    "# para hacer la ejecución desde el progragrama\n",
    "# principal. En los ejemplos con notebooks la omitiremos \n",
    "if __name__ == '__main__':\n",
    "    main()"
   ]
  },
  {
   "cell_type": "markdown",
   "metadata": {},
   "source": [
    "Con el método `cpu_count()` se muestra el número de procesadores del sistema que se está utilizando."
   ]
  },
  {
   "cell_type": "code",
   "execution_count": 7,
   "metadata": {},
   "outputs": [
    {
     "data": {
      "text/plain": [
       "4"
      ]
     },
     "execution_count": 7,
     "metadata": {},
     "output_type": "execute_result"
    }
   ],
   "source": [
    "import multiprocessing\n",
    "multiprocessing.cpu_count()"
   ]
  },
  {
   "cell_type": "markdown",
   "metadata": {},
   "source": [
    "El identificador del proceso actual se accede por medio de `current_process` "
   ]
  },
  {
   "cell_type": "markdown",
   "metadata": {},
   "source": [
    "Es posible asignar un nombre a un proceso hijo que ha sido creado, por medio del argumento `name` se asigna el nombre del proceso hijo."
   ]
  },
  {
   "cell_type": "code",
   "execution_count": 11,
   "metadata": {},
   "outputs": [
    {
     "name": "stdout",
     "output_type": "stream",
     "text": [
      "My-Awesome-Process Just performed X\n"
     ]
    }
   ],
   "source": [
    "def myProcess():\n",
    "    print(\"{} Just performed X\".format(multiprocessing.current_process().name))\n",
    "\n",
    "def main():\n",
    "    childProcess = multiprocessing.Process(target=myProcess, name='My-Awesome-Process')\n",
    "    childProcess.start()\n",
    "    childProcess.join()\n",
    "\n",
    "main()"
   ]
  },
  {
   "cell_type": "markdown",
   "metadata": {},
   "source": [
    "## Finalización de procesos"
   ]
  },
  {
   "cell_type": "markdown",
   "metadata": {},
   "source": [
    "Un proceso que está en ejecución puede ser cancelado o interrumpido por medido de la función `terminate()`"
   ]
  },
  {
   "cell_type": "code",
   "execution_count": 17,
   "metadata": {},
   "outputs": [
    {
     "name": "stdout",
     "output_type": "stream",
     "text": [
      "My Process has terminated, terminating main thread\n",
      "Terminating Child Process\n",
      "Child Process Successfully terminated\n"
     ]
    }
   ],
   "source": [
    "def myProcess():\n",
    "    current_process = multiprocessing.current_process()\n",
    "    print(\"Child Process PID: {}\".format(current_process.pid))\n",
    "    time.sleep(20)\n",
    "    current_process = multiprocessing.current_process()\n",
    "    print(\"Main process PID: {}\".format(current_process.pid))\n",
    "\n",
    "myProcess = multiprocessing.Process(target=myProcess)\n",
    "myProcess.start()\n",
    "#myProcess.join()\n",
    "\n",
    "print(\"My Process has terminated, terminating main thread\")\n",
    "print(\"Terminating Child Process\")\n",
    "myProcess.terminate()\n",
    "print(\"Child Process Successfully terminated\")"
   ]
  },
  {
   "cell_type": "markdown",
   "metadata": {},
   "source": [
    "El método `terminate()` ofrece una forma rápida de terminar un proceso. Es importante mencionar que los procesos hijos que del proceso que termina no son finalizados al realizar la llamada a `terminate()`, estos procesos se denominarán **procesos huérfanos**.\n",
    "\n",
    "Aunque finalizar un proceso puede ser mal visto, algunas veces es necesario si existe algún problema al realizar tareas de _comunicación interprocesos_.\n",
    "\n",
    "Al utlizar `terminate()` es importante hacer la llamada a `join()` también debido a que no es inmediata la actualización del estado `alive` del proceso."
   ]
  },
  {
   "cell_type": "markdown",
   "metadata": {},
   "source": [
    "## Procesos como objetos"
   ]
  },
  {
   "cell_type": "markdown",
   "metadata": {},
   "source": [
    "En el siguiente ejemplo se muestra como crear un proceso por medio de la definición de la clase `MyProcess` que hereda de la clase base `multiprocessing.Process`. La clase creada incluye un **constructor** y el método `run()`.\n"
   ]
  },
  {
   "cell_type": "code",
   "execution_count": 13,
   "metadata": {},
   "outputs": [
    {
     "name": "stdout",
     "output_type": "stream",
     "text": [
      "Main Process PID: 165739\n",
      "Child Process PID: 166086\n"
     ]
    }
   ],
   "source": [
    "class MyProcess(multiprocessing.Process):\n",
    "    def __init__(self):\n",
    "        super(MyProcess, self).__init__()\n",
    "\n",
    "    def run(self):\n",
    "        print(\"Child Process PID: {}\".format(multiprocessing.current_process().pid))\n",
    "\n",
    "def main():\n",
    "    print(\"Main Process PID: {}\".format(multiprocessing.current_process().pid))\n",
    "    myProcess = MyProcess()\n",
    "    myProcess.start()\n",
    "    myProcess.join()\n",
    "        \n",
    "main()"
   ]
  },
  {
   "cell_type": "markdown",
   "metadata": {},
   "source": [
    "### Ejercicio:\n",
    "1. Vamos a crear 3 procesos los cuales tendrán nombre y código definido como `funP1`, `funP2`, `funP3`. Cada hijo escribirá su numbre, su `pid` y el `pid` del padre, además de hacer un cálculo sobre tres valores a, b y c. \n",
    "2. El proceso 1 calcula $a \\times b + c$, el proceso 2 calcula $a \\times b \\times c$ y el proceso 3 calcula $(a \\times b)/c$.\n",
    "3. Crea un mecanismo para terminar alguno de los procesos de manera aleatoria.\n"
   ]
  },
  {
   "cell_type": "markdown",
   "metadata": {},
   "source": [
    "## GIL: Global Interpreter Lock"
   ]
  },
  {
   "cell_type": "markdown",
   "metadata": {},
   "source": [
    "La ejecució *concurrente* la lleva acabo el intérprete de Python (escrito en C `CPython`). El paquete ofrece concurrencia tanto local como remota, por medio del Interpretre de bloqueo global (GIL. Debido a esto, el módulo `multiprocessing` permite al programador aprovechar al máximo múltiples procesadores en una máquina determinada. La ejecución de multiples procesos creados con `multiprocessing` es posible tanto en Unix como en Windows."
   ]
  },
  {
   "cell_type": "markdown",
   "metadata": {},
   "source": [
    "Es el mecanismo utilizado por el intérprete CPython para garantizar que solo un subproceso ejecute el código de bytes (*bytecode*) de Python a la vez. Esto simplifica la implementación de CPython al hacer que el modelo de objetos esté implícitamente seguro contra el acceso concurrente.\n",
    "El GIL funciona como un mecanismo de sincronización en la ejecución de procesos (e hilos) tal que únicamente un proceso (o hilo) puede ejecutarse a la vez, aún en un procesador multi-core."
   ]
  },
  {
   "cell_type": "code",
   "execution_count": 4,
   "metadata": {},
   "outputs": [
    {
     "data": {
      "image/png": "[encoded data removed]",
      "text/plain": [
       "<IPython.core.display.Image object>"
      ]
     },
     "execution_count": 4,
     "metadata": {
      "image/png": {
       "height": 450,
       "width": 450
      }
     },
     "output_type": "execute_result"
    }
   ],
   "source": [
    "from IPython.display import Image\n",
    "Image(\"gil.png\", width=450, height=450)"
   ]
  },
  {
   "cell_type": "markdown",
   "metadata": {},
   "source": [
    "## Esperar la ejecución de procesos"
   ]
  },
  {
   "cell_type": "markdown",
   "metadata": {},
   "source": [
    "La clase `Process` del módulo `multiprocessing` provee el método `join()` como una forma de esperar que un proceso creado finalice su tarea y salga de su ejecución.\n",
    "\n",
    "No obstante, a veces se requiere **crear procesos que corran en silencio (_background_) y no bloquear el proceso principal hasta que finalicen**. Esta especificación es comunmente utilizada cuando el proceso principal no tiene la certeza de interrumpir el proceso en un momento específico o cuando al finalizar el proceso principal no se tengan afectaciones por no terminar otro proceso.\n",
    "\n",
    "Estos proceso se llaman **Proceso demonio** (_daemon processes)_. Por medio del atributo `daemon` del método `Process` se crea un proceso de este tipo. El valor por defecto del atributo `daemon` es `False`, se define a `True` para crear el proceso demonio."
   ]
  },
  {
   "cell_type": "code",
   "execution_count": 14,
   "metadata": {},
   "outputs": [
    {
     "name": "stdout",
     "output_type": "stream",
     "text": [
      "Starting process Worker 1, ID 166162...\n",
      "Starting process Worker 2, ID 166167...\n",
      "Exiting process Worker 2, ID 166167...\n",
      "Exiting process Worker 1, ID 166162...\n"
     ]
    }
   ],
   "source": [
    "from multiprocessing import Process, current_process\n",
    "import time\n",
    "\n",
    "def f1():\n",
    "    p = current_process()\n",
    "    print('Starting process %s, ID %s...' % (p.name, p.pid))\n",
    "    time.sleep(4)\n",
    "    print('Exiting process %s, ID %s...' % (p.name, p.pid))\n",
    "\n",
    "def f2():\n",
    "    p = current_process()\n",
    "    print('Starting process %s, ID %s...' % (p.name, p.pid))\n",
    "    time.sleep(2)\n",
    "    print('Exiting process %s, ID %s...' % (p.name, p.pid))\n",
    "\n",
    "if __name__ == '__main__':\n",
    "    p1 = Process(name='Worker 1', target=f1)\n",
    "    p1.daemon = True\n",
    "    p2 = Process(name='Worker 2', target=f2)\n",
    "    \n",
    "    p1.start()\n",
    "    time.sleep(1)\n",
    "    p2.start()"
   ]
  },
  {
   "cell_type": "markdown",
   "metadata": {},
   "source": [
    "El proceso `p1` es un proceso demonio y el proceso `p2` es un proceso convencional. La ejecución del primer proceso es más larga que la del segundo, por lo que es muy posible que el proceso `p2` finalice antes del proceso `p1`. Debido a que `p1` es un proceso demonio, el proceso principal deberá finalizar antes que el proceso `p1` termine."
   ]
  },
  {
   "cell_type": "markdown",
   "metadata": {},
   "source": [
    "Otra forma de usar los procesos demonios consiste en esperar su ejecución un periodo de tiempo específico antes de terminarlos prematuramente. Las combinación de los procesos demonio con el método `join()` permite determinar un tiempo específico de espera antes de la finalización de un proceso. Por medio del paso de un argumento (número de segundos de espera) al método `join()` de un proceso demonio, se crea una ventana de tiempo de ejecución del proceso después del cual se finalizará haya o no terminado su tarea. "
   ]
  },
  {
   "cell_type": "code",
   "execution_count": 15,
   "metadata": {},
   "outputs": [
    {
     "name": "stdout",
     "output_type": "stream",
     "text": [
      "Starting process Worker 1, ID 166201...\n",
      "Starting process Worker 2, ID 166206...\n",
      "Whether Worker 1 is still alive: True\n",
      "Exiting process Worker 2, ID 166206...\n",
      "Exiting process Worker 1, ID 166201...\n"
     ]
    }
   ],
   "source": [
    "if __name__ == '__main__':\n",
    "    p1 = Process(name='Worker 1', target=f1)\n",
    "    p1.daemon = True\n",
    "    p2 = Process(name='Worker 2', target=f2)\n",
    "    \n",
    "    p1.start()\n",
    "    time.sleep(1)\n",
    "    p2.start()\n",
    "    \n",
    "    p1.join(1)\n",
    "    print('Whether Worker 1 is still alive:', p1.is_alive())\n",
    "    p2.join()\n"
   ]
  },
  {
   "cell_type": "markdown",
   "metadata": {},
   "source": [
    "Vemos que el proceso `p1` permanece en ejecución y continua vivo el tiempo que se ha indicado en proceso principal."
   ]
  },
  {
   "cell_type": "markdown",
   "metadata": {},
   "source": [
    "## Comunicación entre procesos\n",
    "Consideremos el siguiente ejemplo donde el proceso padre quiere consultar el resultado de una operación que ejecutó el proceso hijo: "
   ]
  },
  {
   "cell_type": "code",
   "execution_count": 22,
   "metadata": {},
   "outputs": [],
   "source": [
    "import multiprocessing as mp\n",
    "import time\n",
    "import os"
   ]
  },
  {
   "cell_type": "code",
   "execution_count": 23,
   "metadata": {},
   "outputs": [
    {
     "name": "stdout",
     "output_type": "stream",
     "text": [
      "cuadrado: 0\n",
      "cuadrado: 1\n",
      "cuadrado: 4\n",
      "cuadrado: 9\n",
      "cuadrado: 16\n",
      "cuadrado: 25\n",
      "cuadrado: 36\n",
      "cuadrado: 49\n",
      "cuadrado: 64\n",
      "cuadrado: 81\n",
      "Tiempo de ejecución:  0.13917756080627441\n",
      "Resultado del proceso: []\n",
      "Finaliza ejecución\n"
     ]
    }
   ],
   "source": [
    "nums_res = []\n",
    "\n",
    "def calc_cuad(numeros):\n",
    "    global nums_res\n",
    "    for n in numeros:\n",
    "        print('cuadrado:', n * n )\n",
    "        nums_res.append(n * n)  \n",
    "\n",
    "    \n",
    "nums = range(10)\n",
    "\n",
    "t = time.time()\n",
    "p1 = mp.Process(target=calc_cuad, args=(nums,))\n",
    "\n",
    "p1.start()\n",
    "p1.join()\n",
    "\n",
    "print(\"Tiempo de ejecución: \", time.time()-t)\n",
    "print(\"Resultado del proceso:\", nums_res)    \n",
    "print(\"Finaliza ejecución\")"
   ]
  },
  {
   "cell_type": "markdown",
   "metadata": {},
   "source": [
    "Los procesos tienen su propio espacio de memoria. Así, las variables del pograma no se comparten entre procesos. Es necesario crear comunicación entre procesos (IPC) si se desea compartir datos entre procesos.\n",
    "\n",
    "El módulo `multiprocessing` permite compartir datos entre procesos y tener comunicación interprocesos por medio de tuberías y colas. Específicamente provee opciones de paso de mensajes por medio de recursos compartidos: pipes para conexiones punto a punto y colas para multiples productores y consumidores. "
   ]
  },
  {
   "cell_type": "markdown",
   "metadata": {},
   "source": [
    "### Memoria compartida\n",
    "\n",
    "Cuando se realiza una programación concurrente, generalmente es mejor evitar el uso del recursos compartidos en la medida de lo posible. Esto es particularmente cierto cuando se utilizan múltiples procesos.\n",
    "Sin embargo, si se necesita utilizar algunos datos compartidos, el multiprocesamiento proporciona un medio para hacerlo."
   ]
  },
  {
   "cell_type": "code",
   "execution_count": 28,
   "metadata": {},
   "outputs": [
    {
     "data": {
      "image/png": "[encoded data removed]",
      "text/plain": [
       "<IPython.core.display.Image object>"
      ]
     },
     "execution_count": 28,
     "metadata": {
      "image/png": {
       "height": 420,
       "width": 360
      }
     },
     "output_type": "execute_result"
    }
   ],
   "source": [
    "from IPython.display import Image\n",
    "Image(\"mem-multiprocessing.png\", width=360, height=420)"
   ]
  },
  {
   "cell_type": "markdown",
   "metadata": {},
   "source": [
    "Los datos se pueden almacenar en un mapa de memoria compartida usando `Value` o `Array`.\n",
    "\n",
    "Es posible compatir valores unitarios del proceso hijo al proceso padre por medio del método `Value` de multiprocessing."
   ]
  },
  {
   "cell_type": "code",
   "execution_count": 46,
   "metadata": {},
   "outputs": [
    {
     "name": "stdout",
     "output_type": "stream",
     "text": [
      "El cuadrado de  25.0\n",
      "Resultado fuera del proceso: 5.0\n"
     ]
    }
   ],
   "source": [
    "def escribe_num(val):\n",
    "    num = val.value * val.value\n",
    "    print(\"El cuadrado de \", num)\n",
    "    \n",
    "t = time.time()\n",
    "valor = mp.Value('d', 5.0)\n",
    "p1 = mp.Process(target=escribe_num, args=(valor,))\n",
    "\n",
    "p1.start()\n",
    "p1.join()\n",
    "\n",
    "print(\"Resultado fuera del proceso:\", valor.value)"
   ]
  },
  {
   "cell_type": "code",
   "execution_count": 49,
   "metadata": {},
   "outputs": [
    {
     "name": "stdout",
     "output_type": "stream",
     "text": [
      "Resultado del proceso: [0, 1, 4, 9, 16, 25, 36, 49, 64, 81]\n",
      "Resultado fuera del proceso: [0, 1, 4, 9, 16, 25, 36, 49, 64, 81]\n",
      "Tiempo de ejecución:  0.028410911560058594\n",
      "Finaliza ejecución\n"
     ]
    }
   ],
   "source": [
    "import multiprocessing as mp\n",
    "import time\n",
    "\n",
    "def calc_cuad(numeros, result):\n",
    "    for idx, n in enumerate(numeros):\n",
    "        result[idx] = n * n # es un arreglo de C y debo manejarlo a través de sus índices\n",
    "        \n",
    "    print(\"Resultado del proceso:\", result[:])    \n",
    "\n",
    "nums = range(10)\n",
    "\n",
    "t = time.time()\n",
    "result = mp.Array('i', 10)\n",
    "p1 = mp.Process(target=calc_cuad, args=(nums,result))\n",
    "\n",
    "p1.start()\n",
    "p1.join()\n",
    "\n",
    "print(\"Resultado fuera del proceso:\", result[:]) # ¿vamos a poder ver el contenido de result?\n",
    "\n",
    "print(\"Tiempo de ejecución: \", time.time()-t)\n",
    "print(\"Finaliza ejecución\")"
   ]
  },
  {
   "cell_type": "markdown",
   "metadata": {},
   "source": [
    "### Pipes\n",
    "Los *pipes* o tuberías representan una forma de pasar información. Los tipos de *pipes* pueden ser anónimos o con nombre.\n",
    "Los *pipes* anónimos son métodos de comunicación simple del tipo FIFO, son utilizados para la **comunicación interproceso** y solo transmiten en una sola dirección a la vez; para una comunicación bidireccional (duplex) se requieren dos *pipes* anónimos. Los *pipes* con  nombre son idénticos a los anónimos con la diferencia que durarán siempre y cuando el sistema operativo tenga activos *pipes* anónimos. "
   ]
  },
  {
   "cell_type": "code",
   "execution_count": 50,
   "metadata": {},
   "outputs": [
    {
     "name": "stdout",
     "output_type": "stream",
     "text": [
      "['hello world']\n"
     ]
    }
   ],
   "source": [
    "from multiprocessing import Process, Pipe\n",
    " \n",
    "def f(conn):\n",
    "    conn.send(['hello world'])\n",
    "    conn.close()\n",
    "    \n",
    "if __name__ == '__main__':\n",
    "    parent_conn, child_conn = Pipe()\n",
    "    p = Process(target=f, args=(child_conn,))\n",
    "    p.start()\n",
    "    #print(parent_conn.recv())   \n",
    "    p.join()\n",
    "    \n",
    "    print(parent_conn.recv())  "
   ]
  },
  {
   "cell_type": "markdown",
   "metadata": {},
   "source": [
    "`Pipe()` devuelve dos objetos de conexión que representan los dos extremos de la tubería. Cada objeto de conexión tiene métodos send() y recv(). Aquí creamos un proceso que imprime el \"Hola mundo\" de cadena y entonces comparte los datos."
   ]
  },
  {
   "cell_type": "markdown",
   "metadata": {},
   "source": [
    "**Ejercicio:** Extiende el código para que dos procesos escriban al padre cada uno una cadena de caracteres."
   ]
  },
  {
   "cell_type": "code",
   "execution_count": 52,
   "metadata": {},
   "outputs": [
    {
     "name": "stdout",
     "output_type": "stream",
     "text": [
      "sent from main process\n",
      "sent from child process\n"
     ]
    }
   ],
   "source": [
    "from multiprocessing import Process, Pipe\n",
    "\n",
    "def worker(conn):\n",
    "    print(conn.recv())\n",
    "    time.sleep(1.8)\n",
    "    conn.send(\"sent from child process\")\n",
    "    conn.close()\n",
    "\n",
    "conn1, conn2 = multiprocessing.Pipe()\n",
    "process = multiprocessing.Process(target=worker, args=(conn2,))\n",
    "process.start()\n",
    "\n",
    "conn1.send(\"sent from main process\")\n",
    "print(conn1.recv())\n",
    "process.join()"
   ]
  },
  {
   "cell_type": "markdown",
   "metadata": {},
   "source": [
    "**Ejercicio:** Extiende el código para que dos procesos reciban un mensaje del padre y cada hijo devuelva un mensaje al padre."
   ]
  },
  {
   "cell_type": "code",
   "execution_count": 53,
   "metadata": {},
   "outputs": [
    {
     "name": "stdout",
     "output_type": "stream",
     "text": [
      "Carlos\n",
      "Renata\n",
      "Rebeca\n",
      "Sandra\n"
     ]
    }
   ],
   "source": [
    "from multiprocessing import Process, Pipe\n",
    "\n",
    "nombres = [\"Carlos\", \"Renata\", \"Rebeca\", \"Sandra\", \"END\"]\n",
    "\n",
    "def send_msgs(conn, msgs):\n",
    "    for msg in msgs:\n",
    "        conn.send(msg)\n",
    "    conn.close()\n",
    "    \n",
    "def recv_msgs(conn):\n",
    "    \n",
    "    while 1:\n",
    "        msg = conn.recv()\n",
    "        if msg == \"END\":\n",
    "            break\n",
    "        print(msg)\n",
    "        \n",
    "parent_conn, child_conn = multiprocessing.Pipe()\n",
    "\n",
    "p1 = multiprocessing.Process(target=send_msgs, args=(parent_conn, nombres))\n",
    "p2 = multiprocessing.Process(target=recv_msgs, args=(child_conn,))\n",
    "\n",
    "p1.start()\n",
    "p2.start()\n",
    "\n",
    "p1.join()\n",
    "p2.join()\n"
   ]
  },
  {
   "cell_type": "code",
   "execution_count": 54,
   "metadata": {},
   "outputs": [
    {
     "name": "stdout",
     "output_type": "stream",
     "text": [
      "Intentando iniciar el pipe\n",
      "Pipe: Mi código es MX-317\n"
     ]
    }
   ],
   "source": [
    "import os, sys\n",
    "import multiprocessing\n",
    "\n",
    "class ChildProcess(multiprocessing.Process):\n",
    "    \n",
    "    def __init__(self, pipein):\n",
    "        super(ChildProcess, self).__init__()\n",
    "        self.pipein = pipein\n",
    "        \n",
    "    def run(self):\n",
    "        print(\"Intentando iniciar el pipe\")\n",
    "        self.pipein = os.fdopen(self.pipein, 'w')\n",
    "        self.pipein.write(\"Mi código es MX-317\")\n",
    "        self.pipein.close()\n",
    "        \n",
    "\n",
    "def main():\n",
    "    pipeout, pipein = os.pipe()\n",
    "    \n",
    "    child = ChildProcess(pipein)\n",
    "    child.start()\n",
    "    child.join()\n",
    "    \n",
    "    os.close(pipein)\n",
    "    pipeout = os.fdopen(pipeout)\n",
    "    \n",
    "    pipeContent = pipeout.read()\n",
    "    print(\"Pipe: {}\".format(pipeContent))\n",
    "    \n",
    "if __name__== '__main__':\n",
    "    main()\n"
   ]
  },
  {
   "cell_type": "markdown",
   "metadata": {},
   "source": [
    "> If duplex is True (the default) then the pipe is bidirectional. If duplex is False then the pipe is unidirectional: conn1 can only be used for receiving messages and conn2 can only be used for sending messages."
   ]
  },
  {
   "cell_type": "markdown",
   "metadata": {},
   "source": [
    "### Colas\n",
    "La clase `Queue` del módulo de `multiprocessing` facilita la implementación de una cola FIFO para procesos como para subprocesos. Cualquier objetos de Python se puede pasar a través de un objeto queue. Con las colas es posible pasar mensajes de un lado a otro entre procesos.\n",
    "Es común usar una cola de mensajes para la comunicación entre procesos en lugar de tener recursos compartidos, ya que, si ciertos procesos manejan mal la memoria y los recursos compartidos, corrompiendo algno de estos mientras se comparten los recursos, habrá numerosas consecuencias indeseables e impredecibles. Sin embargo, si un proceso no pudo manejar su mensaje correctamente, otros elementos en la cola permanecerán intactos.\n",
    "\n",
    "El siguiente diagrama representa las diferencias en la arquitectura entre el uso de una cola de mensajes y los recursos compartidos (específicamente la memoria) para el interproceso."
   ]
  },
  {
   "cell_type": "code",
   "execution_count": 55,
   "metadata": {},
   "outputs": [
    {
     "data": {
      "image/png": "[encoded data removed]",
      "text/plain": [
       "<IPython.core.display.Image object>"
      ]
     },
     "execution_count": 55,
     "metadata": {
      "image/png": {
       "height": 420,
       "width": 380
      }
     },
     "output_type": "execute_result"
    }
   ],
   "source": [
    "from IPython.display import Image\n",
    "Image(\"queue-multiprocessing.png\", width=380, height=420)"
   ]
  },
  {
   "cell_type": "markdown",
   "metadata": {},
   "source": [
    "Veamos un ejemplo sencillo de la creación de una cola por medio de `Queue`:"
   ]
  },
  {
   "cell_type": "code",
   "execution_count": 57,
   "metadata": {},
   "outputs": [
    {
     "name": "stdout",
     "output_type": "stream",
     "text": [
      "[42, None, 'hello']\n"
     ]
    }
   ],
   "source": [
    "from multiprocessing import Process, Queue\n",
    "\n",
    "def f(q):\n",
    "    q.put([42, None, 'hello'])\n",
    "\n",
    "if __name__ == '__main__':\n",
    "    q = Queue()\n",
    "    p = Process(target=f, args=(q,))\n",
    "    p.start()\n",
    "    print(q.get())    # prints \"[42, None, 'hello']\"\n",
    "    p.join()"
   ]
  },
  {
   "cell_type": "code",
   "execution_count": 58,
   "metadata": {},
   "outputs": [
    {
     "name": "stdout",
     "output_type": "stream",
     "text": [
      "0\n",
      "1\n",
      "4\n",
      "9\n",
      "16\n",
      "25\n",
      "36\n",
      "49\n",
      "64\n",
      "81\n"
     ]
    }
   ],
   "source": [
    "import multiprocessing\n",
    "\n",
    "def calc_cuad(numeros, q):\n",
    "    for n in numeros:\n",
    "        q.put(n * n)\n",
    "\n",
    "if __name__ == '__main__':\n",
    "\n",
    "    nums = range(10)\n",
    "    q = multiprocessing.Queue()\n",
    "    p = multiprocessing.Process(target=calc_cuad, args=(nums,q))\n",
    "    \n",
    "    p.start()\n",
    "    p.join()\n",
    "    \n",
    "    while q.empty() is False:\n",
    "        print(q.get())"
   ]
  },
  {
   "cell_type": "code",
   "execution_count": 59,
   "metadata": {},
   "outputs": [
    {
     "name": "stdout",
     "output_type": "stream",
     "text": [
      "Starting process Process-42 for number 1...\n",
      "Done.\n"
     ]
    }
   ],
   "source": [
    "import multiprocessing\n",
    "\n",
    "class MyWorker():\n",
    "    def __init__(self, x):\n",
    "        self.x = x\n",
    "\n",
    "    def process(self):\n",
    "        pname = multiprocessing.current_process().name\n",
    "        print('Starting process %s for number %i...' % (pname, self.x))\n",
    "\n",
    "        \n",
    "def work(q):\n",
    "    worker = q.get()\n",
    "    worker.process()\n",
    "\n",
    "if __name__ == '__main__':\n",
    "    my_queue = multiprocessing.Queue()\n",
    "\n",
    "    p = multiprocessing.Process(target=work, args=(my_queue,))\n",
    "    p.start()\n",
    "\n",
    "    my_queue.put(MyWorker(1))\n",
    "\n",
    "    my_queue.close()\n",
    "    my_queue.join_thread()   ## investigar ...\n",
    "    p.join()\n",
    "\n",
    "    print('Done.')"
   ]
  },
  {
   "cell_type": "markdown",
   "metadata": {},
   "source": [
    "## Bloqueo\n",
    "\n",
    "Existen recursos los cuales no se deben acceder al mismo tiempo por dos procesos o más; por lo que es necesario proteger o bloquear el acceso a estos recursos compartidos: memoria, archivos, bases de datos."
   ]
  },
  {
   "cell_type": "code",
   "execution_count": 65,
   "metadata": {},
   "outputs": [
    {
     "name": "stdout",
     "output_type": "stream",
     "text": [
      "200\n"
     ]
    }
   ],
   "source": [
    "import time\n",
    "import multiprocessing\n",
    "\n",
    "\n",
    "\n",
    "def deposit(balance):\n",
    "    for i in range(100):\n",
    "        time.sleep(0.01)\n",
    "        balance.value = balance.value + 1\n",
    "        \n",
    "def withdraw(balance):\n",
    "    for i in range(100):\n",
    "        time.sleep(0.01)\n",
    "        balance.value = balance.value - 1\n",
    "    \n",
    "        \n",
    "if __name__ == '__main__':\n",
    "    balance = multiprocessing.Value('i', 200)\n",
    "    d = multiprocessing.Process(target=deposit, args=(balance,))\n",
    "    w = multiprocessing.Process(target=withdraw, args=(balance,))\n",
    "    d.start()\n",
    "    w.start()\n",
    "    d.join()\n",
    "    w.join()\n",
    "    print(balance.value)"
   ]
  },
  {
   "cell_type": "code",
   "execution_count": 61,
   "metadata": {},
   "outputs": [
    {
     "name": "stdout",
     "output_type": "stream",
     "text": [
      "200\n"
     ]
    }
   ],
   "source": [
    "import time\n",
    "import multiprocessing\n",
    "\n",
    "def deposit(balance, lock):\n",
    "    for i in range(100):\n",
    "        time.sleep(0.01)\n",
    "        lock.acquire()\n",
    "        balance.value = balance.value + 1\n",
    "        lock.release()\n",
    "        \n",
    "def withdraw(balance, lock):\n",
    "    for i in range(100):\n",
    "        time.sleep(0.01)\n",
    "        lock.acquire()\n",
    "        balance.value = balance.value - 1\n",
    "        lock.release()\n",
    "    \n",
    "        \n",
    "if __name__ == '__main__':\n",
    "    balance = multiprocessing.Value('i', 200)\n",
    "    lock = multiprocessing.Lock()\n",
    "    d = multiprocessing.Process(target=deposit, args=(balance, lock))\n",
    "    w = multiprocessing.Process(target=withdraw, args=(balance, lock))\n",
    "    d.start()\n",
    "    w.start()\n",
    "    d.join()\n",
    "    w.join()\n",
    "    print(balance.value)"
   ]
  },
  {
   "cell_type": "markdown",
   "metadata": {},
   "source": [
    "## Distribución de trabajo "
   ]
  },
  {
   "cell_type": "markdown",
   "metadata": {},
   "source": [
    "Por medio del método `Pool()` se distribuyen un conjunto de datos entre múltiples procesadores. A través de esta técnica se puede implementar el modelo de programación paralelelo `mapreduce` "
   ]
  },
  {
   "cell_type": "code",
   "execution_count": 67,
   "metadata": {},
   "outputs": [
    {
     "name": "stdout",
     "output_type": "stream",
     "text": [
      "[1, 4, 9, 16, 25]\n"
     ]
    }
   ],
   "source": [
    "from multiprocessing import Pool\n",
    "\n",
    "def cuad (n):\n",
    "    return n * n\n",
    "\n",
    "if __name__ == \"__main__\":\n",
    "    \n",
    "    datos = [1, 2, 3, 4, 5]\n",
    "    p = Pool()\n",
    "    resultado = p.map(cuad, datos)\n",
    "    print(resultado)"
   ]
  },
  {
   "cell_type": "code",
   "execution_count": 68,
   "metadata": {},
   "outputs": [
    {
     "name": "stdout",
     "output_type": "stream",
     "text": [
      "Processo serial:  10.855599641799927\n"
     ]
    }
   ],
   "source": [
    "from multiprocessing import Pool\n",
    "import time\n",
    "\n",
    "def suma(n):\n",
    "    val = 0\n",
    "    for x in range(1000):\n",
    "        val += x*x\n",
    "        \n",
    "    return val\n",
    "\n",
    "t = time.time()\n",
    "result = []\n",
    "for x in range(100000):\n",
    "    resultado.append(suma(x))\n",
    "    \n",
    "print(\"Processo serial: \", time.time()-t)"
   ]
  },
  {
   "cell_type": "code",
   "execution_count": 70,
   "metadata": {},
   "outputs": [
    {
     "name": "stdout",
     "output_type": "stream",
     "text": [
      "Processo concurrente:  5.940945148468018\n"
     ]
    }
   ],
   "source": [
    "from multiprocessing import Pool\n",
    "import time\n",
    "\n",
    "def suma(n):\n",
    "    val = 0\n",
    "    for x in range(1000):\n",
    "        val += x*x    \n",
    "    return val\n",
    "\n",
    "if __name__ == \"__main__\":\n",
    "    \n",
    "    t = time.time()\n",
    "    p = Pool()\n",
    "    resultado = p.map(suma,range(100000))\n",
    "    p.close()\n",
    "    p.join()\n",
    "    \n",
    "    print(\"Processo concurrente: \", time.time()-t)"
   ]
  }
 ],
 "metadata": {
  "kernelspec": {
   "display_name": "Python 3",
   "language": "python",
   "name": "python3"
  },
  "language_info": {
   "codemirror_mode": {
    "name": "ipython",
    "version": 3
   },
   "file_extension": ".py",
   "mimetype": "text/x-python",
   "name": "python",
   "nbconvert_exporter": "python",
   "pygments_lexer": "ipython3",
   "version": "3.8.8"
  }
 },
 "nbformat": 4,
 "nbformat_minor": 2
}
