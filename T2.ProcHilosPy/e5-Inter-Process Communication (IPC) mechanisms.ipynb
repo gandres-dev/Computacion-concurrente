{
 "cells": [
  {
   "cell_type": "markdown",
   "id": "ad52dfb8",
   "metadata": {},
   "source": [
    "# Comunicación entre procesos\n",
    "Consideremos el siguiente ejemplo donde el proceso padre quiere consultar el resultado de una operación que ejecutó el proceso hijo: "
   ]
  },
  {
   "cell_type": "code",
   "execution_count": null,
   "id": "a99084e5",
   "metadata": {},
   "outputs": [],
   "source": [
    "import multiprocessing as mp\n",
    "import time\n",
    "import os"
   ]
  },
  {
   "cell_type": "code",
   "execution_count": null,
   "id": "2d5e9068",
   "metadata": {},
   "outputs": [],
   "source": [
    "nums_res = []\n",
    "\n",
    "def calc_cuad(numeros):\n",
    "    global nums_res\n",
    "    for n in numeros:\n",
    "        print('cuadrado:', n * n )\n",
    "        nums_res.append(n * n)  \n",
    "\n",
    "    \n",
    "nums = range(10)\n",
    "\n",
    "t = time.time()\n",
    "p1 = mp.Process(target=calc_cuad, args=(nums,))\n",
    "\n",
    "p1.start()\n",
    "p1.join()\n",
    "\n",
    "print(\"Tiempo de ejecución: \", time.time()-t)\n",
    "print(\"Resultado del proceso:\", nums_res)    \n",
    "print(\"Finaliza ejecución\")"
   ]
  },
  {
   "cell_type": "markdown",
   "id": "8398118a",
   "metadata": {},
   "source": [
    "Los procesos tienen su propio espacio de memoria. Así, las variables del pograma no se comparten entre procesos. Es necesario crear comunicación entre procesos (IPC) si se desea compartir datos entre procesos.\n",
    "\n",
    "El módulo `multiprocessing` permite compartir datos entre procesos y tener comunicación interprocesos por medio de tuberías y colas. Específicamente provee opciones de paso de mensajes por medio de recursos compartidos: pipes para conexiones punto a punto y colas para multiples productores y consumidores. "
   ]
  },
  {
   "cell_type": "code",
   "execution_count": null,
   "id": "76e99e9f",
   "metadata": {},
   "outputs": [],
   "source": []
  },
  {
   "cell_type": "code",
   "execution_count": null,
   "id": "42677d15",
   "metadata": {},
   "outputs": [],
   "source": []
  },
  {
   "cell_type": "code",
   "execution_count": null,
   "id": "e5cf0ce3",
   "metadata": {},
   "outputs": [],
   "source": []
  },
  {
   "cell_type": "code",
   "execution_count": null,
   "id": "d7bc79f8",
   "metadata": {},
   "outputs": [],
   "source": []
  },
  {
   "cell_type": "code",
   "execution_count": null,
   "id": "64c7dccb",
   "metadata": {},
   "outputs": [],
   "source": []
  }
 ],
 "metadata": {
  "kernelspec": {
   "display_name": "Python 3",
   "language": "python",
   "name": "python3"
  },
  "language_info": {
   "codemirror_mode": {
    "name": "ipython",
    "version": 3
   },
   "file_extension": ".py",
   "mimetype": "text/x-python",
   "name": "python",
   "nbconvert_exporter": "python",
   "pygments_lexer": "ipython3",
   "version": "3.8.8"
  }
 },
 "nbformat": 4,
 "nbformat_minor": 5
}
