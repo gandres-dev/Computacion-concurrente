{
 "cells": [
  {
   "cell_type": "markdown",
   "id": "cec6e680",
   "metadata": {},
   "source": [
    "## Comunicacion entre hilo"
   ]
  },
  {
   "cell_type": "markdown",
   "id": "997a5d30",
   "metadata": {},
   "source": [
    "## Usando la clase Queue"
   ]
  },
  {
   "cell_type": "code",
   "execution_count": 2,
   "id": "c8afd444",
   "metadata": {},
   "outputs": [],
   "source": [
    "from queue import Queue\n",
    "\n",
    "q = Queue()"
   ]
  },
  {
   "cell_type": "markdown",
   "id": "a51eeb2f",
   "metadata": {},
   "source": [
    "## Ejemplo de comunicacion"
   ]
  },
  {
   "cell_type": "code",
   "execution_count": 35,
   "id": "fb96e8c1",
   "metadata": {},
   "outputs": [
    {
     "name": "stderr",
     "output_type": "stream",
     "text": [
      "Exception in thread Thread-62:\n",
      "Traceback (most recent call last):\n",
      "  File \"/home/guillermo/anaconda3/lib/python3.8/threading.py\", line 932, in _bootstrap_inner\n",
      "    self.run()\n",
      "  File \"/home/guillermo/anaconda3/lib/python3.8/threading.py\", line 870, in run\n",
      "    self._target(*self._args, **self._kwargs)\n",
      "  File \"<ipython-input-35-7d0f1054c6ac>\", line 8, in hacer_suma\n",
      "UnboundLocalError: local variable 'flag' referenced before assignment\n"
     ]
    },
    {
     "name": "stdout",
     "output_type": "stream",
     "text": [
      "Hola\n",
      "Sou hilo2 con flag:  False\n"
     ]
    }
   ],
   "source": [
    "from queue import Queue\n",
    "from threading import Thread\n",
    "\n",
    "flag = False;\n",
    "\n",
    "def hacer_suma(cola, num1, num2):\n",
    "    cola.put(num1 + num2)\n",
    "    print(\"Soy el hilo1 con flag: \", flag)\n",
    "    flag = True\n",
    "    pass\n",
    "\n",
    "\n",
    "def obtener_suma(cola):\n",
    "    print(\"Hola\")\n",
    "    print(\"Sou hilo2 con flag: \", flag)\n",
    "    \n",
    "    pass\n",
    "    \n",
    "\n",
    "    \n",
    "q = Queue()\n",
    "t1 = Thread(target = hacer_suma, args =(q, 5, 4))\n",
    "t2 = Thread(target = obtener_suma, args =(q, ))\n",
    "t1.start(); t2.start()\n",
    "t1.join(); t2.join()\n"
   ]
  },
  {
   "cell_type": "code",
   "execution_count": 48,
   "id": "7493d8d3",
   "metadata": {},
   "outputs": [
    {
     "name": "stdout",
     "output_type": "stream",
     "text": [
      "Datos de producción del productor: 51\n",
      "Datos de producción del productor: 70\n",
      "Datos de producción del productor: 64\n",
      "Datos de producción del productor: 98\n",
      "Datos de producción del productor: 31\n",
      "Datos de producción del productor: 54\n",
      "Datos de producción del productor: 54\n",
      "Datos de producción del productor: 79\n",
      "Datos de producción del productor: 76\n",
      "Datos de producción del productor: 34\n",
      "Consumidor obtenido:Datos de producción del productor: 51\n",
      "Consumidor obtenido:Datos de producción del productor: 70\n",
      "Consumidor obtenido:Datos de producción del productor: 64\n",
      "Consumidor obtenido:Datos de producción del productor: 98\n",
      "Consumidor obtenido:Datos de producción del productor: 31\n",
      "Consumidor obtenido:Datos de producción del productor: 54\n",
      "Consumidor obtenido:Datos de producción del productor: 54\n",
      "Consumidor obtenido:Datos de producción del productor: 79\n",
      "Consumidor obtenido:Datos de producción del productor: 76\n",
      "Consumidor obtenido:Datos de producción del productor: 34\n"
     ]
    }
   ],
   "source": [
    "import threading\n",
    "import queue\n",
    "import random\n",
    "import time\n",
    "\n",
    "def produce(q):\n",
    "    i = 0\n",
    "    while i < 10:\n",
    "        num = random.randint(1,100)\n",
    "        q.put('Datos de producción del productor:% d' % num)\n",
    "        print('Datos de producción del productor:% d' % num)\n",
    "        #time.sleep(1)\n",
    "        i += 1\n",
    "    q.put(None)\n",
    "    # misión cumplida\n",
    "    q.task_done()\n",
    "\n",
    "def consume(q):\n",
    "    while True:\n",
    "        item = q.get()\n",
    "        if item is None:\n",
    "            break\n",
    "        print('Consumidor obtenido:% s' % item)\n",
    "        #time.sleep(1)\n",
    "\n",
    "    # misión cumplida\n",
    "    q.task_done()\n",
    "\n",
    "if __name__ == '__main__':\n",
    "    q = queue.Queue(10)\n",
    "    arr = []\n",
    "\n",
    "    # Crear productor\n",
    "    th = threading.Thread(target=produce,args=(q,))\n",
    "    th.start()\n",
    "\n",
    "    # Crear consumidor\n",
    "    tc = threading.Thread(target=consume,args=(q,))\n",
    "    tc.start()\n",
    "\n",
    "    th.join()\n",
    "    tc.join()"
   ]
  },
  {
   "cell_type": "code",
   "execution_count": 51,
   "id": "bf12b6b7",
   "metadata": {},
   "outputs": [
    {
     "name": "stdout",
     "output_type": "stream",
     "text": [
      "processing 0 started...processing 1 started...\n",
      "\n",
      "processing 1 doneprocessing 0 done\n",
      "processing 2 started...\n",
      "\n",
      "processing 3 started...\n",
      "processing 2 doneprocessing 3 done\n",
      "processing 4 started...\n",
      "\n",
      "processing 4 done\n"
     ]
    }
   ],
   "source": [
    "import logging\n",
    "import queue\n",
    "import threading\n",
    "import time\n",
    "\n",
    "items_queue = queue.Queue()\n",
    "running = False\n",
    "\n",
    "\n",
    "def items_queue_worker():\n",
    "    while running:\n",
    "        try:\n",
    "            item = items_queue.get(timeout=0.01)\n",
    "            if item is None:\n",
    "                continue\n",
    "\n",
    "            try:\n",
    "                process_item(item)\n",
    "            finally:\n",
    "                items_queue.task_done()\n",
    "\n",
    "        except queue.Empty:\n",
    "            pass\n",
    "        except:\n",
    "            logging.exception('error while processing item')\n",
    "\n",
    "\n",
    "def process_item(item):\n",
    "    print('processing {} started...'.format(item))\n",
    "    time.sleep(0.5)\n",
    "    print('processing {} done'.format(item))\n",
    "\n",
    "\n",
    "if __name__ == '__main__':\n",
    "    running = True\n",
    "\n",
    "    # Create 10 items_queue_worker threads\n",
    "    worker_threads = 2\n",
    "    for _ in range(worker_threads):\n",
    "        threading.Thread(target=items_queue_worker).start()\n",
    "\n",
    "    # Populate your queue with data\n",
    "    for i in range(5):\n",
    "        items_queue.put(i)\n",
    "\n",
    "    # Wait for all items to finish processing\n",
    "    items_queue.join()\n",
    "\n",
    "    running = False"
   ]
  },
  {
   "cell_type": "code",
   "execution_count": 55,
   "id": "68be7803",
   "metadata": {},
   "outputs": [
    {
     "name": "stdout",
     "output_type": "stream",
     "text": [
      "item-0 item-1 item-2 item-3 item-4 item-5 item-6 item-7 "
     ]
    }
   ],
   "source": [
    "import queue\n",
    "\n",
    "q = queue.Queue()\n",
    "\n",
    "for i in range(8):\n",
    "   q.put(\"item-\" + str(i))\n",
    "\n",
    "while not q.empty():\n",
    "   print(q.get(), end = \" \")"
   ]
  },
  {
   "cell_type": "code",
   "execution_count": 57,
   "id": "da66c047",
   "metadata": {},
   "outputs": [],
   "source": [
    "import queue\n",
    "\n",
    "q = queue.Queue()\n",
    "for i in range(8):\n",
    "    q.put(\"item\" + str(i))"
   ]
  },
  {
   "cell_type": "code",
   "execution_count": null,
   "id": "2fab3a6b",
   "metadata": {},
   "outputs": [],
   "source": []
  },
  {
   "cell_type": "code",
   "execution_count": null,
   "id": "acd4cf3a",
   "metadata": {},
   "outputs": [],
   "source": []
  },
  {
   "cell_type": "code",
   "execution_count": 58,
   "id": "f93e4480",
   "metadata": {},
   "outputs": [
    {
     "ename": "IndentationError",
     "evalue": "expected an indented block (<ipython-input-58-85e063588dea>, line 7)",
     "output_type": "error",
     "traceback": [
      "\u001b[0;36m  File \u001b[0;32m\"<ipython-input-58-85e063588dea>\"\u001b[0;36m, line \u001b[0;32m7\u001b[0m\n\u001b[0;31m    item = queue.get()\u001b[0m\n\u001b[0m    ^\u001b[0m\n\u001b[0;31mIndentationError\u001b[0m\u001b[0;31m:\u001b[0m expected an indented block\n"
     ]
    }
   ],
   "source": []
  },
  {
   "cell_type": "code",
   "execution_count": null,
   "id": "d12240e4",
   "metadata": {},
   "outputs": [],
   "source": []
  },
  {
   "cell_type": "code",
   "execution_count": null,
   "id": "dc855f4e",
   "metadata": {},
   "outputs": [],
   "source": []
  },
  {
   "cell_type": "code",
   "execution_count": null,
   "id": "4964e451",
   "metadata": {},
   "outputs": [],
   "source": []
  },
  {
   "cell_type": "code",
   "execution_count": null,
   "id": "75774075",
   "metadata": {},
   "outputs": [],
   "source": []
  }
 ],
 "metadata": {
  "kernelspec": {
   "display_name": "Python 3",
   "language": "python",
   "name": "python3"
  },
  "language_info": {
   "codemirror_mode": {
    "name": "ipython",
    "version": 3
   },
   "file_extension": ".py",
   "mimetype": "text/x-python",
   "name": "python",
   "nbconvert_exporter": "python",
   "pygments_lexer": "ipython3",
   "version": "3.8.8"
  }
 },
 "nbformat": 4,
 "nbformat_minor": 5
}
