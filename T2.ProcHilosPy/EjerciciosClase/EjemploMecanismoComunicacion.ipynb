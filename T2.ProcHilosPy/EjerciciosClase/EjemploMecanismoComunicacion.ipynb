{
 "cells": [
  {
   "cell_type": "markdown",
   "id": "b5cb3408",
   "metadata": {},
   "source": [
    "# Mecanismo de comunicación\n"
   ]
  },
  {
   "cell_type": "markdown",
   "id": "53592444",
   "metadata": {},
   "source": [
    "### Integrantes Equipo 5\n",
    "\n",
    "- Elsy Camila Silva Velázquez\n",
    "- Luis Octavio Sánchez Hatadi \n",
    "- Guillermo Gerardo Andrés Urbano\n"
   ]
  },
  {
   "cell_type": "markdown",
   "id": "707a0389",
   "metadata": {},
   "source": [
    "## Importando librerias necesarias"
   ]
  },
  {
   "cell_type": "code",
   "execution_count": 1,
   "id": "c6bd2df7",
   "metadata": {},
   "outputs": [],
   "source": [
    "import threading\n",
    "import queue\n",
    "import time"
   ]
  },
  {
   "cell_type": "markdown",
   "id": "68119c5f",
   "metadata": {},
   "source": [
    "## Ejemplo de Queues (FIFO, First in First out)"
   ]
  },
  {
   "cell_type": "code",
   "execution_count": 4,
   "id": "dddba755",
   "metadata": {
    "scrolled": true
   },
   "outputs": [
    {
     "name": "stdout",
     "output_type": "stream",
     "text": [
      "Thread 0 Removed 0 from the queue\n",
      "Thread 1 Removed 1 from the queueThread 2 Removed 2 from the queue\n",
      "\n",
      "Thread 3 Removed 3 from the queue\n",
      "Thread 4 Removed 4 from the queue\n",
      "Thread 5 Removed 5 from the queue\n"
     ]
    }
   ],
   "source": [
    "\n",
    "def tarea(queue, i):\n",
    "    while not queue.empty():\n",
    "        item = queue.get()       \n",
    "        print(\"Thread {} Removed {} from the queue\".format(i,item))\n",
    "        time.sleep(5)\n",
    "        queue.task_done()\n",
    "\n",
    "q = queue.Queue()\n",
    "\n",
    "\n",
    "n = 6\n",
    "# Ponemos n elementos en la cola\n",
    "for i in range(n):\n",
    "    q.put(i)\n",
    "\n",
    "threads =[]\n",
    "\n",
    "# Creamos n hilos\n",
    "for i in range(n):\n",
    "    thread = threading.Thread(target=tarea, name=str(i), args=(q, i))\n",
    "    thread.start()\n",
    "    threads.append(thread)\n",
    "\n",
    "# Esperamos a que cada hilo termine su tarea\n",
    "for i in threads:\n",
    "    thread.join()\n",
    "    "
   ]
  }
 ],
 "metadata": {
  "kernelspec": {
   "display_name": "Python 3",
   "language": "python",
   "name": "python3"
  },
  "language_info": {
   "codemirror_mode": {
    "name": "ipython",
    "version": 3
   },
   "file_extension": ".py",
   "mimetype": "text/x-python",
   "name": "python",
   "nbconvert_exporter": "python",
   "pygments_lexer": "ipython3",
   "version": "3.8.8"
  }
 },
 "nbformat": 4,
 "nbformat_minor": 5
}
