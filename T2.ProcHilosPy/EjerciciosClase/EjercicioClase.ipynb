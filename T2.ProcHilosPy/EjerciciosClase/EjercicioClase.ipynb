{
 "cells": [
  {
   "cell_type": "markdown",
   "id": "3d720795",
   "metadata": {},
   "source": [
    "## Ejemplo de concurrencia"
   ]
  },
  {
   "cell_type": "markdown",
   "id": "67f72162",
   "metadata": {},
   "source": [
    "Crea una clase llamada HiloNumerosLetras que implemente run() y tenga de atributo un numero llamado tipo.\n",
    "1.  Si el tipo es 1, mostrara los numeros del 1 al 30.\n",
    "2. Si el tipo es 2, mostrara las letras de la ‘a’ a la ‘z’.\n",
    "3. Si el tipo es 3, mostrara los numeros del 30 al 1.\n",
    "4. Si el tipo es 4, mostrara las letras de la ‘z’ a la ‘a’. "
   ]
  },
  {
   "cell_type": "markdown",
   "id": "586a4a96",
   "metadata": {},
   "source": [
    "## Importando librerias necesarias"
   ]
  },
  {
   "cell_type": "code",
   "execution_count": 1,
   "id": "3d0bfd1c",
   "metadata": {},
   "outputs": [],
   "source": [
    "import string\n",
    "import threading as th"
   ]
  },
  {
   "cell_type": "markdown",
   "id": "5d0b0892",
   "metadata": {},
   "source": [
    "## Implementación"
   ]
  },
  {
   "cell_type": "code",
   "execution_count": 34,
   "id": "740641ec",
   "metadata": {},
   "outputs": [],
   "source": [
    "import string\n",
    "import threading as th\n",
    "\n",
    "\n",
    "class HiloNumerosLetras(th.Thread):\n",
    "    \n",
    "    def __init__(self, tipo, name):\n",
    "        # Es importante agregar el constructor de la clase que herada\n",
    "        super().__init__()\n",
    "        self.tipo = tipo\n",
    "        self.name = name\n",
    "        \n",
    "    def run(self):\n",
    "        print(f'Soy el hilo ({self.name})', end=\" \")  \n",
    "        if self.tipo == 1:                        \n",
    "            for num in range(1,31):\n",
    "                print(num, end=\" \")            \n",
    "        elif self.tipo == 2:\n",
    "            for letter in string.ascii_lowercase:\n",
    "                print(letter, end=\" \")\n",
    "        elif self.tipo == 3:\n",
    "            for num in range(30, 0, -1):\n",
    "                print(num, end=\" \")            \n",
    "        elif self.tipo == 4:\n",
    "            abc = string.ascii_lowercase\n",
    "            for last_letter in abc[::-1]:\n",
    "                print(last_letter, end=\" \")\n",
    "        pass\n",
    "    "
   ]
  },
  {
   "cell_type": "markdown",
   "id": "5502c92c",
   "metadata": {},
   "source": [
    "## Ejecución"
   ]
  },
  {
   "cell_type": "code",
   "execution_count": 35,
   "id": "eb9efb0d",
   "metadata": {},
   "outputs": [
    {
     "name": "stdout",
     "output_type": "stream",
     "text": [
      "Soy el hilo (1) 1 2 3 4 5 6 7 8 9 10 11 12 13 14 15 16 17 18 19 20 21 22Soy el hilo (2) a b c d e f g h i j k l m n o p q r s t u v w x y z  23 24 25 26 27 28 29 30 Soy el hilo (3) 30 29Soy el hilo (4)  28 27z y  x w v u26 25 24 23 t 22 21 20 19 18 17 16 15 14 13 12 11 10 9 8 7 6  5 4 3 2 1 s r q p o n m l k j i h g f e d c b a "
     ]
    }
   ],
   "source": [
    "# Crear 4 hilos\n",
    "threads = []\n",
    "for i in range(1,5):\n",
    "    thread = HiloNumerosLetras(i, name=i)\n",
    "    thread.start()\n",
    "    threads.append(thread)\n",
    "    \n",
    "# Espera el padre hasta que acaben los hilos\n",
    "for thred in threads:\n",
    "    thread.join()\n"
   ]
  },
  {
   "cell_type": "markdown",
   "id": "7e78a2d2",
   "metadata": {},
   "source": [
    "Aqui vemos claramente el cambio de **contexto sobre cada hilo**, haciendo esto realmente programación concurrente."
   ]
  },
  {
   "cell_type": "markdown",
   "id": "bede8676",
   "metadata": {},
   "source": [
    "## Ejemplo de string-format en Python"
   ]
  },
  {
   "cell_type": "code",
   "execution_count": 39,
   "id": "36a12852",
   "metadata": {},
   "outputs": [
    {
     "name": "stdout",
     "output_type": "stream",
     "text": [
      "Soy el hilo Luis\n",
      "Soy el hilo Luis\n",
      "Soy el hilo Luis\n"
     ]
    }
   ],
   "source": [
    "# Dar formato a la cadena\n",
    "name = \"Luis\"\n",
    "\n",
    "print(f'Soy el hilo {name}') # Implementado en python 3.7\n",
    "print('Soy el hilo {}'.format(name)) # Implementado en python 3.x\n",
    "print('Soy el hilo %s' % (name)) # Implementado en python 2.x"
   ]
  }
 ],
 "metadata": {
  "kernelspec": {
   "display_name": "Python 3",
   "language": "python",
   "name": "python3"
  },
  "language_info": {
   "codemirror_mode": {
    "name": "ipython",
    "version": 3
   },
   "file_extension": ".py",
   "mimetype": "text/x-python",
   "name": "python",
   "nbconvert_exporter": "python",
   "pygments_lexer": "ipython3",
   "version": "3.8.8"
  }
 },
 "nbformat": 4,
 "nbformat_minor": 5
}
