{
 "cells": [
  {
   "cell_type": "markdown",
   "id": "6d308e69",
   "metadata": {},
   "source": [
    "# Objetos, estructuras y tipos de dato parametrizados"
   ]
  },
  {
   "cell_type": "code",
   "execution_count": 22,
   "id": "ff1a3c71",
   "metadata": {},
   "outputs": [],
   "source": [
    "l = [\"Hola\", \"querido\", \"mundo\"]"
   ]
  },
  {
   "cell_type": "code",
   "execution_count": 23,
   "id": "294aee7a",
   "metadata": {},
   "outputs": [
    {
     "data": {
      "text/plain": [
       "list"
      ]
     },
     "execution_count": 23,
     "metadata": {},
     "output_type": "execute_result"
    }
   ],
   "source": [
    "type(l)"
   ]
  },
  {
   "cell_type": "code",
   "execution_count": 26,
   "id": "9f202895",
   "metadata": {},
   "outputs": [
    {
     "data": {
      "text/plain": [
       "['Hola', 'querido', 'mundo']"
      ]
     },
     "execution_count": 26,
     "metadata": {},
     "output_type": "execute_result"
    }
   ],
   "source": [
    "l"
   ]
  },
  {
   "cell_type": "code",
   "execution_count": 27,
   "id": "a8e0439d",
   "metadata": {},
   "outputs": [
    {
     "data": {
      "text/plain": [
       "[]"
      ]
     },
     "execution_count": 27,
     "metadata": {},
     "output_type": "execute_result"
    }
   ],
   "source": [
    "l.clear()\n",
    "l"
   ]
  },
  {
   "cell_type": "code",
   "execution_count": 28,
   "id": "fa7533ba",
   "metadata": {},
   "outputs": [],
   "source": [
    "l.append(\"Hola\")"
   ]
  },
  {
   "cell_type": "code",
   "execution_count": 29,
   "id": "957ea214",
   "metadata": {},
   "outputs": [
    {
     "data": {
      "text/plain": [
       "['Hola']"
      ]
     },
     "execution_count": 29,
     "metadata": {},
     "output_type": "execute_result"
    }
   ],
   "source": [
    "l"
   ]
  },
  {
   "cell_type": "markdown",
   "id": "d43f68f9",
   "metadata": {},
   "source": [
    "La filosofía del paradigma de programación orientada objetos consiste en _encapsular_ datos (variables) y acciones (funciones) en una sola estructura de datos, esto intenta disminuir la complejidad del software por medio de la abstracción."
   ]
  },
  {
   "cell_type": "markdown",
   "id": "7731a2c3",
   "metadata": {},
   "source": [
    "## Objetos"
   ]
  },
  {
   "cell_type": "markdown",
   "id": "8c90aaf2",
   "metadata": {},
   "source": [
    "Un objeto representa en una sola entidad un conjunto de características y funcionalidades. Uno de las principales acciones de los objetos consiste en que tengan la facultad de interactuar con objetos de la misma clase. Los objetos tienen propiedades y métodos."
   ]
  },
  {
   "cell_type": "markdown",
   "id": "a947290e",
   "metadata": {},
   "source": [
    "<img src=\"img/claseobjeto.png\" width=300 height=300 />"
   ]
  },
  {
   "cell_type": "markdown",
   "id": "f519973c",
   "metadata": {},
   "source": [
    "### Clase"
   ]
  },
  {
   "cell_type": "markdown",
   "id": "642d5614",
   "metadata": {},
   "source": [
    "Para implementar un objeto es necesario definir una **clase** de objeto que contendrá una función inicial de invocación automática, el **constructor**, variables y funciones para que accione el objeto.\n",
    "\n",
    "```python\n",
    "class Fraccion:\n",
    "    def __init__(self, xx, yy):  # constructor\n",
    "        self.num = xx\n",
    "        self.den = yy     # propiedades del objeto\n",
    "    \n",
    "    def mostrar(self):          # metodo\n",
    "        print(self.num + \"/\" + self.den)\n",
    "\n",
    "a = Fraccion(3,4)   # contruye una variable de tipo Fracccion\n",
    "\n",
    "a.mostrar()    # invoca el metodo mostrar() del objeto a\n",
    "\n",
    "```"
   ]
  },
  {
   "cell_type": "markdown",
   "id": "e0dc9f98",
   "metadata": {},
   "source": [
    "> **NOTA:** El manejo de objetos no es del todo eficiente en términos de velocidad de ejecución, otros paradigmas de programación privilegian la eficiencia sin sacrificar la abstracción. "
   ]
  },
  {
   "cell_type": "code",
   "execution_count": 30,
   "id": "80351f53",
   "metadata": {},
   "outputs": [],
   "source": [
    "class Texto:\n",
    "    pass"
   ]
  },
  {
   "cell_type": "code",
   "execution_count": 38,
   "id": "0e7988e5",
   "metadata": {},
   "outputs": [],
   "source": [
    "x = Texto()"
   ]
  },
  {
   "cell_type": "code",
   "execution_count": 34,
   "id": "a368dcce",
   "metadata": {},
   "outputs": [
    {
     "data": {
      "text/plain": [
       "__main__.Texto"
      ]
     },
     "execution_count": 34,
     "metadata": {},
     "output_type": "execute_result"
    }
   ],
   "source": [
    "type(x)"
   ]
  },
  {
   "cell_type": "code",
   "execution_count": 39,
   "id": "53a852e3",
   "metadata": {},
   "outputs": [],
   "source": [
    "y = Texto()"
   ]
  },
  {
   "cell_type": "code",
   "execution_count": 36,
   "id": "e6132e4d",
   "metadata": {},
   "outputs": [
    {
     "data": {
      "text/plain": [
       "__main__.Texto"
      ]
     },
     "execution_count": 36,
     "metadata": {},
     "output_type": "execute_result"
    }
   ],
   "source": [
    "type(y)"
   ]
  },
  {
   "cell_type": "code",
   "execution_count": 40,
   "id": "57c8f0be",
   "metadata": {},
   "outputs": [
    {
     "name": "stdout",
     "output_type": "stream",
     "text": [
      "False\n"
     ]
    }
   ],
   "source": [
    "print(x == y)"
   ]
  },
  {
   "cell_type": "code",
   "execution_count": 41,
   "id": "53f7113b",
   "metadata": {},
   "outputs": [],
   "source": [
    "class Texto:\n",
    "    pass\n",
    "\n",
    "x = Texto()\n",
    "y = Texto()\n",
    "\n",
    "x.name = \"1Q84\"\n",
    "x.año = \"2009\"\n",
    "\n",
    "y.name = \"Tokyo Blues\"\n",
    "y.año = \"1984\""
   ]
  },
  {
   "cell_type": "code",
   "execution_count": 42,
   "id": "6cc2e91e",
   "metadata": {},
   "outputs": [
    {
     "name": "stdout",
     "output_type": "stream",
     "text": [
      "1Q84\n"
     ]
    }
   ],
   "source": [
    "print(x.name)"
   ]
  },
  {
   "cell_type": "code",
   "execution_count": 43,
   "id": "2b1e0fd0",
   "metadata": {},
   "outputs": [
    {
     "name": "stdout",
     "output_type": "stream",
     "text": [
      "2009\n"
     ]
    }
   ],
   "source": [
    "print(x.año)"
   ]
  },
  {
   "cell_type": "code",
   "execution_count": 44,
   "id": "46bc9066",
   "metadata": {},
   "outputs": [
    {
     "name": "stdout",
     "output_type": "stream",
     "text": [
      "Tokyo Blues\n"
     ]
    }
   ],
   "source": [
    "print(y.name)"
   ]
  },
  {
   "cell_type": "code",
   "execution_count": 45,
   "id": "bef3ad53",
   "metadata": {},
   "outputs": [
    {
     "data": {
      "text/plain": [
       "{'name': '1Q84', 'año': '2009'}"
      ]
     },
     "execution_count": 45,
     "metadata": {},
     "output_type": "execute_result"
    }
   ],
   "source": [
    "x.__dict__"
   ]
  },
  {
   "cell_type": "code",
   "execution_count": 46,
   "id": "4d7ad1b4",
   "metadata": {},
   "outputs": [
    {
     "data": {
      "text/plain": [
       "{'name': 'Tokyo Blues', 'año': '1984'}"
      ]
     },
     "execution_count": 46,
     "metadata": {},
     "output_type": "execute_result"
    }
   ],
   "source": [
    "y.__dict__"
   ]
  },
  {
   "cell_type": "code",
   "execution_count": 47,
   "id": "93d80e32",
   "metadata": {},
   "outputs": [
    {
     "data": {
      "text/plain": [
       "mappingproxy({'__module__': '__main__',\n",
       "              '__dict__': <attribute '__dict__' of 'Texto' objects>,\n",
       "              '__weakref__': <attribute '__weakref__' of 'Texto' objects>,\n",
       "              '__doc__': None})"
      ]
     },
     "execution_count": 47,
     "metadata": {},
     "output_type": "execute_result"
    }
   ],
   "source": [
    "Texto.__dict__"
   ]
  },
  {
   "cell_type": "code",
   "execution_count": 48,
   "id": "396edee1",
   "metadata": {},
   "outputs": [
    {
     "name": "stdout",
     "output_type": "stream",
     "text": [
      "Hola, mi título es: After Dark!\n"
     ]
    }
   ],
   "source": [
    "def saludo(obj):\n",
    "    print(\"Hola, mi título es: \" + obj.name + \"!\")\n",
    "\n",
    "class Texto:\n",
    "    pass\n",
    "    \n",
    "\n",
    "x = Texto()\n",
    "x.name = \"After Dark\"\n",
    "saludo(x)"
   ]
  },
  {
   "cell_type": "code",
   "execution_count": 49,
   "id": "4db9d2f7",
   "metadata": {},
   "outputs": [
    {
     "name": "stdout",
     "output_type": "stream",
     "text": [
      "Hola, mi título es: After Dark!\n"
     ]
    }
   ],
   "source": [
    "def saludo(obj):\n",
    "    print(\"Hola, mi título es: \" + obj.name + \"!\")\n",
    "\n",
    "class Texto:\n",
    "    saludar = saludo\n",
    "    \n",
    "\n",
    "x = Texto()\n",
    "x.name = \"After Dark\"\n",
    "Texto.saludar(x)\n"
   ]
  },
  {
   "cell_type": "markdown",
   "id": "e4e7d408",
   "metadata": {},
   "source": [
    "## Método __init__"
   ]
  },
  {
   "cell_type": "markdown",
   "id": "30619b26",
   "metadata": {},
   "source": [
    "Deseamos definir atributos a una instancia en el momento de su creación. El método `__init__` es un metodo mágico que se llama inmediatamente y atománticamente después de ser ser instanciado un objeto. "
   ]
  },
  {
   "cell_type": "code",
   "execution_count": 50,
   "id": "7454ef59",
   "metadata": {},
   "outputs": [
    {
     "name": "stdout",
     "output_type": "stream",
     "text": [
      "Metodo __init__ ejecutado\n"
     ]
    }
   ],
   "source": [
    "class A:\n",
    "    def __init__(self):\n",
    "        print(\"Metodo __init__ ejecutado\")\n",
    "        \n",
    "\n",
    "x = A() "
   ]
  },
  {
   "cell_type": "code",
   "execution_count": 51,
   "id": "eeba3d3c",
   "metadata": {},
   "outputs": [],
   "source": [
    "class Texto:\n",
    "    def __init__(self, name=None):\n",
    "        self.name = name\n",
    "    \n",
    "    \n",
    "    def saludo(self):\n",
    "        if self.name:\n",
    "            print(\"Hola, mi título es: \" + self.name + \"!\")\n",
    "        else:\n",
    "            print(\"Hola, soy un texto sin título\")"
   ]
  },
  {
   "cell_type": "code",
   "execution_count": 52,
   "id": "4bcd322a",
   "metadata": {},
   "outputs": [
    {
     "name": "stdout",
     "output_type": "stream",
     "text": [
      "Hola, soy un texto sin título\n"
     ]
    }
   ],
   "source": [
    "x = Texto()\n",
    "x.saludo()"
   ]
  },
  {
   "cell_type": "code",
   "execution_count": 53,
   "id": "87137e62",
   "metadata": {},
   "outputs": [
    {
     "name": "stdout",
     "output_type": "stream",
     "text": [
      "Hola, mi título es: After Dark!\n"
     ]
    }
   ],
   "source": [
    "y = Texto(\"After Dark\")\n",
    "y.saludo()"
   ]
  },
  {
   "cell_type": "code",
   "execution_count": null,
   "id": "e23c1b10",
   "metadata": {},
   "outputs": [],
   "source": []
  }
 ],
 "metadata": {
  "kernelspec": {
   "display_name": "Python 3",
   "language": "python",
   "name": "python3"
  },
  "language_info": {
   "codemirror_mode": {
    "name": "ipython",
    "version": 3
   },
   "file_extension": ".py",
   "mimetype": "text/x-python",
   "name": "python",
   "nbconvert_exporter": "python",
   "pygments_lexer": "ipython3",
   "version": "3.8.8"
  }
 },
 "nbformat": 4,
 "nbformat_minor": 5
}
