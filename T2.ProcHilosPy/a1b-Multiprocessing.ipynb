{
 "cells": [
  {
   "cell_type": "markdown",
   "metadata": {},
   "source": [
    "# Multiprocessing\n",
    "\n",
    "`multiprocessing` es un paquete de Python que permite la creación de procesos y ofrece concurrencia local."
   ]
  },
  {
   "cell_type": "markdown",
   "metadata": {},
   "source": [
    "Una manera sencilla de crear un proceso es por medio de la construcción de un objeto de tipo `Process` e invocarlo por medio del método `start()`."
   ]
  },
  {
   "cell_type": "code",
   "execution_count": 8,
   "metadata": {},
   "outputs": [
    {
     "name": "stdout",
     "output_type": "stream",
     "text": [
      "Hola Guillermo G\n"
     ]
    }
   ],
   "source": [
    "import multiprocessing as mp \n",
    "\n",
    "def tarea(name):\n",
    "    print(\"Hola\", name)\n",
    "\n",
    "if __name__ == '__main__':\n",
    "    p = mp.Process(target=tarea, args=('Guillermo G',))\n",
    "    p.start() # Invocamos el proceso\n",
    "    p.join() # Unimos al padre"
   ]
  },
  {
   "cell_type": "markdown",
   "metadata": {},
   "source": [
    "### Ejemplo 2\n",
    "\n",
    "- La comunicacion entre procesos es transparente.\n",
    "- Reparticion de tarea"
   ]
  },
  {
   "cell_type": "code",
   "execution_count": 39,
   "metadata": {},
   "outputs": [
    {
     "name": "stdout",
     "output_type": "stream",
     "text": [
      "Calcula el cuadrado de los números\n",
      "cuadrado: 0\n",
      "cuadrado: 1\n",
      "cuadrado: 4\n",
      "cuadrado: 9\n",
      "cuadrado: 16\n",
      "cuadrado: 25\n",
      "cuadrado: 36\n",
      "cuadrado: 49\n",
      "cuadrado: 64\n",
      "cuadrado: 81\n",
      "Tiempo de ejecución:  0.0699317455291748\n",
      "Finaliza la ejecución\n"
     ]
    }
   ],
   "source": [
    "import multiprocessing as mp \n",
    "import time\n",
    "\n",
    "def calc_cuad(numeros):\n",
    "    print(\"Calcula el cuadrado de los números\")\n",
    "    for n in numeros:\n",
    "        print(\"cuadrado:\", n * n)\n",
    "\n",
    "nums = range(10)\n",
    "t = time.time()\n",
    "p1 = mp.Process(target=calc_cuad, args=(nums,))\n",
    "# Empezar el proceso\n",
    "p1.start()\n",
    "# Va regresar a la ejecucion al padre\n",
    "p1.join() \n",
    "\n",
    "print(\"Tiempo de ejecución: \", time.time() -t)\n",
    "print(\"Finaliza la ejecución\")"
   ]
  },
  {
   "cell_type": "markdown",
   "metadata": {},
   "source": [
    "### Ejercicio 3  \n",
    "Crea otro proceso P2 que calcule el cubo de el mismo conjunto de números `nums` y mandalos a escribir\n"
   ]
  },
  {
   "cell_type": "markdown",
   "metadata": {},
   "source": [
    "Ejecución concurrente:"
   ]
  },
  {
   "cell_type": "code",
   "execution_count": 36,
   "metadata": {},
   "outputs": [
    {
     "name": "stdout",
     "output_type": "stream",
     "text": [
      "Calcula el cuadrado de los números\n",
      "cuadrado:Calcula el cubo de los números \n",
      "0cubo:\n",
      " 0cuadrado: \n",
      "cubo: 11\n",
      "\n",
      "cubo:cuadrado:  8\n",
      "cubo: 27\n",
      "cubo: 64\n",
      "4\n",
      "cuadrado: 9\n",
      "cuadrado: 16\n",
      "Termina la ejecución númerica\n"
     ]
    }
   ],
   "source": [
    "def calc_cubos(nums):\n",
    "    print('Calcula el cubo de los números')\n",
    "    for num in nums:\n",
    "        print('cubo:', num ** 3)\n",
    "\n",
    "nums = range(5)\n",
    "p1 = mp.Process(target=calc_cuad, args=(nums,))\n",
    "p2 = mp.Process(target=calc_cubos, args=(nums,))\n",
    "p1.start()\n",
    "p2.start()\n",
    "# join hace que le proceso principal espere hasta que pn haya terminado y se una con el main process\n",
    "p1.join()\n",
    "p2.join()\n",
    "print('Termina la ejecución númerica')"
   ]
  },
  {
   "cell_type": "markdown",
   "metadata": {},
   "source": [
    "Si no se colocan adecuadamente los joins se haria una ejecución secuencial, hace un tarea la termina e inicia la otra."
   ]
  },
  {
   "cell_type": "code",
   "execution_count": 37,
   "metadata": {},
   "outputs": [
    {
     "name": "stdout",
     "output_type": "stream",
     "text": [
      "Calcula el cuadrado de los números\n",
      "cuadrado: 0\n",
      "cuadrado: 1\n",
      "cuadrado: 4\n",
      "cuadrado: 9\n",
      "cuadrado: 16\n",
      "Calcula el cubo de los números\n",
      "cubo: 0\n",
      "cubo: 1\n",
      "cubo: 8\n",
      "cubo: 27\n",
      "cubo: 64\n",
      "Termina la ejecución númerica\n"
     ]
    }
   ],
   "source": [
    "def calc_cubos(nums):\n",
    "    print('Calcula el cubo de los números')\n",
    "    for num in nums:\n",
    "        print('cubo:', num ** 3)\n",
    "\n",
    "nums = range(5)\n",
    "p1 = mp.Process(target=calc_cuad, args=(nums,))\n",
    "p2 = mp.Process(target=calc_cubos, args=(nums,))\n",
    "p1.start()\n",
    "p1.join()\n",
    "p2.start()\n",
    "# join hace que le proceso principal espere hasta que p1 haya terminado y se una con el main process\n",
    "p2.join()\n",
    "print('Termina la ejecución númerica')"
   ]
  },
  {
   "cell_type": "markdown",
   "metadata": {},
   "source": [
    "### Ejercicio 4\n",
    "1. Calcula el cuadrado y el cubo de un arreglo de tamaño $100$ de manera secuencial con funciones y calcula su tiempo de ejecución con `time.time()`.\n",
    "1. Calcula el cuadrado y el cubo usando procesos y calcula el tiempo de ejecución.\n",
    "1. Calcula el cuadrado y el cubo usando procesos y varia el `start` y `join` de los procesos, calcula el tiempo de ejecución."
   ]
  },
  {
   "cell_type": "markdown",
   "metadata": {},
   "source": [
    "El procesador ejecuta, pero no ocupa un espacio de procesamiento que no es utilizado."
   ]
  },
  {
   "cell_type": "code",
   "execution_count": 42,
   "metadata": {},
   "outputs": [
    {
     "name": "stdout",
     "output_type": "stream",
     "text": [
      "Calcula el cuadrado de los números\n",
      "cuadrado: 0\n",
      "cuadrado: 1\n",
      "cuadrado: 4\n",
      "cuadrado: 9\n",
      "cuadrado: 16\n",
      "Calcula el cubo de los números\n",
      "cubo: 0\n",
      "cubo: 1\n",
      "cubo: 8\n",
      "cubo: 27\n",
      "cubo: 64\n",
      "Tiempo de ejecución:  2.0061302185058594\n",
      "Finaliza la ejecución\n"
     ]
    }
   ],
   "source": [
    "import multiprocessing as mp\n",
    "import time\n",
    "\n",
    "def calc_cuad(numeros):\n",
    "    print(\"Calcula el cuadrado de los números\")\n",
    "    for n in numeros:\n",
    "        time.sleep(0.2)\n",
    "        print(\"cuadrado:\", n * n)\n",
    "        \n",
    "def calc_cubos(nums):\n",
    "    print('Calcula el cubo de los números')\n",
    "    for num in nums:\n",
    "        time.sleep(0.2)\n",
    "        print('cubo:', num ** 3)\n",
    "\n",
    "nums = range(5)\n",
    "t = time.time()\n",
    "calc_cuad(nums)\n",
    "calc_cubos(nums)\n",
    "\n",
    "print(\"Tiempo de ejecución: \", time.time() -t)\n",
    "print(\"Finaliza la ejecución\")"
   ]
  },
  {
   "cell_type": "markdown",
   "metadata": {},
   "source": [
    "De manera concurrente, hace un cambio de contexto ocupando todo el espcacio de procesamiento, obliga un uso optimo de los procesos.\n",
    "\n",
    "Vemos que se reducio a la mitad el tiempo"
   ]
  },
  {
   "cell_type": "code",
   "execution_count": 41,
   "metadata": {},
   "outputs": [
    {
     "name": "stdout",
     "output_type": "stream",
     "text": [
      "Calcula el cuadrado de los números\n",
      "Calcula el cubo de los números\n",
      "cuadrado: 0\n",
      "cubo: 0\n",
      "cuadrado: 1\n",
      "cubo: 1\n",
      "cuadrado: 4\n",
      "cubo: 8\n",
      "cuadrado: 9\n",
      "cubo: 27\n",
      "cuadrado: 16\n",
      "cubo: 64\n",
      "Tiempo de ejecución:  1.0714683532714844\n",
      "Finaliza la ejecución\n"
     ]
    }
   ],
   "source": [
    "import multiprocessing as mp\n",
    "import time\n",
    "\n",
    "def calc_cuad(numeros):\n",
    "    print(\"Calcula el cuadrado de los números\")\n",
    "    for n in numeros:\n",
    "        time.sleep(0.2)\n",
    "        print(\"cuadrado:\", n * n)\n",
    "        \n",
    "def calc_cubos(nums):\n",
    "    print('Calcula el cubo de los números')\n",
    "    for num in nums:\n",
    "        time.sleep(0.2)\n",
    "        print('cubo:', num ** 3)\n",
    "\n",
    "t = time.time()\n",
    "nums = range(5)\n",
    "p1 = mp.Process(target=calc_cuad, args=(nums,))\n",
    "p2 = mp.Process(target=calc_cubos, args=(nums,))\n",
    "\n",
    "p1.start()\n",
    "p2.start()\n",
    "\n",
    "p1.join()\n",
    "p2.join()\n",
    "\n",
    "print(\"Tiempo de ejecución: \", time.time() -t)\n",
    "print(\"Finaliza la ejecución\")\n"
   ]
  },
  {
   "cell_type": "markdown",
   "metadata": {},
   "source": [
    "## Identificadores pid, ppid\n",
    "Identificadores del proceso hijo y padre.\n",
    "\n",
    "- El proceso padre sera el que lo esta ejecutando, por ejemplo la terminal."
   ]
  },
  {
   "cell_type": "code",
   "execution_count": 44,
   "metadata": {},
   "outputs": [
    {
     "name": "stdout",
     "output_type": "stream",
     "text": [
      "module name: __main__\n",
      "parent process: 35358\n",
      "process id: 35583\n"
     ]
    }
   ],
   "source": [
    "import os\n",
    "print('module name:', __name__)\n",
    "print('parent process:', os.getppid())\n",
    "print('process id:', os.getpid())"
   ]
  },
  {
   "cell_type": "code",
   "execution_count": 45,
   "metadata": {},
   "outputs": [
    {
     "name": "stdout",
     "output_type": "stream",
     "text": [
      "Primera linea\n",
      "module name __main__\n",
      "parent process 35358\n",
      "process id: 35583\n",
      "function f\n",
      "module name __main__\n",
      "parent process 35583\n",
      "process id: 43980\n",
      "hello oscar\n",
      "-----\n"
     ]
    }
   ],
   "source": [
    "from multiprocessing import Process\n",
    "import os\n",
    "\n",
    "def info(titulo):\n",
    "  print(titulo)\n",
    "  print('module name', __name__)\n",
    "  print('parent process', os.getppid()) # Proceso que lo ejecuta\n",
    "  print('process id:', os.getpid()) # El propio proceso  \n",
    "\n",
    "def f(nombre):\n",
    "  info('function f')\n",
    "  print('hello', nombre)\n",
    "  print('-----')\n",
    "\n",
    "info('Primera linea')\n",
    "p = Process(target=f, args=('oscar',))\n",
    "p.start()\n",
    "p.join()"
   ]
  },
  {
   "cell_type": "markdown",
   "metadata": {},
   "source": [
    "## Visibilidad variables\n",
    "\n",
    "Cuando creamos un proceso hijo, el sistema operativo le sede algunos recuros, le ofrece el codigo al hijo, copia complemta de todo el codigo tanto de un proceos padre e hijp.\n",
    "\n",
    "- Tambien el espacio de memoria\n",
    "\n",
    "Podemos tener tambien memoeria distribuida.\n",
    "\n",
    "Esto nos permite una visibilidad de las variables, ya que se copia el mismo codigo, podremos ver las misma variables."
   ]
  },
  {
   "cell_type": "code",
   "execution_count": 47,
   "metadata": {},
   "outputs": [
    {
     "name": "stdout",
     "output_type": "stream",
     "text": [
      "cuadrado: 0\n",
      "Resultado del proceso: [0]\n",
      "cuadrado: 1\n",
      "Resultado del proceso: [0, 1]\n",
      "cuadrado: 4\n",
      "Resultado del proceso: [0, 1, 4]\n",
      "cuadrado: 9\n",
      "Resultado del proceso: [0, 1, 4, 9]\n",
      "cuadrado: 16\n",
      "Resultado del proceso: [0, 1, 4, 9, 16]\n",
      "cuadrado: 25\n",
      "Resultado del proceso: [0, 1, 4, 9, 16, 25]\n",
      "cuadrado: 36\n",
      "Resultado del proceso: [0, 1, 4, 9, 16, 25, 36]\n",
      "cuadrado: 49\n",
      "Resultado del proceso: [0, 1, 4, 9, 16, 25, 36, 49]\n",
      "cuadrado: 64\n",
      "Resultado del proceso: [0, 1, 4, 9, 16, 25, 36, 49, 64]\n",
      "cuadrado: 81\n",
      "Resultado del proceso: [0, 1, 4, 9, 16, 25, 36, 49, 64, 81]\n",
      "Fuera del proceso: []\n",
      "Tiempo de ejecución:  0.1413118839263916\n",
      "Resultado del proceso: []\n",
      "Finaliza ejecución\n"
     ]
    }
   ],
   "source": [
    "import multiprocessing as mp\n",
    "import time\n",
    "\n",
    "\n",
    "nums_res = []\n",
    "\n",
    "def calc_cuad(numeros):\n",
    "    # Vista por proceso hijo\n",
    "    # Ver variables fuera de la funcion, debido que se copia el codigo \n",
    "    # del padre\n",
    "    global nums_res\n",
    "    for n in numeros:\n",
    "        print('cuadrado:', n * n )\n",
    "        nums_res.append(n * n)\n",
    "        print(\"Resultado del proceso:\", nums_res)\n",
    "\n",
    "\n",
    "nums = range(10)\n",
    "\n",
    "t = time.time()\n",
    "p1 = mp.Process(target=calc_cuad, args=(nums,))\n",
    "\n",
    "p1.start()\n",
    "p1.join()\n",
    "print(\"Fuera del proceso:\", nums_res)\n",
    "\n",
    "print(\"Tiempo de ejecución: \", time.time()-t)\n",
    "print(\"Resultado del proceso:\", nums_res)\n",
    "print(\"Finaliza ejecución\")"
   ]
  },
  {
   "cell_type": "markdown",
   "metadata": {},
   "source": [
    "Copia completa codigo del padre y generar un espacio de memoeria para el padre como el hijo\n",
    "\n",
    "Por eso mismo necesitamos un mecanisco para compartir memoria.\n",
    "\n",
    "Mecanismo de comunicacion entre el padre y el hijo.\n",
    "\n",
    "\n",
    "¿Cuanto mecanis existen?\n",
    "- Array of processing"
   ]
  },
  {
   "cell_type": "markdown",
   "metadata": {},
   "source": [
    "References\n",
    "- https://stackoverflow.com/questions/25391025/what-exactly-is-python-multiprocessing-modules-join-method-doing\n",
    "- http://pymotw.com/2/multiprocessing/basics.html\n",
    "- https://docs.python.org/3/library/multiprocessing.html\n",
    "- https://stackoverflow.com/questions/12087742/should-i-add-a-trailing-comma-after-the-last-argument-in-a-function-call"
   ]
  }
 ],
 "metadata": {
  "kernelspec": {
   "display_name": "Python 3",
   "language": "python",
   "name": "python3"
  },
  "language_info": {
   "codemirror_mode": {
    "name": "ipython",
    "version": 3
   },
   "file_extension": ".py",
   "mimetype": "text/x-python",
   "name": "python",
   "nbconvert_exporter": "python",
   "pygments_lexer": "ipython3",
   "version": "3.8.8"
  }
 },
 "nbformat": 4,
 "nbformat_minor": 4
}
