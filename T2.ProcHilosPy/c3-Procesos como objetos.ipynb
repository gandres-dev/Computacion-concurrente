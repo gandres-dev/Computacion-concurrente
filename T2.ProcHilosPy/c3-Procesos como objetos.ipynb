{
 "cells": [
  {
   "cell_type": "markdown",
   "id": "f4e1ef1e",
   "metadata": {},
   "source": [
    "# Procesos como objetos"
   ]
  },
  {
   "cell_type": "markdown",
   "id": "e86eb8b7",
   "metadata": {},
   "source": [
    "En el siguiente ejemplo se muestra como crear un proceso por medio de la definición de la clase `MyProcess` que hereda de la clase base `multiprocessing.Process`. La clase creada incluye un **constructor** y el método `run()`.\n"
   ]
  },
  {
   "cell_type": "code",
   "execution_count": null,
   "id": "3948ef12",
   "metadata": {},
   "outputs": [],
   "source": [
    "class MyProcess(multiprocessing.Process):\n",
    "    def __init__(self):\n",
    "        super(MyProcess, self).__init__()\n",
    "\n",
    "    def run(self):\n",
    "        print(\"Child Process PID: {}\".format(multiprocessing.current_process().pid))\n",
    "\n",
    "def main():\n",
    "    print(\"Main Process PID: {}\".format(multiprocessing.current_process().pid))\n",
    "    myProcess = MyProcess()\n",
    "    myProcess.start()\n",
    "    myProcess.join()\n",
    "        \n",
    "main()"
   ]
  },
  {
   "cell_type": "markdown",
   "id": "774fbff6",
   "metadata": {},
   "source": [
    "### Ejercicio:\n",
    "1. Vamos a crear 3 procesos los cuales tendrán nombre y código definido como `funP1`, `funP2`, `funP3`. Cada hijo escribirá su numbre, su `pid` y el `pid` del padre, además de hacer un cálculo sobre tres valores a, b y c. \n",
    "2. El proceso 1 calcula $a \\times b + c$, el proceso 2 calcula $a \\times b \\times c$ y el proceso 3 calcula $(a \\times b)/c$.\n",
    "3. Crea un mecanismo para terminar alguno de los procesos de manera aleatoria.\n"
   ]
  },
  {
   "cell_type": "code",
   "execution_count": null,
   "id": "0f136fb8",
   "metadata": {},
   "outputs": [],
   "source": []
  },
  {
   "cell_type": "code",
   "execution_count": null,
   "id": "1610fb96",
   "metadata": {},
   "outputs": [],
   "source": []
  },
  {
   "cell_type": "code",
   "execution_count": null,
   "id": "b6e652fc",
   "metadata": {},
   "outputs": [],
   "source": []
  },
  {
   "cell_type": "code",
   "execution_count": null,
   "id": "8efe9e11",
   "metadata": {},
   "outputs": [],
   "source": []
  }
 ],
 "metadata": {
  "kernelspec": {
   "display_name": "Python 3",
   "language": "python",
   "name": "python3"
  },
  "language_info": {
   "codemirror_mode": {
    "name": "ipython",
    "version": 3
   },
   "file_extension": ".py",
   "mimetype": "text/x-python",
   "name": "python",
   "nbconvert_exporter": "python",
   "pygments_lexer": "ipython3",
   "version": "3.8.8"
  }
 },
 "nbformat": 4,
 "nbformat_minor": 5
}
