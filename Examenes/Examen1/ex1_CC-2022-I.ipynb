{
 "cells": [
  {
   "cell_type": "markdown",
   "id": "b6374fde",
   "metadata": {},
   "source": [
    "## Integrantes\n",
    "\n",
    "- Elsy Camila Silva Velázquez\n",
    "- Luis Octavio Sánchez Hatadi \n",
    "- Guillermo Gerardo Andrés Urbano\n"
   ]
  },
  {
   "cell_type": "markdown",
   "id": "779718b7",
   "metadata": {},
   "source": [
    "3. Menciona lo que son las llamadas al sistema, el estándar POSIX y su uso para implementar concurrencia\n",
    "en linux-C."
   ]
  },
  {
   "cell_type": "markdown",
   "id": "c926f257",
   "metadata": {},
   "source": [
    "### Programación concurrente en C"
   ]
  },
  {
   "cell_type": "code",
   "execution_count": 42,
   "id": "9d5581fb",
   "metadata": {},
   "outputs": [
    {
     "name": "stdout",
     "output_type": "stream",
     "text": [
      "Writing main.c\n"
     ]
    }
   ],
   "source": [
    "%%writefile main.c\n",
    "\n",
    "#include <stdio.h>\n",
    "#include <sys/types.h>\n",
    "#include <unistd.h>\n",
    "\n",
    "int main() {\n",
    "    int pid;\n",
    "    // Creacion de un proceso\n",
    "    pid = fork();\n",
    "    printf(\"ID proceso: %d\\n\", pid);\n",
    "    if (pid)\n",
    "         printf(\"Hola soy el proceso padre!!\\n\");\n",
    "    else        \n",
    "        printf(\"Hola soy el proceso hijo!\\n\");\n",
    "    return 0;\n",
    "} "
   ]
  },
  {
   "cell_type": "code",
   "execution_count": 43,
   "id": "929ebba3",
   "metadata": {},
   "outputs": [
    {
     "name": "stdout",
     "output_type": "stream",
     "text": [
      "ID proceso: 24955\n",
      "Hola soy el proceso padre!!\n",
      "ID proceso: 0\n",
      "Hola soy el proceso hijo!\n"
     ]
    }
   ],
   "source": [
    "%%script bash\n",
    "gcc main.c -o main.out\n",
    "\n",
    "./main.out"
   ]
  },
  {
   "cell_type": "markdown",
   "id": "35938d59",
   "metadata": {},
   "source": [
    "4. Implementa en Python tres versiones de un programa que calcula el factorial de un número entero proporcionado desde el teclado:\n",
    "- a) Implementa la versión secuencial.\n",
    "- b) Implementa la versión en la cual se crean dos procesos, qcada uno un valor entero desde el teclado y calcula el factorial correspondiente.\n",
    "- c) Implementa la versión en la que se crean cinco hilos q"
   ]
  },
  {
   "cell_type": "markdown",
   "id": "8c974e43",
   "metadata": {},
   "source": [
    "### Factorial de un numero"
   ]
  },
  {
   "cell_type": "code",
   "execution_count": null,
   "id": "399e17a0",
   "metadata": {},
   "outputs": [],
   "source": [
    "def factorial(n):\n",
    "    product = 1\n",
    "    for i in range(1, n+1):\n",
    "        product *= i\n",
    "    print(f'{product}\\n')"
   ]
  },
  {
   "cell_type": "markdown",
   "id": "b08b47f2",
   "metadata": {},
   "source": [
    "## Vesión secuencial"
   ]
  },
  {
   "cell_type": "code",
   "execution_count": 39,
   "id": "e2d3c6d7",
   "metadata": {},
   "outputs": [
    {
     "name": "stdout",
     "output_type": "stream",
     "text": [
      "5\n",
      "-----\n",
      "120\n",
      "\n"
     ]
    }
   ],
   "source": [
    "n = int(input())\n",
    "print(\"-----\")\n",
    "factorial(n)"
   ]
  },
  {
   "cell_type": "markdown",
   "id": "471b5fc6",
   "metadata": {},
   "source": [
    "## Versión creación de procesos"
   ]
  },
  {
   "cell_type": "code",
   "execution_count": 40,
   "id": "278c072a",
   "metadata": {},
   "outputs": [
    {
     "name": "stdout",
     "output_type": "stream",
     "text": [
      "5\n",
      "7\n",
      "-----\n",
      "120\n",
      "5040\n",
      "\n",
      "\n"
     ]
    }
   ],
   "source": [
    "import multiprocessing as mp\n",
    "\n",
    "n1, n2 = int(input()), int(input())\n",
    "print(\"-----\")\n",
    "\n",
    "# Creacion de 2 procesos\n",
    "p1 = mp.Process(target=factorial, args=(n1,))\n",
    "p2 = mp.Process(target=factorial, args=(n2,))\n",
    "\n",
    "# Iniciando los procesos\n",
    "p1.start()\n",
    "p2.start()\n",
    "\n",
    "# Haciendo que el padre espere a los dos procesos\n",
    "p2.join()\n",
    "p2.join()\n"
   ]
  },
  {
   "cell_type": "markdown",
   "id": "5d537d85",
   "metadata": {},
   "source": [
    "## Version creación de hilos"
   ]
  },
  {
   "cell_type": "code",
   "execution_count": 37,
   "id": "d74b1476",
   "metadata": {},
   "outputs": [
    {
     "name": "stdout",
     "output_type": "stream",
     "text": [
      "5\n",
      "6\n",
      "7\n",
      "2\n",
      "4\n",
      "-----\n",
      "120\n",
      "\n",
      "720\n",
      "\n",
      "5040\n",
      "\n",
      "2\n",
      "\n",
      "24\n",
      "\n"
     ]
    }
   ],
   "source": [
    "import threading as th\n",
    "\n",
    "nums = []\n",
    "threads = []\n",
    "n = 5 \n",
    "\n",
    "for i in range(n):\n",
    "    nums.append(int(input()))\n",
    "\n",
    "print(\"-----\")\n",
    "# Creacion de hilos e iniciando el proceso\n",
    "for i in range(n):\n",
    "    thread = th.Thread(target=factorial, args=(nums[i],))\n",
    "    threads.append(thread)\n",
    "    threads[i].start()\n",
    "\n",
    "# Espera el padre a los hilos\n",
    "for i in range(n):\n",
    "    threads[i].join()"
   ]
  },
  {
   "cell_type": "markdown",
   "id": "02fdd8d2",
   "metadata": {},
   "source": [
    "5. Describe la acción de bloqueo, la razón por la cual se utiliza y los métodos que ofrece python para implementarla.\n",
    "\n",
    "Existen recursos los cuales no se deben acceder al mismo tiempo por dos procesos o más; por lo que es necesario proteger o bloquear el acceso a estos recursos compartidos: memoria, archivos, bases de datos.\n",
    "\n",
    "La razon por la cual surgen es por la **condición de carrera** (race condition), ocurre cuando dos o más procesos acceden un recurso compartido sin control, de manera que el resultado combinado de este acceso depende del orden de llegada.\n",
    "\n",
    "El acceso a un recurso compartido por mas de dos tareas, existe la posibilidad de corromper la información.Cuando existen dos procesos pueden modificar la variables, por lo tanto debe de ser sincronizadas. \n",
    "\n",
    "Sincronizar es tener cierto orden en los recursos, es un mecanismo para compartir recursos de manera ordenada.\n",
    "\n",
    "\n",
    "Cuando una tarea solita el acceso para modificarla, pongo un bloqueo, para que el proceso no lea un valor desactualizado\n",
    "\n",
    "\n",
    "Python ofrece la clase `Lock` para la condición de carrera, ofrecera dos estados `locked` o `unlocked`, de esta manera poder sincronizar los procesos, esta clase continen los metodos:\n",
    "\n",
    "\n",
    "- **lock.acquire()**: Cuando el estado es _unlocked_, `acquire()` cambia el estado a _locked_. Cuando el estado está _locked_, `acquire()` bloquea hasta que una llamada a `release()` en otro hilo lo cambie a _unlocked_, luego la llamada de `acquire()` lo restablece a bloqueado y regresa.\n",
    "\n",
    "- **lock.release()**: El metodo `release()`,se utiliza para liberar un bloqueo adquirido, deberia ser solo llamado cuando esta en estado _locked_ ,si no lanzará una exepción _a RuntimeError_.\n",
    "\n",
    "Ejemplo:"
   ]
  },
  {
   "cell_type": "code",
   "execution_count": 41,
   "id": "fb6de54f",
   "metadata": {},
   "outputs": [
    {
     "name": "stdout",
     "output_type": "stream",
     "text": [
      "200\n"
     ]
    }
   ],
   "source": [
    "import time\n",
    "import multiprocessing\n",
    "\n",
    "def deposit(balance, lock):\n",
    "    for i in range(100):\n",
    "        time.sleep(0.01)\n",
    "        lock.acquire()\n",
    "        balance.value = balance.value + 1\n",
    "        lock.release()\n",
    "        \n",
    "def withdraw(balance, lock):\n",
    "    for i in range(100):\n",
    "        time.sleep(0.01)\n",
    "        lock.acquire()\n",
    "        balance.value = balance.value - 1\n",
    "        lock.release()\n",
    "    \n",
    "        \n",
    "if __name__ == '__main__':\n",
    "    balance = multiprocessing.Value('i', 200)\n",
    "    lock = multiprocessing.Lock()\n",
    "    d = multiprocessing.Process(target=deposit, args=(balance, lock))\n",
    "    w = multiprocessing.Process(target=withdraw, args=(balance, lock))\n",
    "    d.start()\n",
    "    w.start()\n",
    "    d.join()\n",
    "    w.join()\n",
    "    print(balance.value)"
   ]
  }
 ],
 "metadata": {
  "kernelspec": {
   "display_name": "Python 3",
   "language": "python",
   "name": "python3"
  },
  "language_info": {
   "codemirror_mode": {
    "name": "ipython",
    "version": 3
   },
   "file_extension": ".py",
   "mimetype": "text/x-python",
   "name": "python",
   "nbconvert_exporter": "python",
   "pygments_lexer": "ipython3",
   "version": "3.8.8"
  }
 },
 "nbformat": 4,
 "nbformat_minor": 5
}
