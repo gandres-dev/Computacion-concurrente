{
  "nbformat": 4,
  "nbformat_minor": 0,
  "metadata": {
    "colab": {
      "name": "ex2_CC_2022-1_I_Equipo4.ipynb",
      "provenance": [],
      "collapsed_sections": []
    },
    "kernelspec": {
      "name": "python3",
      "display_name": "Python 3"
    },
    "language_info": {
      "name": "python"
    }
  },
  "cells": [
    {
      "cell_type": "markdown",
      "metadata": {
        "id": "GwVNRl5xwIX0"
      },
      "source": [
        "# Segundo examen parcial \n",
        "## Equipo 4\n",
        "- Elsy Camila Silva Velázquez\n",
        "- Luis Octavio Sánchez Hatadi \n",
        "- Guillermo Gerardo Andrés Urbano\n",
        "\n"
      ]
    },
    {
      "cell_type": "markdown",
      "metadata": {
        "id": "BxTywdRjwNa0"
      },
      "source": [
        "# Programa 1"
      ]
    },
    {
      "cell_type": "code",
      "metadata": {
        "id": "ymLezpQ6wF2U"
      },
      "source": [
        "import matplotlib.pyplot as plt \n",
        "import numpy as np\n",
        "import time"
      ],
      "execution_count": null,
      "outputs": []
    },
    {
      "cell_type": "code",
      "metadata": {
        "id": "Xo8BpLo2wNO0"
      },
      "source": [
        "A = np.random.randint(0, 30, size=(5000,5000))\n",
        "B = np.random.randint(0,30, size= (5000,5000))"
      ],
      "execution_count": null,
      "outputs": []
    },
    {
      "cell_type": "code",
      "metadata": {
        "colab": {
          "base_uri": "https://localhost:8080/"
        },
        "id": "D_ezWY5NwW_s",
        "outputId": "29ac2bd6-4bd0-4e84-b75c-3ae1f0630d18"
      },
      "source": [
        "print('Matriz A:\\n',A)\n",
        "\n",
        "print('Matriz B:\\n',B)"
      ],
      "execution_count": null,
      "outputs": [
        {
          "output_type": "stream",
          "name": "stdout",
          "text": [
            "Matriz A:\n",
            " [[29 12 28 ... 26  8 24]\n",
            " [ 6 19 24 ...  0 16  2]\n",
            " [22 26 16 ... 17  2 21]\n",
            " ...\n",
            " [ 5 24 25 ... 28  9  1]\n",
            " [15 12  4 ...  6 16 15]\n",
            " [15 28 28 ... 29  5 29]]\n",
            "Matriz B:\n",
            " [[ 5  6 24 ... 19 26  0]\n",
            " [ 2 13 12 ... 25 12 18]\n",
            " [23 20  8 ... 28 19  4]\n",
            " ...\n",
            " [13 18 29 ...  9  8 23]\n",
            " [22  9 11 ... 20 20 16]\n",
            " [10 24 17 ... 23  8 28]]\n"
          ]
        }
      ]
    },
    {
      "cell_type": "markdown",
      "metadata": {
        "id": "p5nANqEzwhdt"
      },
      "source": [
        "## Secuencial"
      ]
    },
    {
      "cell_type": "code",
      "metadata": {
        "id": "OgtDDTQQwaKd"
      },
      "source": [
        "def multiplicacion_matricial_secuencial(A, B):\n",
        "    new_m = np.dot(A,B)\n",
        "    return new_m    "
      ],
      "execution_count": null,
      "outputs": []
    },
    {
      "cell_type": "code",
      "metadata": {
        "colab": {
          "base_uri": "https://localhost:8080/"
        },
        "id": "IiGDpP4WwaVE",
        "outputId": "6f5024a4-dc7f-418d-ae95-b8945f6624ed"
      },
      "source": [
        "t = time.time()\n",
        "new_m=multiplicacion_matricial_secuencial(A, B)\n",
        "print(new_m)\n",
        "tiempo_secuencial = time.time()-t\n",
        "print('Tiempo secuencial:', tiempo_secuencial)"
      ],
      "execution_count": null,
      "outputs": [
        {
          "output_type": "stream",
          "name": "stdout",
          "text": [
            "[[1075830 1066766 1079420 ... 1042065 1074399 1054926]\n",
            " [1070732 1058314 1078861 ... 1047688 1063943 1052001]\n",
            " [1071630 1064138 1080449 ... 1050506 1068866 1062557]\n",
            " ...\n",
            " [1076380 1065652 1075092 ... 1057603 1067051 1044529]\n",
            " [1063932 1045213 1068226 ... 1025253 1050007 1039121]\n",
            " [1071048 1044496 1058895 ... 1037512 1053849 1045970]]\n",
            "Tiempo secuencial: 310.50049114227295\n"
          ]
        }
      ]
    },
    {
      "cell_type": "markdown",
      "metadata": {
        "id": "C9dhFwnhwaeV"
      },
      "source": [
        "## Concurrente\n"
      ]
    },
    {
      "cell_type": "code",
      "metadata": {
        "id": "Jd6qDQk8wamU"
      },
      "source": [
        "import threading as th\n",
        "\n",
        "lock = th.Lock()\n",
        "\n",
        "def multiplicacion_matricial_hilos(A, B, C):        \n",
        "    \n",
        "    lock.acquire() # deshabilitar\n",
        "    aux = np.dot(A, B).copy()\n",
        "    C.append(aux)\n",
        "    lock.release() # habilitar"
      ],
      "execution_count": null,
      "outputs": []
    },
    {
      "cell_type": "code",
      "metadata": {
        "id": "4yfCWpVkxM3T"
      },
      "source": [
        "def obtener_divisores(num_renglones):\n",
        "    divisores = []\n",
        "    i = 2\n",
        "    for _ in range(num_renglones+1):\n",
        "        if num_renglones % i == 0:\n",
        "            divisores.append(i)\n",
        "        i += 1\n",
        "    return divisores"
      ],
      "execution_count": null,
      "outputs": []
    },
    {
      "cell_type": "code",
      "metadata": {
        "colab": {
          "base_uri": "https://localhost:8080/"
        },
        "id": "hYd6eVAAxM8J",
        "outputId": "f990e43d-24bf-443a-a10a-56881499baf2"
      },
      "source": [
        "num_hilos = obtener_divisores(A.shape[0])[0:5]\n",
        "print(num_hilos)"
      ],
      "execution_count": null,
      "outputs": [
        {
          "output_type": "stream",
          "name": "stdout",
          "text": [
            "[2, 4, 5, 8, 10]\n"
          ]
        }
      ]
    },
    {
      "cell_type": "code",
      "metadata": {
        "colab": {
          "base_uri": "https://localhost:8080/"
        },
        "id": "9l3pAxQjxNDJ",
        "outputId": "769213fb-f794-4cba-acb3-d6592357a2f2"
      },
      "source": [
        "lista_tiempos = []\n",
        "\n",
        "for hilos in num_hilos:\n",
        "    print('hilos', hilos)\n",
        "    \n",
        "    lista_hilos = []\n",
        "    result = []\n",
        "    # Esto funciona porque sabemos que lo divide exactamente.\n",
        "    desp = A.shape[0] // hilos \n",
        "    end = desp\n",
        "    inicio = 0\n",
        "    for hilo in range(1,hilos+1):                \n",
        "        lista_hilos.append(th.Thread(target=multiplicacion_matricial_hilos, args=(A[inicio:end,:], B, result)))\n",
        "        inicio = end\n",
        "        end += desp         \n",
        "    \n",
        "    t = time.time()\n",
        "    # Arrancar hilos \n",
        "    for hilo in lista_hilos:\n",
        "        hilo.start()\n",
        "\n",
        "    # Esperar hilos\n",
        "    for hilo in lista_hilos:\n",
        "        hilo.join()\n",
        "    \n",
        "    lista_tiempos.append(time.time()-t)\n",
        "\n",
        "#print(result)   \n",
        "#print('-------------')\n",
        "print(lista_tiempos)"
      ],
      "execution_count": null,
      "outputs": [
        {
          "output_type": "stream",
          "name": "stdout",
          "text": [
            "hilos 2\n",
            "hilos 4\n",
            "hilos 5\n",
            "hilos 8\n",
            "hilos 10\n",
            "[309.8181354999542, 309.26260781288147, 309.26171469688416, 309.63249683380127, 308.6194202899933]\n"
          ]
        }
      ]
    },
    {
      "cell_type": "markdown",
      "metadata": {
        "id": "jhxlIAUlK2MM"
      },
      "source": [
        "# Análisis de rendimiento: speed-up y eficiencia"
      ]
    },
    {
      "cell_type": "code",
      "metadata": {
        "id": "BFBjJRoOg7j-"
      },
      "source": [
        "tiempos_concurrente = lista_tiempos"
      ],
      "execution_count": null,
      "outputs": []
    },
    {
      "cell_type": "code",
      "metadata": {
        "id": "NW6LsKvNK2Pp"
      },
      "source": [
        "speed_up = []\n",
        "for tiempo_c in tiempos_concurrente:\n",
        "    speed_up.append(tiempo_secuencial / tiempo_c)"
      ],
      "execution_count": null,
      "outputs": []
    },
    {
      "cell_type": "code",
      "metadata": {
        "colab": {
          "base_uri": "https://localhost:8080/",
          "height": 295
        },
        "id": "a3CimisgK2Sr",
        "outputId": "7c17e505-fa98-4f6e-9261-69f45576d122"
      },
      "source": [
        "plt.scatter(num_hilos, speed_up, c='r')\n",
        "plt.plot(num_hilos, speed_up)\n",
        "plt.xlabel('Hilos')\n",
        "plt.ylabel('Speed up')\n",
        "plt.title('Gráfico de Speed up')\n",
        "plt.grid()"
      ],
      "execution_count": null,
      "outputs": [
        {
          "output_type": "display_data",
          "data": {
            "image/png": "[encoded data removed]",
            "text/plain": [
              "<Figure size 432x288 with 1 Axes>"
            ]
          },
          "metadata": {
            "needs_background": "light"
          }
        }
      ]
    },
    {
      "cell_type": "markdown",
      "metadata": {
        "id": "oTuBHfFzK2Vj"
      },
      "source": [
        "Recordando que la formula para calcular el Speed up es $S = \\frac{T_s}{T_c}$\n",
        "\n",
        "Para este analisís se usaron $2,4,5,8,10$ y los mejores speed-up fueron para 4 5 y 10, cabe resaltar que no hubo una diferencia sustancial entre usar 4 y 5 hilos. En conclusión para una matriz de $5000\\times5000$ se recomienda usar de $10$ hilos; en general el tiempo concurrente es mejor que el tiempo secuencial."
      ]
    },
    {
      "cell_type": "code",
      "metadata": {
        "id": "NE1TXbwsK2bi"
      },
      "source": [
        "eficiencia = []\n",
        "for p, s in zip(num_hilos, speed_up):    \n",
        "    eficiencia.append(s / p)"
      ],
      "execution_count": null,
      "outputs": []
    },
    {
      "cell_type": "code",
      "metadata": {
        "colab": {
          "base_uri": "https://localhost:8080/",
          "height": 295
        },
        "id": "YJTcVITAK2eO",
        "outputId": "e96285a6-efdd-462e-8e19-e84d3ff93494"
      },
      "source": [
        "plt.scatter(num_hilos, eficiencia, c='r')\n",
        "plt.plot(num_hilos, eficiencia, c='g')\n",
        "plt.xlabel('Hilos')\n",
        "plt.ylabel('Eficiencia')\n",
        "plt.title('Gráfico de eficiencia')\n",
        "plt.grid()"
      ],
      "execution_count": null,
      "outputs": [
        {
          "output_type": "display_data",
          "data": {
            "image/png": "[encoded data removed]",
            "text/plain": [
              "<Figure size 432x288 with 1 Axes>"
            ]
          },
          "metadata": {
            "needs_background": "light"
          }
        }
      ]
    },
    {
      "cell_type": "markdown",
      "metadata": {
        "id": "EVo_50m-jYv8"
      },
      "source": [
        "Recordando que la formula para calcular la eficiencia es $E = \\frac{S}{P}$\n",
        "\n",
        "Vemos que la eficiencia va bajando con forme crece le número de hilos, por lo tanto no es efectivo implementar una cantidad de hilos por tan poco incremento en el speed up y eficiencia."
      ]
    },
    {
      "cell_type": "markdown",
      "metadata": {
        "id": "kscpLzTqke-y"
      },
      "source": [
        "# Programa 2\n"
      ]
    },
    {
      "cell_type": "markdown",
      "metadata": {
        "id": "RPAcpkH6xyi8"
      },
      "source": [
        "### Clase Carrera: \n",
        "\n",
        "Define los movimientos de la liebre y de la torutuga de acuerdo a las probabilidades dadas en el planteamiento del problema."
      ]
    },
    {
      "cell_type": "code",
      "metadata": {
        "id": "am1Gff37xbnJ"
      },
      "source": [
        "import random\n",
        "import threading as th\n",
        "import time\n",
        "\n",
        "\n",
        "class Carrera: \n",
        "  def __init__(self, tortuga, liebre):\n",
        "    self.tortuga=tortuga\n",
        "    self.liebre=liebre\n",
        "\n",
        "  def mov_tortuga(self):\n",
        "    r= random.randrange(100)\n",
        "    pasos_tor=[3,-6,1]\n",
        "    \n",
        "    if (r <= 50 ):\n",
        "      self.tortuga= pasos_tor[0]\n",
        "    \n",
        "    elif (50<r and  r<= 70):\n",
        "      self.tortuga= pasos_tor[1]\n",
        "    \n",
        "    else: \n",
        "      self.tortuga=pasos_tor[2]\n",
        "    \n",
        "    return self.tortuga\n",
        "  \n",
        "  def mov_liebre(self): \n",
        "    r=random.randrange(100)\n",
        "    pasos_lieb= [0,9,-12,1,-2]\n",
        "\n",
        "    if (r <= 20):\n",
        "      self.liebre= pasos_lieb[0]\n",
        "    \n",
        "    elif (20 < r and r<= 40): \n",
        "      self.liebre= pasos_lieb[1]\n",
        "    \n",
        "    elif (40 < r and r<= 50):\n",
        "      self.liebre=pasos_lieb[2]\n",
        "    \n",
        "    elif (50 < r and r <= 80):\n",
        "      self.liebre=pasos_lieb[3]\n",
        "    \n",
        "    else: \n",
        "      self.liebre= pasos_lieb[4]\n",
        "    \n",
        "    return self.liebre\n"
      ],
      "execution_count": 3,
      "outputs": []
    },
    {
      "cell_type": "markdown",
      "metadata": {
        "id": "d88QYu2wx4jk"
      },
      "source": [
        "## Clases Tortuga y Liebre\n",
        "\n",
        "Son los hilos que realizan las simulación de la carrera. Se establecen los mecanismos de bloqueo y los requerimientos adicionales."
      ]
    },
    {
      "cell_type": "code",
      "metadata": {
        "id": "wiMFC6d_xbxB"
      },
      "source": [
        "class Tortuga(th.Thread):\n",
        "\n",
        "  def __init__(self, carrera, pista):\n",
        "    th.Thread.__init__(self)\n",
        "    self.carrera= carrera \n",
        "    self.pista=pista\n",
        "  \n",
        "  def run(self):\n",
        "    carrera= self.carrera\n",
        "    pista = self.pista\n",
        "\n",
        "    print('----- Inicia la carrera -----')\n",
        "  \n",
        "    global contador_tortuga\n",
        "    global contador_liebre\n",
        "    pista = pista-1\n",
        "    while( contador_tortuga <= pista and contador_liebre <= pista):\n",
        "        if contador_tortuga <=0:\n",
        "          contador_tortuga=0  \n",
        "        if (contador_tortuga > 0 ):\n",
        "          print('| T', contador_tortuga)\n",
        "        \n",
        "        lock.acquire()\n",
        "        time.sleep(0.25)\n",
        "        contador_tortuga += carrera.mov_tortuga()\n",
        "        lock.release()\n",
        "          \n",
        "        if (contador_tortuga > pista and contador_liebre < pista) : \n",
        "          print ('-----La tortuga ha ganado -----')\n",
        "          break\n",
        "\n",
        "class Liebre(th.Thread):\n",
        "  def __init__(self, carrera, pista):\n",
        "    th.Thread.__init__(self)\n",
        "    self.carrera= carrera \n",
        "    self.pista=pista\n",
        "\n",
        "  def run(self):\n",
        "    carrera= self.carrera\n",
        "    pista = self.pista\n",
        "\n",
        "    global contador_liebre\n",
        "    global contador_tortuga\n",
        "    pista= pista -1\n",
        "    while(contador_liebre <= pista or contador_tortuga <=pista):\n",
        "        if contador_liebre <=0:\n",
        "          contador_liebre=0\n",
        "      \n",
        "        if (contador_liebre > 0 ):\n",
        "          print('        | R', contador_liebre)\n",
        "        \n",
        "        lock.acquire()\n",
        "        time.sleep(0.25)\n",
        "        contador_liebre += carrera.mov_liebre()\n",
        "        lock.release()\n",
        "\n",
        "        if (contador_liebre > pista and contador_tortuga < pista):\n",
        "          print ('-----La liebre ha ganado -----' )\n",
        "          break\n",
        "        if (contador_tortuga >= 70):\n",
        "          break\n"
      ],
      "execution_count": 4,
      "outputs": []
    },
    {
      "cell_type": "markdown",
      "metadata": {
        "id": "5jJF_Z2rx-X1"
      },
      "source": [
        "##  Creación de la simulación:"
      ]
    },
    {
      "cell_type": "code",
      "metadata": {
        "colab": {
          "base_uri": "https://localhost:8080/"
        },
        "id": "3dmuCVNbyBud",
        "outputId": "5e434628-ef0c-4604-892c-25e389135bc0"
      },
      "source": [
        "carrera= Carrera(1,1)\n",
        "contador_tortuga=0\n",
        "contador_liebre=0 \n",
        "lock = th.Lock()\n",
        "\n",
        "ht=Tortuga(carrera, 70)\n",
        "hr=Liebre(carrera, 70)\n",
        "\n",
        "ht.start()\n",
        "hr.start()\n",
        "\n",
        "ht.join()\n",
        "hr.join()\n"
      ],
      "execution_count": 5,
      "outputs": [
        {
          "output_type": "stream",
          "name": "stdout",
          "text": [
            "----- Inicia la carrera -----\n",
            "| T 3\n",
            "| T 6\n",
            "| T 9\n",
            "| T 12\n",
            "        | R 1\n",
            "| T 13\n",
            "        | R 10\n",
            "| T 16\n",
            "        | R 19\n",
            "| T 19\n",
            "        | R 20\n",
            "| T 22\n",
            "        | R 21\n",
            "| T 23\n",
            "        | R 21\n",
            "| T 26\n",
            "        | R 19\n",
            "| T 27\n",
            "        | R 19\n",
            "| T 30\n",
            "        | R 17\n",
            "| T 24\n",
            "        | R 15\n",
            "| T 27\n",
            "        | R 16\n",
            "| T 28\n",
            "        | R 14\n",
            "        | R 2\n",
            "        | R 3\n",
            "        | R 3\n",
            "        | R 4\n",
            "        | R 2\n",
            "| T 31\n",
            "        | R 1\n",
            "| T 34\n",
            "        | R 1\n",
            "| T 28\n",
            "        | R 1\n",
            "| T 31\n",
            "        | R 1\n",
            "| T 34\n",
            "        | R 2\n",
            "| T 35\n",
            "        | R 3\n",
            "| T 38\n",
            "        | R 3\n",
            "| T 41\n",
            "        | R 9\n",
            "| T 44\n",
            "        | R 7\n",
            "| T 38\n",
            "        | R 7\n",
            "| T 32\n",
            "        | R 7\n",
            "| T 35\n",
            "        | R 8\n",
            "| T 38\n",
            "        | R 9\n",
            "| T 41\n",
            "        | R 7\n",
            "| T 42\n",
            "        | R 8\n",
            "| T 45\n",
            "        | R 6\n",
            "| T 48\n",
            "        | R 6\n",
            "| T 49\n",
            "        | R 4\n",
            "| T 52\n",
            "        | R 2\n",
            "| T 55\n",
            "        | R 1\n",
            "| T 56\n",
            "        | R 9\n",
            "| T 57\n",
            "        | R 18\n",
            "| T 58\n",
            "        | R 19\n",
            "| T 61\n",
            "        | R 19\n",
            "| T 64\n",
            "        | R 20\n",
            "| T 67\n",
            "        | R 18\n",
            "-----La tortuga ha ganado -----\n"
          ]
        }
      ]
    },
    {
      "cell_type": "markdown",
      "metadata": {
        "id": "AK1BRfnNyJ8w"
      },
      "source": [
        "# Programa 3"
      ]
    },
    {
      "cell_type": "code",
      "metadata": {
        "colab": {
          "base_uri": "https://localhost:8080/"
        },
        "id": "MWcrHq58yKCi",
        "outputId": "4307c43f-28cd-4925-f504-a3e3adb8032c"
      },
      "source": [
        "import threading as th\n",
        "import time\n",
        " \n",
        "# Variables de memoria compartida\n",
        "n = 10 #Definimos el tamaño del buffer\n",
        "buffer = [-1 for i in range(n)] \n",
        "indice_entrada = 0\n",
        "indice_salida = 0\n",
        " \n",
        "buffer1 = threading.Semaphore() \n",
        "empty = threading.Semaphore(n)\n",
        "full = threading.Semaphore(0)\n",
        "\n",
        "\n",
        "def productor():\n",
        "    global n, buffer, indice_entrada, indice_salida\n",
        "    global buffer1, empty, full\n",
        "    producidos = 0 \n",
        "    contador = 0 \n",
        "    \n",
        "    while producidos < 10:\n",
        "      empty.acquire() \n",
        "      buffer1.acquire() \n",
        "       \n",
        "      contador += 1\n",
        "      buffer[indice_entrada] = contador \n",
        "      indice_entrada = (indice_entrada + 1)%n\n",
        "      print(\"Añadiendo al buffer...\", contador)\n",
        "       \n",
        "      buffer1.release() \n",
        "      full.release()  \n",
        "       \n",
        "      time.sleep(1)       \n",
        "      producidos += 1\n",
        "    pass\n",
        "\n",
        "\n",
        "def consumidor():\n",
        "    global n, buffer, indice_entrada, indice_salida, contador\n",
        "    global buffer1, empty, full\n",
        "     \n",
        "    consumidos = 0\n",
        "    \n",
        "    while consumidos < 10:\n",
        "      full.acquire()\n",
        "      buffer1.acquire()\n",
        "       \n",
        "      item = buffer[indice_salida]\n",
        "      indice_salida = (indice_salida + 1)%n\n",
        "      print(\"Eliminando del buffer...\", item)\n",
        "       \n",
        "      buffer1.release()\n",
        "      empty.release()      \n",
        "       \n",
        "      time.sleep(2.5)\n",
        "       \n",
        "      consumidos += 1    \n",
        "\n",
        "\n",
        "productor = th.Thread(target=productor, args=())\n",
        "consumidor = th.Thread(target=consumidor, args=())\n",
        " \n",
        "# Arrancamos los hilos\n",
        "consumidor.start()\n",
        "productor.start()\n",
        " \n",
        "# Esperando a cada hilo\n",
        "productor.join()\n",
        "consumidor.join()"
      ],
      "execution_count": 6,
      "outputs": [
        {
          "output_type": "stream",
          "name": "stdout",
          "text": [
            "Añadiendo al buffer... 1\n",
            "Eliminando del buffer... 1\n",
            "Añadiendo al buffer... 2\n",
            "Añadiendo al buffer... 3\n",
            "Eliminando del buffer... 2\n",
            "Añadiendo al buffer... 4\n",
            "Añadiendo al buffer... 5\n",
            "Eliminando del buffer... 3\n",
            "Añadiendo al buffer... 6\n",
            "Añadiendo al buffer... 7\n",
            "Añadiendo al buffer... 8\n",
            "Eliminando del buffer... 4\n",
            "Añadiendo al buffer... 9\n",
            "Añadiendo al buffer... 10\n",
            "Eliminando del buffer... 5\n",
            "Eliminando del buffer... 6\n",
            "Eliminando del buffer... 7\n",
            "Eliminando del buffer... 8\n",
            "Eliminando del buffer... 9\n",
            "Eliminando del buffer... 10\n"
          ]
        }
      ]
    }
  ]
}