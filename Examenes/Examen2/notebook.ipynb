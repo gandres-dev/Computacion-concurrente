{
 "cells": [
  {
   "cell_type": "code",
   "metadata": {
    "tags": [],
    "cell_id": "00000-dd7cc95f-a63f-4b7e-8e0a-bdfea9a614fe",
    "deepnote_to_be_reexecuted": false,
    "source_hash": "64e0f503",
    "execution_start": 1637602102670,
    "execution_millis": 6,
    "deepnote_cell_type": "code"
   },
   "source": "import matplotlib.pyplot as plt \nimport numpy as np\nimport time",
   "execution_count": 12,
   "outputs": []
  },
  {
   "cell_type": "markdown",
   "source": "# Programa 1",
   "metadata": {
    "tags": [],
    "is_collapsed": false,
    "cell_id": "00000-abdc1de1-724d-47f4-9579-84d5364d23fc",
    "deepnote_cell_type": "text-cell-h1"
   }
  },
  {
   "cell_type": "markdown",
   "source": "Implementa un programa secuencial que calcule el producto de dos matrices (considerablemente grandes,\nsugerencia 10, 000 × 10, 000). \n\nPosteriormente refactoriza el código de tal forma que utilices concurrencia,\npor medio de hilos, para que realicen esta tarea de manera conjunta, cada hilo calculará un subconjunto\ndel producto. Modifica la versión concurrente para hacer un análisis de rendimiento: speed-up y\neficiencia, incluye el procedimiento que elabores para el cómputo de los tiempos y métricas, así como las gráficas correspondientes; no olvides variar el tamaño de las matrices y el número de hilos.",
   "metadata": {
    "tags": [],
    "cell_id": "00003-9d8e95a6-34d8-4803-9ad6-318a49ae27ae",
    "deepnote_cell_type": "markdown"
   }
  },
  {
   "cell_type": "code",
   "metadata": {
    "tags": [],
    "cell_id": "00002-185c0c8a-e7ad-416f-bf90-f498fa9488f9",
    "deepnote_to_be_reexecuted": false,
    "source_hash": "f1b90892",
    "execution_start": 1637601921277,
    "execution_millis": 9,
    "deepnote_cell_type": "code"
   },
   "source": "A = np.random.randint(0, 30, size=(3,3))\nB = np.random.randint(0,30, size= (3,2))",
   "execution_count": 3,
   "outputs": []
  },
  {
   "cell_type": "code",
   "metadata": {
    "tags": [],
    "cell_id": "00003-e31066b1-8805-4cd8-985c-dde5a12400f2",
    "deepnote_to_be_reexecuted": false,
    "source_hash": "fec3dd41",
    "execution_start": 1637601949069,
    "execution_millis": 4,
    "deepnote_cell_type": "code"
   },
   "source": "print('Matriz A:\\n',A)\n\nprint('Matriz B:\\n',B)",
   "execution_count": 7,
   "outputs": [
    {
     "name": "stdout",
     "text": "Matriz A:\n [[11 22  2]\n [19 10 26]\n [13  1 17]]\nMatriz B:\n [[21  2]\n [ 7 28]\n [ 0 17]]\n",
     "output_type": "stream"
    }
   ]
  },
  {
   "cell_type": "markdown",
   "source": "#### Version secuencial",
   "metadata": {
    "tags": [],
    "cell_id": "00005-130a8fbd-2a83-4914-a8df-591a4f87b546",
    "deepnote_cell_type": "markdown"
   }
  },
  {
   "cell_type": "code",
   "metadata": {
    "tags": [],
    "cell_id": "00004-a9973ead-827d-4682-94cc-899eb914aa52",
    "deepnote_to_be_reexecuted": false,
    "source_hash": "e67462fb",
    "execution_start": 1637354495703,
    "execution_millis": 6,
    "deepnote_cell_type": "code"
   },
   "source": "def multiplicacion_matricial_secuencial(A, B):\n    filas_b =len(B)\n    columnas_a= len(A[0])\n    #Comprobamos que eñl producto este bien definido\n    if columnas_a != filas_b:\n        return None\n    #Creamos una matriz de ceros del número de renglones de A y del número de columnas de B\n    new_m = np.zeros((A.shape[0], B.shape[1]))\n    \n    #Llenamos la matriz \n    for i in range(A.shape[0]): #Filas de A\n        for j in range(B.shape[1]): #Columnas de B\n            suma = 0\n            for k in range(B.shape[0]):  #Filas de B\n                suma += A[i][k] * B[k][j]\n            new_m[i][j] = suma\n    return new_m    ",
   "execution_count": null,
   "outputs": []
  },
  {
   "cell_type": "code",
   "metadata": {
    "tags": [],
    "cell_id": "00006-a1490815-b4bf-47ca-bc0d-5a97e24c3c6d",
    "deepnote_to_be_reexecuted": false,
    "source_hash": "c6851eb7",
    "execution_start": 1637354521985,
    "execution_millis": 2,
    "deepnote_output_heights": [
     59.5625
    ],
    "deepnote_cell_type": "code"
   },
   "source": "multiplicacion_matricial_secuencial(A, B)",
   "execution_count": null,
   "outputs": [
    {
     "output_type": "execute_result",
     "execution_count": 15,
     "data": {
      "text/plain": "array([[138., 570.],\n       [303., 460.],\n       [339., 558.]])"
     },
     "metadata": {}
    }
   ]
  },
  {
   "cell_type": "markdown",
   "source": "#### Version concurrente",
   "metadata": {
    "tags": [],
    "cell_id": "00008-28bbfa06-cbc9-4162-86b7-15282100ba36",
    "deepnote_cell_type": "markdown"
   }
  },
  {
   "cell_type": "code",
   "source": "print('asdf')",
   "metadata": {
    "tags": [],
    "cell_id": "00009-1477369f-5730-4fdc-868c-65ef30785cad",
    "deepnote_cell_type": "code"
   },
   "outputs": [],
   "execution_count": null
  },
  {
   "cell_type": "code",
   "metadata": {
    "tags": [],
    "cell_id": "00005-2bd6f06f-7cf2-4749-adc9-aff6396cd26b",
    "deepnote_to_be_reexecuted": false,
    "source_hash": "ff4df452",
    "execution_start": 1637603249737,
    "execution_millis": 8,
    "deepnote_cell_type": "code"
   },
   "source": "import threading as th\n\nnew_matriz = []\n\ndef multiplicacion_matricial_hilos(A, B):\n    global new_matriz    \n    #filas_b =len(B)\n    #columnas_a= len(A[0])\n    #Comprobamos que eñl producto este bien definido\n    #if columnas_a != filas_b:\n        #print('afs')\n        #return None\n    #Creamos una matriz de ceros del número de renglones de A y del número de columnas de B\n    new_m = np.zeros((A.shape[0], B.shape[1]))\n    print(new_m)\n   \n    print(A)\n    print('A.shapehape', A.shape[0], A)\n    print(B)\n    print('B.shape', B.shape)\n    #Llenamos la matriz \n    for i in range(1): #Filas de A\n        for j in range(B.shape[1]): #Columnas de B\n            suma = 0\n            for k in range(B.shape[0]):  #Filas de B\n                #print('suma', suma)\n                suma += A[i][k] * B[k][j]\n                #print('A[i][k]', A[i][k])\n            new_m[i][j] = suma\n    \n    print(new_matriz)\n    new_matriz.append(new_m.copy())\n\nhilo = th.Thread(target=multiplicacion_matricial_hilos, args=(A[0,:]., B))\nhilo.start()\nhilo.join()\nprint('new_matriz', new_matriz)",
   "execution_count": 56,
   "outputs": [
    {
     "output_type": "error",
     "ename": "SyntaxError",
     "evalue": "invalid syntax (<ipython-input-56-2d3c8b1013c7>, line 34)",
     "traceback": [
      "\u001b[0;36m  File \u001b[0;32m\"<ipython-input-56-2d3c8b1013c7>\"\u001b[0;36m, line \u001b[0;32m34\u001b[0m\n\u001b[0;31m    hilo = th.Thread(target=multiplicacion_matricial_hilos, args=(A[0,:]., B))\u001b[0m\n\u001b[0m                                                                         ^\u001b[0m\n\u001b[0;31mSyntaxError\u001b[0m\u001b[0;31m:\u001b[0m invalid syntax\n"
     ]
    }
   ]
  },
  {
   "cell_type": "code",
   "source": "num_hilos = A.shape[0]\n\nlista_hilos = []\n\nfor i in range(num_hilos):\n    lista_hilos.append(th.Thread(target=multiplicacion_matricial_secuencial, args=(A [i,:],B)))\n\n# Arrancar hilos\nfor hilo in lista_hilos:\n        hilo.start()\n\n# Esperar hilos\nfor hilo in lista_hilos:\n    hilo.join()\n\nprint('new_matriz', new_matriz)",
   "metadata": {
    "tags": [],
    "cell_id": "00010-96051339-baa2-4dc5-a691-987816ecc27e",
    "deepnote_cell_type": "code"
   },
   "outputs": [],
   "execution_count": null
  },
  {
   "cell_type": "code",
   "metadata": {
    "tags": [],
    "cell_id": "00008-5f73f9df-1598-4ec6-8cbb-6f667fd09b3a",
    "deepnote_cell_type": "code"
   },
   "source": "num_hilos = [i*2 for i in range(1, 9)]\nlista_tiempos = []\n\nprint(num_hilos)\nfor hilos in num_hilos:\n    lista_hilos = []\n    \n    # Le asignamos tareas depositar o retirar\n    for hilo in range(1,hilos+1):\n        lista_hilos.append(th.Thread(target=tareas[hilo%2], args=()))\n    \n    t = time.time()\n    # Arrancar hilos \n    for hilo in lista_hilos:\n        hilo.start()\n    # Esperar hilos\n    for hilo in lista_hilos:\n        hilo.join()\n    lista_tiempos.append(time.time()-t)\n    \nprint(num_hilos)\nprint(lista_tiempos)",
   "execution_count": null,
   "outputs": []
  },
  {
   "cell_type": "markdown",
   "metadata": {
    "tags": [],
    "cell_id": "00009-4caad803-2a8d-4b1e-bbed-79147ba46649",
    "deepnote_cell_type": "markdown"
   },
   "source": "# Programa 2\n\nImplementa una simulación de la fábula que cuenta la carrera entre la liebre y la tortuga. Para hacerlo\nmás interesante la carrera será cuesta arriba por una pista resbaladiza, de modo que a veces podrán\nresbalar y retroceder algunas posiciones. Habrá un thread (instanciado con clases) que implementará la\ntortuga y otro la liebre.",
   "execution_count": null
  },
  {
   "cell_type": "code",
   "source": "num_hilos",
   "metadata": {
    "tags": [],
    "cell_id": "00012-be887c3a-fc34-4904-afad-95633ea97539",
    "deepnote_to_be_reexecuted": false,
    "source_hash": "d34ae086",
    "execution_start": 1637602501346,
    "execution_millis": 30,
    "deepnote_output_heights": [
     24.390625
    ],
    "deepnote_cell_type": "code"
   },
   "outputs": [
    {
     "output_type": "execute_result",
     "execution_count": 34,
     "data": {
      "text/plain": "3"
     },
     "metadata": {}
    }
   ],
   "execution_count": 34
  },
  {
   "cell_type": "code",
   "source": "",
   "metadata": {
    "tags": [],
    "cell_id": "00013-144b8685-27a5-4a00-9b1d-8eaa7db510ab",
    "deepnote_cell_type": "code"
   },
   "outputs": [],
   "execution_count": null
  },
  {
   "cell_type": "code",
   "source": "",
   "metadata": {
    "tags": [],
    "cell_id": "00014-a80a78ce-5751-4921-97f7-98179f9696c0",
    "deepnote_cell_type": "code"
   },
   "outputs": [],
   "execution_count": null
  },
  {
   "cell_type": "markdown",
   "source": "<a style='text-decoration:none;line-height:16px;display:flex;color:#5B5B62;padding:10px;justify-content:end;' href='https://deepnote.com?utm_source=created-in-deepnote-cell&projectId=a3e9b61b-ba9a-418b-87d5-cc9bc636f8e1' target=\"_blank\">\n<img alt='Created in deepnote.com' style='display:inline;max-height:16px;margin:0px;margin-right:7.5px;' src='data:image/svg+xml;base64,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' > </img>\nCreated in <span style='font-weight:600;margin-left:4px;'>Deepnote</span></a>",
   "metadata": {
    "tags": [],
    "created_in_deepnote_cell": true,
    "deepnote_cell_type": "markdown"
   }
  }
 ],
 "nbformat": 4,
 "nbformat_minor": 2,
 "metadata": {
  "orig_nbformat": 2,
  "deepnote": {
   "is_reactive": false
  },
  "deepnote_notebook_id": "5eafe9b6-1120-481b-9d4e-b05134512e6c",
  "deepnote_execution_queue": []
 }
}