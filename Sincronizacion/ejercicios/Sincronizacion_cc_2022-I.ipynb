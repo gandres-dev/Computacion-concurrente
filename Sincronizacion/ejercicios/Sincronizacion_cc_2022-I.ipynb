{
 "cells": [
  {
   "cell_type": "markdown",
   "id": "b73eceb0",
   "metadata": {},
   "source": [
    "# Sincronización"
   ]
  },
  {
   "cell_type": "markdown",
   "id": "4686a398",
   "metadata": {},
   "source": [
    "La `sincronización` es un concepto en las ciencias de la computación que especifica ciertos tipo de mecanismo para asegurar que no más de una tarea (proceso/hilo) concurrente pueda procesar o ejectuar una porción del programa en un instante de tiempo. Esta porción de código se conoce como **sección crítica**. "
   ]
  },
  {
   "cell_type": "markdown",
   "id": "6c53eb24",
   "metadata": {},
   "source": [
    "Cuando en un programa una tarea accede a una sección crítica las demás tareas tienen que esperar hasta finalizar la tarea que está en ejecución. El objetivo de la sincronización es evitar cualquier corrupción en el manejo de recursos compartidos, si solo una tarea ejecuta la sección crítica del programa en una única unidad de tiempo se garantiza que se evitará la aparición de conflictos provocados por las múltiples tareas producto de la concurrencia."
   ]
  },
  {
   "cell_type": "markdown",
   "id": "77b4ff9b",
   "metadata": {},
   "source": [
    "Los hilos o *threads* son procesos ligeros que se ejecutan en el mismo espacio de memoria, por tanto complica el uso de variables dado que múltiples hilos pueden escribir en la *misma localidad de memoria*, lo que no sucede con los procesos que deben utilizar un mecanismo de comunicación para compartir datos, aunque esto **no asegura** la sincronización.\n",
    "\n",
    "Por otra parte, el intérprete de Python proporciona un mecanismo de seguridad para los hilos (_thread-safe mechanism_): **GIL** (Global intepreter Lock), el **interprete global de bloqueo**, este mecanismo previene de conflictos entre hilos al ejecutar una sola instrucción al mismo tiempo. No obstante el GIL, la sincronización **no está asegurada**."
   ]
  },
  {
   "cell_type": "markdown",
   "id": "39ca6c88",
   "metadata": {},
   "source": [
    "## Ejemplos de sincronización"
   ]
  },
  {
   "cell_type": "markdown",
   "id": "49835a97",
   "metadata": {},
   "source": [
    "### Secuencial"
   ]
  },
  {
   "cell_type": "code",
   "execution_count": 46,
   "id": "7c872502",
   "metadata": {},
   "outputs": [
    {
     "name": "stdout",
     "output_type": "stream",
     "text": [
      "200\n",
      "0.04178261756896973\n"
     ]
    }
   ],
   "source": [
    "import time\n",
    "\n",
    "balance = 200\n",
    "trans = 100000\n",
    "\n",
    "def deposit():\n",
    "    global balance\n",
    "    balance = balance + 1\n",
    "    \n",
    "def withdraw():\n",
    "    global balance\n",
    "    balance = balance - 1\n",
    "\n",
    "t = time.time()     \n",
    "for tr in range(trans):\n",
    "    deposit()\n",
    "    withdraw()\n",
    "    \n",
    "print(balance)\n",
    "print(time.time()- t)"
   ]
  },
  {
   "cell_type": "markdown",
   "id": "605e2212",
   "metadata": {},
   "source": [
    "### Procesos"
   ]
  },
  {
   "cell_type": "code",
   "execution_count": 569,
   "id": "602bb935",
   "metadata": {},
   "outputs": [
    {
     "name": "stdout",
     "output_type": "stream",
     "text": [
      "544\n"
     ]
    }
   ],
   "source": [
    "import time\n",
    "import multiprocessing\n",
    "\n",
    "def deposit(balance):\n",
    "    for i in range(10000):\n",
    "        # sección crítica\n",
    "        balance.value = balance.value + 1\n",
    "        \n",
    "def withdraw(balance):\n",
    "    for i in range(10000):\n",
    "        # sección crítica\n",
    "        balance.value = balance.value - 1\n",
    "\n",
    "# variable compartida     \n",
    "balance = multiprocessing.Value('i', 200)\n",
    "\n",
    "# creación de procesos \n",
    "d = multiprocessing.Process(target=deposit, args=(balance,))\n",
    "w = multiprocessing.Process(target=withdraw, args=(balance,))\n",
    "d.start()\n",
    "w.start()\n",
    "d.join()\n",
    "w.join()\n",
    "print(balance.value)"
   ]
  },
  {
   "cell_type": "markdown",
   "id": "512c74ba",
   "metadata": {},
   "source": [
    "## Hilos:"
   ]
  },
  {
   "cell_type": "code",
   "execution_count": 612,
   "id": "926e03da",
   "metadata": {},
   "outputs": [
    {
     "name": "stdout",
     "output_type": "stream",
     "text": [
      "B1 B2 200\n",
      "100200\n",
      "0.03026747703552246\n",
      "200\n"
     ]
    }
   ],
   "source": [
    "import time\n",
    "import threading\n",
    "\n",
    "# variable compartida\n",
    "balance = 200\n",
    "\n",
    "def deposit():\n",
    "    global balance\n",
    "    for i in range(100000):\n",
    "        # sección crítica\n",
    "        balance = balance + 1\n",
    "    print(\"B1\", balance)\n",
    "        \n",
    "def withdraw():\n",
    "    global balance\n",
    "    for i in range(100000):\n",
    "        # sección crítica\n",
    "        balance = balance - 1    \n",
    "    print(\"B2\", balance)\n",
    "\n",
    "t = time.time()\n",
    "# creación de hilos       \n",
    "d = threading.Thread(target=deposit, args=())\n",
    "w = threading.Thread(target=withdraw, args=())\n",
    "\n",
    "d.start()\n",
    "w.start()\n",
    "d.join()\n",
    "w.join()\n",
    "\n",
    "print(time.time() - t)\n",
    "print(balance)"
   ]
  },
  {
   "cell_type": "markdown",
   "id": "74fb3da5",
   "metadata": {},
   "source": [
    "### Dificultades con los hilos\n",
    "+ Los hilos no tienen un comportamiento determinista\n",
    "+ La planificación la realiza el sistema operativo, no el intérprete de Python\n",
    "+ Es impredecible la ejecución de un hilo, por lo tanto, el código debe ser seguro para cada hilo (*thread safe*)"
   ]
  },
  {
   "cell_type": "markdown",
   "id": "21be5fc9",
   "metadata": {},
   "source": [
    "## Bloqueo"
   ]
  },
  {
   "cell_type": "markdown",
   "id": "210771b0",
   "metadata": {},
   "source": [
    "Un mecanismo básico de sincronización es el **bloqueo** de recursos compartidos, el propósito de este bloqueo es proteger un recurso particular del acceso múltiple por diversas tareas. Entre los recursos compartidos se consideran: memoria, archivos, bases de datos, etc."
   ]
  },
  {
   "cell_type": "markdown",
   "id": "d90395f0",
   "metadata": {},
   "source": [
    "En Python este bloqueo se implementa por medio de los métodos siguientes:\n",
    "    \n",
    "`Lock`: Bloqueo predeterminado\n",
    "\n",
    "`acquire()`: Inicia el bloqueo\n",
    "\n",
    "`release()`: Libera del bloqueo\n"
   ]
  },
  {
   "cell_type": "markdown",
   "id": "b6b4558c",
   "metadata": {},
   "source": [
    "## Ejemplos de Bloqueo"
   ]
  },
  {
   "cell_type": "markdown",
   "id": "22fc4758",
   "metadata": {},
   "source": [
    "### Procesos"
   ]
  },
  {
   "cell_type": "code",
   "execution_count": 583,
   "id": "0cfd3dab",
   "metadata": {},
   "outputs": [
    {
     "name": "stdout",
     "output_type": "stream",
     "text": [
      "200\n"
     ]
    }
   ],
   "source": [
    "import time\n",
    "import multiprocessing\n",
    "\n",
    "def deposit(balance, lock):\n",
    "    for i in range(100000):\n",
    "        lock.acquire()   # inicia bloqueo\n",
    "        balance.value = balance.value + 1\n",
    "        lock.release()   # libera del bloqueo\n",
    "        \n",
    "def withdraw(balance, lock):\n",
    "    for i in range(100000):\n",
    "        lock.acquire()  # inicia bloqueo\n",
    "        balance.value = balance.value - 1\n",
    "        lock.release()  # libera del bloqueo\n",
    "\n",
    "# variable compartida    \n",
    "balance = multiprocessing.Value('i', 200)\n",
    "# crea un candado\n",
    "lock = multiprocessing.Lock()\n",
    "\n",
    "# crea proceos\n",
    "d = multiprocessing.Process(target=deposit, args=(balance, lock))\n",
    "w = multiprocessing.Process(target=withdraw, args=(balance, lock))\n",
    "d.start()\n",
    "w.start()\n",
    "d.join()\n",
    "w.join()\n",
    "\n",
    "print(balance.value)"
   ]
  },
  {
   "cell_type": "markdown",
   "id": "6e6cd8fb",
   "metadata": {},
   "source": [
    "### Hilos"
   ]
  },
  {
   "cell_type": "code",
   "execution_count": 1,
   "id": "5194cef6",
   "metadata": {},
   "outputs": [],
   "source": [
    "# importa time y threading\n",
    "import time\n",
    "import threading\n",
    "\n",
    "# variable compartida\n",
    "balance = 200\n",
    "# crea un candado\n",
    "lock = threading.Lock()\n",
    "\n",
    "# define función de incremento\n",
    "def deposit():\n",
    "    global balance\n",
    "    for i in range(1000):\n",
    "        balance = balance + 1\n",
    "    #print(\"B1\", balance)\n",
    "\n",
    "    \n",
    "# define función de incremento\n",
    "def withdraw():\n",
    "    global balance\n",
    "    for i in range(1000):        \n",
    "        balance = balance - 1        \n",
    "    #print(\"B2\", balance)\n"
   ]
  },
  {
   "cell_type": "code",
   "execution_count": 2,
   "id": "9d20c1bf",
   "metadata": {},
   "outputs": [
    {
     "name": "stdout",
     "output_type": "stream",
     "text": [
      "[2, 4, 6, 8, 10, 12, 14, 16]\n",
      "[0.16069388389587402, 0.4512507915496826, 0.5711765289306641, 0.8573918342590332, 1.053222417831421, 1.2534191608428955, 1.4905779361724854, 1.6791300773620605]\n"
     ]
    }
   ],
   "source": [
    "import matplotlib.pyplot as plt\n",
    "import numpy\n",
    "import datetime\n",
    "\n",
    "num_hilos = [i*2 for i in range(1, 9)]\n",
    "lista_tiempos = []\n",
    "tareas = [deposit, withdraw]\n",
    "\n",
    "for hilos in num_hilos:\n",
    "    lista_hilos = []\n",
    "    \n",
    "    # Le asignamos tareas depositar o retirar\n",
    "    for hilo in range(1,hilos+1):\n",
    "        lista_hilos.append(threading.Thread(target=tareas[hilo%2], args=()))\n",
    "    \n",
    "    t = time.time()\n",
    "    # Arrancar hilos \n",
    "    for hilo in lista_hilos:\n",
    "        hilo.start()\n",
    "    # Esperar hilos\n",
    "    for hilo in lista_hilos:\n",
    "        hilo.join()\n",
    "    lista_tiempos.append(time.time()-t)\n",
    "    \n",
    "print(num_hilos)\n",
    "print(lista_tiempos)"
   ]
  },
  {
   "cell_type": "markdown",
   "id": "53c18b28",
   "metadata": {},
   "source": [
    "| Hilos | Tiempo concurrente |\n",
    " ---------- |       ----------\n",
    " |2| 0.019715070724487305|\n",
    " |4|0.028376340866088867|\n",
    " |6| 0.0435793399810791|\n",
    " |8| 0.0806124210357666|\n",
    " |10| 0.09813666343688965| \n",
    " |12|0.11932134628295898| \n",
    " |14|0.1460418701171875|\n",
    " |16| 0.18551993370056152|\n",
    " "
   ]
  },
  {
   "cell_type": "code",
   "execution_count": 3,
   "id": "affab0e6",
   "metadata": {},
   "outputs": [
    {
     "name": "stdout",
     "output_type": "stream",
     "text": [
      "[0.20942909410844823, 0.07457931412708838, 0.058920443730569254, 0.039251568755801325, 0.03195334049418963, 0.026849736771575705, 0.022577802687391124, 0.020042505930184976]\n"
     ]
    }
   ],
   "source": [
    "s = []\n",
    "tiempo_secuencial = 0.033653974533081055\n",
    "for tiempo_concurrente in lista_tiempos:\n",
    "    s.append( tiempo_secuencial / tiempo_concurrente)\n",
    "print(s)"
   ]
  },
  {
   "cell_type": "code",
   "execution_count": 4,
   "id": "2aebccde",
   "metadata": {},
   "outputs": [
    {
     "data": {
      "text/plain": [
       "[<matplotlib.lines.Line2D at 0x7fb167533430>]"
      ]
     },
     "execution_count": 4,
     "metadata": {},
     "output_type": "execute_result"
    },
    {
     "data": {
      "image/png": "[encoded data removed]",
      "text/plain": [
       "<Figure size 432x288 with 1 Axes>"
      ]
     },
     "metadata": {
      "needs_background": "light"
     },
     "output_type": "display_data"
    }
   ],
   "source": [
    "plt.plot(num_hilos, s)"
   ]
  },
  {
   "cell_type": "code",
   "execution_count": 47,
   "id": "6d3d6ac6",
   "metadata": {},
   "outputs": [
    {
     "name": "stdout",
     "output_type": "stream",
     "text": [
      "200\n",
      "0.033653974533081055\n"
     ]
    }
   ],
   "source": [
    "import time\n",
    "\n",
    "balance = 200\n",
    "trans = 100000\n",
    "\n",
    "def deposito():\n",
    "    global balance\n",
    "    balance = balance + 1\n",
    "    \n",
    "def retiro():\n",
    "    global balance\n",
    "    balance = balance - 1\n",
    "\n",
    "t = time.time()     \n",
    "for tr in range(trans):\n",
    "    deposito()\n",
    "    retiro()\n",
    "    \n",
    "print(balance)\n",
    "print(time.time()- t)"
   ]
  },
  {
   "cell_type": "code",
   "execution_count": null,
   "id": "3fb56daa",
   "metadata": {},
   "outputs": [],
   "source": []
  },
  {
   "cell_type": "code",
   "execution_count": null,
   "id": "21ba3cbf",
   "metadata": {},
   "outputs": [],
   "source": [
    "\n",
    "# inicia los hilos\n",
    "t = time.time()\n",
    "d = threading.Thread(target=deposit, args=())\n",
    "w = threading.Thread(target=withdraw, args=())\n",
    "d.start()\n",
    "w.start()\n",
    "d.join()\n",
    "w.join()\n",
    "print('Tiempo de ejecucion', time.time()-t)\n",
    "#print(balance)"
   ]
  },
  {
   "cell_type": "markdown",
   "id": "cecc5960",
   "metadata": {},
   "source": [
    "---"
   ]
  },
  {
   "cell_type": "code",
   "execution_count": 252,
   "id": "a7e47c75",
   "metadata": {},
   "outputs": [
    {
     "name": "stdout",
     "output_type": "stream",
     "text": [
      "100\n"
     ]
    }
   ],
   "source": [
    "# Importing the threading module\n",
    "import threading \n",
    "deposit = 100\n",
    "# Function to add profit to the deposit\n",
    "def add_profit(): \n",
    "    global deposit\n",
    "    for i in range(100000):\n",
    "        deposit = deposit + 10\n",
    "# Function to deduct money from the deposit\n",
    "def pay_bill(): \n",
    "    global deposit\n",
    "    for i in range(100000):\n",
    "        deposit = deposit - 10\n",
    "# Creating threads\n",
    "thread1 = threading.Thread(target = add_profit, args = ())\n",
    "thread2 = threading.Thread(target = pay_bill, args = ())\n",
    "# Starting the threads\n",
    "thread1.start() \n",
    "thread2.start()\n",
    "# Waiting for both the threads to finish executing \n",
    "thread1.join()\n",
    "thread2.join()\n",
    "# Displaying the final value of the deposit\n",
    "print(deposit)"
   ]
  }
 ],
 "metadata": {
  "kernelspec": {
   "display_name": "Python 3",
   "language": "python",
   "name": "python3"
  },
  "language_info": {
   "codemirror_mode": {
    "name": "ipython",
    "version": 3
   },
   "file_extension": ".py",
   "mimetype": "text/x-python",
   "name": "python",
   "nbconvert_exporter": "python",
   "pygments_lexer": "ipython3",
   "version": "3.8.8"
  }
 },
 "nbformat": 4,
 "nbformat_minor": 5
}
