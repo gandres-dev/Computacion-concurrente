{
 "cells": [
  {
   "cell_type": "code",
   "execution_count": 29,
   "id": "65951c81",
   "metadata": {},
   "outputs": [
    {
     "name": "stdout",
     "output_type": "stream",
     "text": [
      "cuenta:  93931\n"
     ]
    }
   ],
   "source": [
    "import threading as th\n",
    "\n",
    "# global\n",
    "cuenta = 0\n",
    "\n",
    "def depositar():\n",
    "    global cuenta    \n",
    "    for i in range(100000):\n",
    "        cuenta = cuenta + 1\n",
    "        \n",
    "    \n",
    "def retirar():\n",
    "    global cuenta    \n",
    "    for i in range(100000):\n",
    "        cuenta = cuenta - 1\n",
    "\n",
    "\n",
    "hilo1 = th.Thread(target=depositar, args=())\n",
    "hilo2 = th.Thread(target=retirar, args=())\n",
    "hilo1.start()\n",
    "hilo2.start()\n",
    "hilo1.join()\n",
    "hilo2.join()\n",
    "print('cuenta: ', cuenta)"
   ]
  },
  {
   "cell_type": "markdown",
   "id": "950aca4e",
   "metadata": {},
   "source": [
    "## Solucion 2"
   ]
  },
  {
   "cell_type": "code",
   "execution_count": 48,
   "id": "931e41a9",
   "metadata": {},
   "outputs": [
    {
     "name": "stdout",
     "output_type": "stream",
     "text": [
      "cuenta:  0\n"
     ]
    }
   ],
   "source": [
    "import threading as th\n",
    "\n",
    "# global\n",
    "cuenta = 0\n",
    "lock = th.Lock()\n",
    "\n",
    "def depositar():\n",
    "    global cuenta    \n",
    "    for i in range(100000):        \n",
    "        lock.acquire() # deshabilitar\n",
    "        cuenta = cuenta + 1\n",
    "        lock.release() # habilitar\n",
    "        \n",
    "    \n",
    "def retirar():\n",
    "    global cuenta    \n",
    "    for i in range(100000):\n",
    "        lock.acquire() # deshabilitar\n",
    "        cuenta = cuenta - 1\n",
    "        lock.release() # habilitar\n",
    "\n",
    "\n",
    "hilo1 = th.Thread(target=depositar, args=())\n",
    "hilo2 = th.Thread(target=retirar, args=())\n",
    "hilo1.start()\n",
    "hilo2.start()\n",
    "hilo1.join()\n",
    "hilo2.join()\n",
    "print('cuenta: ', cuenta)"
   ]
  },
  {
   "cell_type": "markdown",
   "id": "e65ea3e3",
   "metadata": {},
   "source": [
    "### Solución 3"
   ]
  },
  {
   "cell_type": "code",
   "execution_count": 121,
   "id": "52501997",
   "metadata": {},
   "outputs": [
    {
     "name": "stdout",
     "output_type": "stream",
     "text": [
      "cuenta:  -47303\n"
     ]
    }
   ],
   "source": [
    "import threading as th\n",
    "\n",
    "# global\n",
    "cuenta = 0\n",
    "bandera = 0\n",
    "\n",
    "def depositar():\n",
    "    global cuenta \n",
    "    global bandera\n",
    "    for i in range(100000):              \n",
    "        while bandera:\n",
    "            pass\n",
    "        bandera = 1\n",
    "        cuenta = cuenta + 1        \n",
    "        bandera = 0\n",
    "        \n",
    "    \n",
    "def retirar():\n",
    "    global cuenta    \n",
    "    global bandera\n",
    "    for i in range(100000):                \n",
    "        while bandera:\n",
    "            pass\n",
    "        bandera = 1 \n",
    "        cuenta = cuenta - 1        \n",
    "        bandera = 0\n",
    "\n",
    "\n",
    "hilo1 = th.Thread(target=depositar, args=())\n",
    "hilo2 = th.Thread(target=retirar, args=())\n",
    "hilo1.start()\n",
    "hilo2.start()\n",
    "hilo1.join()\n",
    "hilo2.join()\n",
    "print('cuenta: ', cuenta)"
   ]
  },
  {
   "cell_type": "markdown",
   "id": "b799ee9c",
   "metadata": {},
   "source": [
    "### Solucion 4"
   ]
  },
  {
   "cell_type": "code",
   "execution_count": 128,
   "id": "ab163dbc",
   "metadata": {},
   "outputs": [
    {
     "name": "stdout",
     "output_type": "stream",
     "text": [
      "cuenta:  100000\n"
     ]
    }
   ],
   "source": [
    "import threading as th\n",
    "\n",
    "# global\n",
    "cuenta = 0\n",
    "bandera = th.Event()\n",
    "\n",
    "def depositar():\n",
    "    global cuenta     \n",
    "    for i in range(100000): \n",
    "        bandera = bandera.wait(2)\n",
    "        while(!bandera):            \n",
    "            pass        \n",
    "        \n",
    "        cuenta = cuenta + 1                     \n",
    "        \n",
    "        \n",
    "    \n",
    "def retirar():\n",
    "    global cuenta        \n",
    "    for i in range(100000): \n",
    "        bandera.set()                \n",
    "\n",
    "hilo1 = th.Thread(target=depositar, args=())\n",
    "hilo2 = th.Thread(target=retirar, args=())\n",
    "hilo1.start()\n",
    "hilo2.start()\n",
    "hilo1.join()\n",
    "hilo2.join()\n",
    "print('cuenta: ', cuenta)"
   ]
  },
  {
   "cell_type": "code",
   "execution_count": 126,
   "id": "78c582f1",
   "metadata": {},
   "outputs": [
    {
     "name": "stdout",
     "output_type": "stream",
     "text": [
      "Started thread but waiting for event...\n",
      "Event is set.Event received, releasing thread...\n",
      "\n"
     ]
    }
   ],
   "source": [
    "def task(event, timeout):\n",
    "  print(\"Started thread but waiting for event...\")\n",
    "  # make the thread wait for event with timeout set\n",
    "  event_set = event.wait()\n",
    "  if event_set:\n",
    "    print(\"Event received, releasing thread...\")\n",
    "  else:\n",
    "    print(\"Time out, moving ahead without event...\")\n",
    "    \n",
    "if __name__ == '__main__':\n",
    "  # initializing the event object\n",
    "  e = threading.Event()\n",
    "  \n",
    "  # starting the thread\n",
    "  thread1 = threading.Thread(name='Event-Blocking-Thread', target=task, args=(e,4))\n",
    "  thread1.start()\n",
    "  # sleeping the main thread for 3 seconds\n",
    "  time.sleep(3)\n",
    "  # generating the event\n",
    "  e.set()\n",
    "  print(\"Event is set.\")\n",
    "  "
   ]
  },
  {
   "cell_type": "code",
   "execution_count": 127,
   "id": "4b65c878",
   "metadata": {},
   "outputs": [
    {
     "name": "stdout",
     "output_type": "stream",
     "text": [
      "<threading.Event object at 0x7fdc7f923d60>\n"
     ]
    }
   ],
   "source": [
    "bandera = th.Event()\n",
    "if bandera:    "
   ]
  },
  {
   "cell_type": "code",
   "execution_count": null,
   "id": "3cc6c8a2",
   "metadata": {},
   "outputs": [],
   "source": []
  }
 ],
 "metadata": {
  "kernelspec": {
   "display_name": "Python 3",
   "language": "python",
   "name": "python3"
  },
  "language_info": {
   "codemirror_mode": {
    "name": "ipython",
    "version": 3
   },
   "file_extension": ".py",
   "mimetype": "text/x-python",
   "name": "python",
   "nbconvert_exporter": "python",
   "pygments_lexer": "ipython3",
   "version": "3.8.8"
  }
 },
 "nbformat": 4,
 "nbformat_minor": 5
}
