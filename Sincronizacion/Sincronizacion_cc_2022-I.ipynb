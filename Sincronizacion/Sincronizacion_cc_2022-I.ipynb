{
 "cells": [
  {
   "cell_type": "markdown",
   "id": "fc39652e",
   "metadata": {},
   "source": [
    "# Sincronización"
   ]
  },
  {
   "cell_type": "markdown",
   "id": "83859e39",
   "metadata": {},
   "source": [
    "La `sincronización` es un concepto en las ciencias de la computación que especifica ciertos tipo de mecanismo para asegurar que no más de una tarea (proceso/hilo) concurrente pueda procesar o ejectuar una porción del programa en un instante de tiempo. Esta porción de código se conoce como **sección crítica**. "
   ]
  },
  {
   "cell_type": "markdown",
   "id": "0e401591",
   "metadata": {},
   "source": [
    "Cuando en un programa una tarea accede a una sección crítica las demás tareas tienen que esperar hasta finalizar la tarea que está en ejecución. El objetivo de la sincronización es evitar cualquier corrupción en el manejo de recursos compartidos, si solo una tarea ejecuta la sección crítica del programa en una única unidad de tiempo se garantiza que se evitará la aparición de conflictos provocados por las múltiples tareas producto de la concurrencia."
   ]
  },
  {
   "cell_type": "markdown",
   "id": "59e8bb15",
   "metadata": {},
   "source": [
    "Los hilos o *threads* son procesos ligeros que se ejecutan en el mismo espacio de memoria, por tanto complica el uso de variables dado que múltiples hilos pueden escribir en la *misma localidad de memoria*, lo que no sucede con los procesos que deben utilizar un mecanismo de comunicación para compartir datos, aunque esto **no asegura** la sincronización.\n",
    "\n",
    "Por otra parte, el intérprete de Python proporciona un mecanismo de seguridad para los hilos (_thread-safe mechanism_): **GIL** (Global intepreter Lock), el **interprete global de bloqueo**, este mecanismo previene de conflictos entre hilos al ejecutar una sola instrucción al mismo tiempo. No obstante el GIL, la sincronización **no está asegurada**."
   ]
  },
  {
   "cell_type": "markdown",
   "id": "789b6e87",
   "metadata": {},
   "source": [
    "## Ejemplos de sincronización"
   ]
  },
  {
   "cell_type": "markdown",
   "id": "cf189d53",
   "metadata": {},
   "source": [
    "### Secuencial"
   ]
  },
  {
   "cell_type": "code",
   "execution_count": 601,
   "id": "42814354",
   "metadata": {},
   "outputs": [
    {
     "name": "stdout",
     "output_type": "stream",
     "text": [
      "200\n",
      "0.03161811828613281\n"
     ]
    }
   ],
   "source": [
    "import time\n",
    "\n",
    "balance = 200\n",
    "trans = 100000\n",
    "\n",
    "def deposit():\n",
    "    global balance\n",
    "    balance = balance + 1\n",
    "    \n",
    "def withdraw():\n",
    "    global balance\n",
    "    balance = balance - 1\n",
    "\n",
    "t = time.time()     \n",
    "for tr in range(trans):\n",
    "    deposit()\n",
    "    withdraw()\n",
    "    \n",
    "print(balance)\n",
    "print(time.time()- t)"
   ]
  },
  {
   "cell_type": "markdown",
   "id": "ea038d44",
   "metadata": {},
   "source": [
    "### Procesos"
   ]
  },
  {
   "cell_type": "code",
   "execution_count": 569,
   "id": "6dd1c9df",
   "metadata": {},
   "outputs": [
    {
     "name": "stdout",
     "output_type": "stream",
     "text": [
      "544\n"
     ]
    }
   ],
   "source": [
    "import time\n",
    "import multiprocessing\n",
    "\n",
    "def deposit(balance):\n",
    "    for i in range(10000):\n",
    "        # sección crítica\n",
    "        balance.value = balance.value + 1\n",
    "        \n",
    "def withdraw(balance):\n",
    "    for i in range(10000):\n",
    "        # sección crítica\n",
    "        balance.value = balance.value - 1\n",
    "\n",
    "# variable compartida     \n",
    "balance = multiprocessing.Value('i', 200)\n",
    "\n",
    "# creación de procesos \n",
    "d = multiprocessing.Process(target=deposit, args=(balance,))\n",
    "w = multiprocessing.Process(target=withdraw, args=(balance,))\n",
    "d.start()\n",
    "w.start()\n",
    "d.join()\n",
    "w.join()\n",
    "print(balance.value)"
   ]
  },
  {
   "cell_type": "markdown",
   "id": "4034ad7a",
   "metadata": {},
   "source": [
    "## Hilos:"
   ]
  },
  {
   "cell_type": "code",
   "execution_count": 612,
   "id": "3e2cd5cf",
   "metadata": {},
   "outputs": [
    {
     "name": "stdout",
     "output_type": "stream",
     "text": [
      "B1 B2 200\n",
      "100200\n",
      "0.03026747703552246\n",
      "200\n"
     ]
    }
   ],
   "source": [
    "import time\n",
    "import threading\n",
    "\n",
    "# variable compartida\n",
    "balance = 200\n",
    "\n",
    "def deposit():\n",
    "    global balance\n",
    "    for i in range(100000):\n",
    "        # sección crítica\n",
    "        balance = balance + 1\n",
    "    print(\"B1\", balance)\n",
    "        \n",
    "def withdraw():\n",
    "    global balance\n",
    "    for i in range(100000):\n",
    "        # sección crítica\n",
    "        balance = balance - 1    \n",
    "    print(\"B2\", balance)\n",
    "\n",
    "t = time.time()\n",
    "# creación de hilos       \n",
    "d = threading.Thread(target=deposit, args=())\n",
    "w = threading.Thread(target=withdraw, args=())\n",
    "\n",
    "d.start()\n",
    "w.start()\n",
    "d.join()\n",
    "w.join()\n",
    "\n",
    "print(time.time() - t)\n",
    "print(balance)"
   ]
  },
  {
   "cell_type": "markdown",
   "id": "9f353ebb",
   "metadata": {},
   "source": [
    "### Dificultades con los hilos\n",
    "+ Los hilos no tienen un comportamiento determinista\n",
    "+ La planificación la realiza el sistema operativo, no el intérprete de Python\n",
    "+ Es impredecible la ejecución de un hilo, por lo tanto, el código debe ser seguro para cada hilo (*thread safe*)"
   ]
  },
  {
   "cell_type": "markdown",
   "id": "f43fe762",
   "metadata": {},
   "source": [
    "## Bloqueo"
   ]
  },
  {
   "cell_type": "markdown",
   "id": "104c9aba",
   "metadata": {},
   "source": [
    "Un mecanismo básico de sincronización es el **bloqueo** de recursos compartidos, el propósito de este bloqueo es proteger un recurso particular del acceso múltiple por diversas tareas. Entre los recursos compartidos se consideran: memoria, archivos, bases de datos, etc."
   ]
  },
  {
   "cell_type": "markdown",
   "id": "72b310ef",
   "metadata": {},
   "source": [
    "En Python este bloqueo se implementa por medio de los métodos siguientes:\n",
    "    \n",
    "`Lock`: Bloqueo predeterminado\n",
    "\n",
    "`acquire()`: Inicia el bloqueo\n",
    "\n",
    "`release()`: Libera del bloqueo\n"
   ]
  },
  {
   "cell_type": "markdown",
   "id": "9ef44b6b",
   "metadata": {},
   "source": [
    "## Ejemplos de Bloqueo"
   ]
  },
  {
   "cell_type": "markdown",
   "id": "c429a8e6",
   "metadata": {},
   "source": [
    "### Procesos"
   ]
  },
  {
   "cell_type": "code",
   "execution_count": 583,
   "id": "f348a6d6",
   "metadata": {},
   "outputs": [
    {
     "name": "stdout",
     "output_type": "stream",
     "text": [
      "200\n"
     ]
    }
   ],
   "source": [
    "import time\n",
    "import multiprocessing\n",
    "\n",
    "def deposit(balance, lock):\n",
    "    for i in range(100000):\n",
    "        lock.acquire()   # inicia bloqueo\n",
    "        balance.value = balance.value + 1\n",
    "        lock.release()   # libera del bloqueo\n",
    "        \n",
    "def withdraw(balance, lock):\n",
    "    for i in range(100000):\n",
    "        lock.acquire()  # inicia bloqueo\n",
    "        balance.value = balance.value - 1\n",
    "        lock.release()  # libera del bloqueo\n",
    "\n",
    "# variable compartida    \n",
    "balance = multiprocessing.Value('i', 200)\n",
    "# crea un candado\n",
    "lock = multiprocessing.Lock()\n",
    "\n",
    "# crea proceos\n",
    "d = multiprocessing.Process(target=deposit, args=(balance, lock))\n",
    "w = multiprocessing.Process(target=withdraw, args=(balance, lock))\n",
    "d.start()\n",
    "w.start()\n",
    "d.join()\n",
    "w.join()\n",
    "\n",
    "print(balance.value)"
   ]
  },
  {
   "cell_type": "markdown",
   "id": "8c31eea0",
   "metadata": {},
   "source": [
    "### Hilos"
   ]
  },
  {
   "cell_type": "code",
   "execution_count": 616,
   "id": "5bb4b8ab",
   "metadata": {},
   "outputs": [
    {
     "name": "stdout",
     "output_type": "stream",
     "text": [
      "B1 27016\n",
      "B2 200\n",
      "0.37801694869995117\n",
      "200\n"
     ]
    }
   ],
   "source": [
    "# importa time y threading\n",
    "import time\n",
    "import threading\n",
    "\n",
    "# variable compartida\n",
    "balance = 200\n",
    "# crea un candado\n",
    "lock = threading.Lock()\n",
    "\n",
    "# define función de incremento\n",
    "def deposit():\n",
    "    global balance\n",
    "    for i in range(100000):\n",
    "        lock.acquire()\n",
    "        balance = balance + 1\n",
    "        lock.release()\n",
    "    print(\"B1\", balance)\n",
    "\n",
    "    \n",
    "# define función de incremento\n",
    "def withdraw():\n",
    "    global balance\n",
    "    for i in range(100000):\n",
    "        lock.acquire()  \n",
    "        balance = balance - 1\n",
    "        lock.release()\n",
    "    print(\"B2\", balance)\n",
    "\n",
    "# inicia los hilos\n",
    "t = time.time()\n",
    "d = threading.Thread(target=deposit, args=())\n",
    "w = threading.Thread(target=withdraw, args=())\n",
    "d.start()\n",
    "w.start()\n",
    "d.join()\n",
    "w.join()\n",
    "print(time.time()-t)\n",
    "print(balance)"
   ]
  },
  {
   "cell_type": "code",
   "execution_count": null,
   "id": "a5371027",
   "metadata": {},
   "outputs": [],
   "source": []
  },
  {
   "cell_type": "code",
   "execution_count": null,
   "id": "32113b3c",
   "metadata": {},
   "outputs": [],
   "source": []
  },
  {
   "cell_type": "code",
   "execution_count": null,
   "id": "365218ed",
   "metadata": {},
   "outputs": [],
   "source": []
  },
  {
   "cell_type": "code",
   "execution_count": null,
   "id": "2caf5c45",
   "metadata": {},
   "outputs": [],
   "source": []
  },
  {
   "cell_type": "code",
   "execution_count": null,
   "id": "32233b78",
   "metadata": {},
   "outputs": [],
   "source": []
  },
  {
   "cell_type": "code",
   "execution_count": null,
   "id": "4c29cb3c",
   "metadata": {},
   "outputs": [],
   "source": []
  },
  {
   "cell_type": "code",
   "execution_count": null,
   "id": "5741e6b6",
   "metadata": {},
   "outputs": [],
   "source": []
  },
  {
   "cell_type": "code",
   "execution_count": null,
   "id": "8ccb3415",
   "metadata": {},
   "outputs": [],
   "source": []
  },
  {
   "cell_type": "code",
   "execution_count": null,
   "id": "e4916a4f",
   "metadata": {},
   "outputs": [],
   "source": []
  },
  {
   "cell_type": "code",
   "execution_count": 252,
   "id": "670178f3",
   "metadata": {},
   "outputs": [
    {
     "name": "stdout",
     "output_type": "stream",
     "text": [
      "100\n"
     ]
    }
   ],
   "source": [
    "# Importing the threading module\n",
    "import threading \n",
    "deposit = 100\n",
    "# Function to add profit to the deposit\n",
    "def add_profit(): \n",
    "    global deposit\n",
    "    for i in range(100000):\n",
    "        deposit = deposit + 10\n",
    "# Function to deduct money from the deposit\n",
    "def pay_bill(): \n",
    "    global deposit\n",
    "    for i in range(100000):\n",
    "        deposit = deposit - 10\n",
    "# Creating threads\n",
    "thread1 = threading.Thread(target = add_profit, args = ())\n",
    "thread2 = threading.Thread(target = pay_bill, args = ())\n",
    "# Starting the threads\n",
    "thread1.start() \n",
    "thread2.start()\n",
    "# Waiting for both the threads to finish executing \n",
    "thread1.join()\n",
    "thread2.join()\n",
    "# Displaying the final value of the deposit\n",
    "print(deposit)"
   ]
  }
 ],
 "metadata": {
  "kernelspec": {
   "display_name": "Python 3",
   "language": "python",
   "name": "python3"
  },
  "language_info": {
   "codemirror_mode": {
    "name": "ipython",
    "version": 3
   },
   "file_extension": ".py",
   "mimetype": "text/x-python",
   "name": "python",
   "nbconvert_exporter": "python",
   "pygments_lexer": "ipython3",
   "version": "3.8.8"
  }
 },
 "nbformat": 4,
 "nbformat_minor": 5
}
