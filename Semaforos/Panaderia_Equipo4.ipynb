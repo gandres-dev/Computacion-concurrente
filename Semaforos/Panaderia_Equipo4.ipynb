{
 "cells": [
  {
   "cell_type": "code",
   "execution_count": 17,
   "metadata": {
    "colab": {
     "base_uri": "https://localhost:8080/"
    },
    "id": "j5hN9SCfCwxF",
    "outputId": "41b33833-832b-4215-c320-7fd776ebc4de"
   },
   "outputs": [
    {
     "name": "stdout",
     "output_type": "stream",
     "text": [
      "3\n"
     ]
    }
   ],
   "source": [
    "# Fragoso Alvarado Daniel\n",
    "# Gómez Martínez Jesús Enrique\n",
    "# Rangel Ramírez Hugo\n",
    "\n",
    "import threading as th\n",
    "\n",
    "def proceso(i):\n",
    "  global valor\n",
    "  global numero\n",
    "  global seleccion\n",
    "  seleccion[i] = True #obtenemos el número del turno\n",
    "  numero[i] = max(numero[:]) + 1\n",
    "  seleccion[i] = False\n",
    "  for j in range(n): #compara con todos los demás hilos\n",
    "    while (seleccion[j]): #Si el hilo j está calculando su número, espera a que termine\n",
    "      pass\n",
    "    while (numero[j] != 0 and (numero[j] < numero[i] or numero[i] == numero[j] and j < i)): #Si el hilo j tiene más prioridad, espera a que ponga su número a cero */\n",
    "               #j tiene más prioridad si su número de turno es más bajo que el de i,  \n",
    "               # o bien si es el mismo número y además j es menor que i \n",
    "      pass\n",
    "  # Seccion crítica\n",
    "  valor = valor + 1\n",
    "  numero[i] = 0\n",
    "\n",
    "n = 2\n",
    "numero = [0]*(n+1)\n",
    "seleccion = [False]*(n+1) \n",
    "valor = 0\n",
    "\n",
    "p0 = th.Thread(target=proceso, args=(0,))\n",
    "p1 = th.Thread(target=proceso, args=(1,))\n",
    "p2 = th.Thread(target=proceso, args=(2,))\n",
    "p0.start()\n",
    "p1.start()\n",
    "p2.start()\n",
    "\n",
    "print(valor)\n",
    "\n"
   ]
  }
 ],
 "metadata": {
  "colab": {
   "name": "Panaderia_Equipo4.ipynb",
   "provenance": []
  },
  "kernelspec": {
   "display_name": "Python 3",
   "language": "python",
   "name": "python3"
  },
  "language_info": {
   "codemirror_mode": {
    "name": "ipython",
    "version": 3
   },
   "file_extension": ".py",
   "mimetype": "text/x-python",
   "name": "python",
   "nbconvert_exporter": "python",
   "pygments_lexer": "ipython3",
   "version": "3.8.8"
  }
 },
 "nbformat": 4,
 "nbformat_minor": 1
}
