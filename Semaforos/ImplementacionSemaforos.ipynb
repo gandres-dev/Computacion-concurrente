{
 "cells": [
  {
   "cell_type": "markdown",
   "id": "aa34384e",
   "metadata": {},
   "source": [
    "# Semáforos"
   ]
  },
  {
   "cell_type": "markdown",
   "id": "f499ae27",
   "metadata": {},
   "source": [
    "El propósito de un **semáforo** es limitar el acceso a los recursos compartidos con capacidad limitada. Es una parte avanzada de la sincronización.\n",
    "\n",
    "Python ofrece la primita `semaphore()` desde el módulo `multithreading`:\n",
    "```python\n",
    "sem = semaphore()\n",
    "```\n",
    "Para un semáforo es posible indicar la cantidad de hilos/tareas `n` a los que se les permite acceder simultáneamente a una recurso compartido, el valor predeterminado de `n` es 1:\n",
    "```python\n",
    "sem = semaphore(n)\n",
    "```\n",
    "Cuando un hilo ejecuta el método `adquire()` (`P()`, `wait()`), el valor de la variable `n` se reducirá en 1 y siempre que un hilo ejecute el método `release()` (`V()`,  `signal()`), el valor de la variable `n` se incrementará en 1. "
   ]
  },
  {
   "cell_type": "markdown",
   "id": "ebd8e6d9",
   "metadata": {},
   "source": [
    "**Ejemplo 1:**"
   ]
  },
  {
   "cell_type": "code",
   "execution_count": 40,
   "id": "73eb65eb",
   "metadata": {},
   "outputs": [
    {
     "name": "stdout",
     "output_type": "stream",
     "text": [
      "<threading.Semaphore object at 0x7f35e66e7f70>\n",
      "Acquire activado Thread-138\n",
      "1\n",
      "Release activado Thread-138\n",
      "2\n",
      "<threading.Semaphore object at 0x7f35e66e7f70>\n",
      "Acquire activado Thread-139\n",
      "1\n",
      "Release activado Thread-139\n",
      "2\n",
      "Hilo principal finalizado MainThread\n"
     ]
    }
   ],
   "source": [
    "from threading import *\n",
    "\n",
    "semaphore = Semaphore(2)\n",
    "\n",
    "def funsem():\n",
    "    semaphore.acquire()\n",
    "    print(semaphore)\n",
    "    print(\"Acquire activado \" + current_thread().name)\n",
    "    print(semaphore._value)\n",
    "    semaphore.release()\n",
    "    print(\"Release activado \" + current_thread().name)\n",
    "    print(semaphore._value)\n",
    "    \n",
    "t1 = Thread(target=funsem)\n",
    "t2 = Thread(target=funsem)\n",
    "\n",
    "t1.start()\n",
    "t2.start()\n",
    "\n",
    "print(\"Hilo principal finalizado \" + main_thread().name)"
   ]
  },
  {
   "cell_type": "markdown",
   "id": "4c583e42",
   "metadata": {},
   "source": [
    "**Ejemplo 2: **"
   ]
  },
  {
   "cell_type": "code",
   "execution_count": 3,
   "id": "555ee570",
   "metadata": {},
   "outputs": [
    {
     "name": "stdout",
     "output_type": "stream",
     "text": [
      "n* n*Hilo-1\n",
      "Hola- Hilo-2\n",
      "Hola-n*n* Hilo-4\n",
      "Hola- Hilo-3\n",
      "n* Hilo-5\n",
      "Hilo-2Hilo-1\n",
      "Hola-Hola-\n",
      "Hola-Hola-Hilo-4\n",
      "Hola-Hilo-1\n",
      "Hola-Hilo-3\n",
      "Hola-Hilo-2\n",
      "Hilo-5Hola-\n",
      "Hilo-4Hola-\n",
      "Hola-Hilo-3Hilo-1\n",
      "Hola-\n",
      "Hola-Hilo-2\n",
      "Hola-Hilo-5Hilo-4\n",
      "Hola-\n",
      "Hola-Hilo-1\n",
      "Hola-Hilo-3\n",
      "Hola-Hilo-2\n",
      "Hola-Hilo-4Hilo-5\n",
      "Hola-\n",
      "Hola-Hilo-1\n",
      "Hilo-3\n",
      "Hola-Hilo-2\n",
      "Hilo-4Hilo-5\n",
      "Hola-\n",
      "Hilo-3\n",
      "Hilo-5\n",
      "Fin de la ejecución\n"
     ]
    }
   ],
   "source": [
    "# importa modulos\n",
    "from threading import *\n",
    "import time\n",
    "\n",
    "# crea un semaforo con n=2 \n",
    "\n",
    "sem = Semaphore(3)\n",
    "\n",
    "# crea tareas para los threads\n",
    "def despliega(nombre):\n",
    "\n",
    "    # llama al método adquire()\n",
    "    print('n*',nombre)\n",
    "    sem.acquire()\n",
    "    for i in range(5):\n",
    "        print('Hola-', end = '')\n",
    "        time.sleep(1)\n",
    "        print(nombre)\n",
    "\n",
    "        # llama al método release()\n",
    "        sem.release()\n",
    "\n",
    "# crea múltiples threads\n",
    "t1 = Thread(target = despliega , args = ('Hilo-1',))\n",
    "t2 = Thread(target = despliega , args = ('Hilo-2',))\n",
    "t3 = Thread(target = despliega , args = ('Hilo-3',))\n",
    "t4 = Thread(target = despliega , args = ('Hilo-4',))\n",
    "t5 = Thread(target = despliega , args = ('Hilo-5',))\n",
    "\n",
    "# inicia los threads\n",
    "t1.start()\n",
    "t2.start()\n",
    "t3.start()\n",
    "t4.start()\n",
    "t5.start()\n",
    "\n",
    "t1.join()\n",
    "t2.join()\n",
    "t3.join()\n",
    "t4.join()\n",
    "t5.join()\n",
    "\n",
    "print(\"Fin de la ejecución\")"
   ]
  },
  {
   "cell_type": "markdown",
   "id": "38dc3206",
   "metadata": {},
   "source": [
    "En el ejemplo se crea un semáforo que permite el acceso a 3 hilo a la vez. El método `despliega()` escribe el nombre del hilo 5 veces. Se crean 5 hiloss y se inician con método `start ()`, en ese momento 3 hilos pueden acceder al objeto `Semaphore` y, por lo tanto, solo 3 hilos puedrán ejecutar el método `despliega()` a la vez."
   ]
  },
  {
   "cell_type": "markdown",
   "id": "841cda88",
   "metadata": {},
   "source": [
    "Para un semáforo se puede invocar `release()` mas veces que se `acquire()`, esto elevará su contador por encima del valor inicial. Un **semáforo acotado**, `BoundedSemaphore`, impide que el valor del semáforo se eleve por encima del valor inicial."
   ]
  },
  {
   "cell_type": "markdown",
   "id": "ca5ff4c8",
   "metadata": {},
   "source": [
    "**Ejemplo 3:**"
   ]
  },
  {
   "cell_type": "code",
   "execution_count": 44,
   "id": "c06e1fd5",
   "metadata": {},
   "outputs": [
    {
     "name": "stdout",
     "output_type": "stream",
     "text": [
      "Thread0acquire activado\n",
      "Thread1acquire activado\n",
      "Thread2acquire activado\n",
      "Thread0release activado\n",
      "Thread3acquire activado\n",
      "Thread1release activadoThread4acquire activado\n",
      "\n",
      "Thread2release activado\n",
      "Thread3release activado\n",
      "Thread4release activado\n"
     ]
    }
   ],
   "source": [
    "from threading import *\n",
    "import time\n",
    "\n",
    "var = 3\n",
    "semb = BoundedSemaphore(value = var)\n",
    "\n",
    "def uno():\n",
    "    semb.acquire()\n",
    "    print(current_thread().name + \"acquire activado\")\n",
    "    time.sleep(0.5)\n",
    "    semb.release()\n",
    "    print(current_thread().name + \"release activado\")\n",
    "\n",
    "semb_nombre = []\n",
    "for i in range(0,5):\n",
    "    semb_nombre = Thread(name=\"Thread\" + str(i), target=uno)\n",
    "    semb_nombre.start()"
   ]
  },
  {
   "cell_type": "code",
   "execution_count": null,
   "id": "8f593e90",
   "metadata": {},
   "outputs": [],
   "source": []
  }
 ],
 "metadata": {
  "kernelspec": {
   "display_name": "Python 3",
   "language": "python",
   "name": "python3"
  },
  "language_info": {
   "codemirror_mode": {
    "name": "ipython",
    "version": 3
   },
   "file_extension": ".py",
   "mimetype": "text/x-python",
   "name": "python",
   "nbconvert_exporter": "python",
   "pygments_lexer": "ipython3",
   "version": "3.8.8"
  }
 },
 "nbformat": 4,
 "nbformat_minor": 5
}
